{
 "cells": [
  {
   "cell_type": "code",
   "execution_count": 154,
   "metadata": {},
   "outputs": [
    {
     "name": "stdout",
     "output_type": "stream",
     "text": [
      "Requirement already satisfied: textblob in /home/ec2-user/anaconda3/envs/tensorflow_p36/lib/python3.6/site-packages (0.15.2)\n",
      "Requirement already satisfied: nltk>=3.1 in /home/ec2-user/anaconda3/envs/tensorflow_p36/lib/python3.6/site-packages (from textblob) (3.3)\n",
      "Requirement already satisfied: six in /home/ec2-user/anaconda3/envs/tensorflow_p36/lib/python3.6/site-packages (from nltk>=3.1->textblob) (1.11.0)\n",
      "\u001b[33mYou are using pip version 10.0.1, however version 18.1 is available.\n",
      "You should consider upgrading via the 'pip install --upgrade pip' command.\u001b[0m\n",
      "Requirement already satisfied: gensim in /home/ec2-user/anaconda3/envs/tensorflow_p36/lib/python3.6/site-packages (3.6.0)\n",
      "Requirement already satisfied: scipy>=0.18.1 in /home/ec2-user/anaconda3/envs/tensorflow_p36/lib/python3.6/site-packages (from gensim) (1.1.0)\n",
      "Requirement already satisfied: smart-open>=1.2.1 in /home/ec2-user/anaconda3/envs/tensorflow_p36/lib/python3.6/site-packages (from gensim) (1.7.1)\n",
      "Requirement already satisfied: six>=1.5.0 in /home/ec2-user/anaconda3/envs/tensorflow_p36/lib/python3.6/site-packages (from gensim) (1.11.0)\n",
      "Requirement already satisfied: numpy>=1.11.3 in /home/ec2-user/anaconda3/envs/tensorflow_p36/lib/python3.6/site-packages (from gensim) (1.14.5)\n",
      "Requirement already satisfied: boto>=2.32 in /home/ec2-user/anaconda3/envs/tensorflow_p36/lib/python3.6/site-packages (from smart-open>=1.2.1->gensim) (2.48.0)\n",
      "Requirement already satisfied: requests in /home/ec2-user/anaconda3/envs/tensorflow_p36/lib/python3.6/site-packages (from smart-open>=1.2.1->gensim) (2.20.1)\n",
      "Requirement already satisfied: bz2file in /home/ec2-user/anaconda3/envs/tensorflow_p36/lib/python3.6/site-packages (from smart-open>=1.2.1->gensim) (0.98)\n",
      "Requirement already satisfied: boto3 in /home/ec2-user/anaconda3/envs/tensorflow_p36/lib/python3.6/site-packages (from smart-open>=1.2.1->gensim) (1.9.69)\n",
      "Requirement already satisfied: chardet<3.1.0,>=3.0.2 in /home/ec2-user/anaconda3/envs/tensorflow_p36/lib/python3.6/site-packages (from requests->smart-open>=1.2.1->gensim) (3.0.4)\n",
      "Requirement already satisfied: urllib3<1.25,>=1.21.1 in /home/ec2-user/anaconda3/envs/tensorflow_p36/lib/python3.6/site-packages (from requests->smart-open>=1.2.1->gensim) (1.22)\n",
      "Requirement already satisfied: certifi>=2017.4.17 in /home/ec2-user/anaconda3/envs/tensorflow_p36/lib/python3.6/site-packages (from requests->smart-open>=1.2.1->gensim) (2018.8.24)\n",
      "Requirement already satisfied: idna<2.8,>=2.5 in /home/ec2-user/anaconda3/envs/tensorflow_p36/lib/python3.6/site-packages (from requests->smart-open>=1.2.1->gensim) (2.6)\n",
      "Requirement already satisfied: botocore<1.13.0,>=1.12.69 in /home/ec2-user/anaconda3/envs/tensorflow_p36/lib/python3.6/site-packages (from boto3->smart-open>=1.2.1->gensim) (1.12.69)\n",
      "Requirement already satisfied: jmespath<1.0.0,>=0.7.1 in /home/ec2-user/anaconda3/envs/tensorflow_p36/lib/python3.6/site-packages (from boto3->smart-open>=1.2.1->gensim) (0.9.3)\n",
      "Requirement already satisfied: s3transfer<0.2.0,>=0.1.10 in /home/ec2-user/anaconda3/envs/tensorflow_p36/lib/python3.6/site-packages (from boto3->smart-open>=1.2.1->gensim) (0.1.13)\n",
      "Requirement already satisfied: docutils>=0.10 in /home/ec2-user/anaconda3/envs/tensorflow_p36/lib/python3.6/site-packages (from botocore<1.13.0,>=1.12.69->boto3->smart-open>=1.2.1->gensim) (0.14)\n",
      "Requirement already satisfied: python-dateutil<3.0.0,>=2.1; python_version >= \"2.7\" in /home/ec2-user/anaconda3/envs/tensorflow_p36/lib/python3.6/site-packages (from botocore<1.13.0,>=1.12.69->boto3->smart-open>=1.2.1->gensim) (2.7.3)\n",
      "\u001b[33mYou are using pip version 10.0.1, however version 18.1 is available.\n",
      "You should consider upgrading via the 'pip install --upgrade pip' command.\u001b[0m\n",
      "[nltk_data] Downloading package punkt to /home/ec2-user/nltk_data...\n",
      "[nltk_data]   Package punkt is already up-to-date!\n",
      "[nltk_data] Downloading package stopwords to\n",
      "[nltk_data]     /home/ec2-user/nltk_data...\n",
      "[nltk_data]   Package stopwords is already up-to-date!\n"
     ]
    }
   ],
   "source": [
    "!pip install textblob\n",
    "!pip install gensim\n",
    "\n",
    "from __future__ import division, print_function\n",
    "from keras.callbacks import ModelCheckpoint\n",
    "from keras.layers.embeddings import Embedding\n",
    "from keras.layers.recurrent import LSTM\n",
    "from keras.layers.merge import Add\n",
    "from keras.models import Sequential\n",
    "from sklearn.model_selection import train_test_split\n",
    "\n",
    "import numpy as np, pandas as pd\n",
    "import os\n",
    "\n",
    "from keras.models import model_from_json\n",
    "from keras.preprocessing.sequence import pad_sequences\n",
    "import nltk\n",
    "nltk.download('punkt')\n",
    "import numpy as np\n",
    "import collections\n",
    "import os\n",
    "import pickle\n",
    "from textblob import TextBlob\n",
    "import re\n",
    "nltk.download('stopwords')\n",
    "stop = set(stopwords.words('english'))\n",
    "import matplotlib.pyplot as plt"
   ]
  },
  {
   "cell_type": "code",
   "execution_count": 82,
   "metadata": {},
   "outputs": [],
   "source": [
    "DATA_DIR = \"InferSent/encoder/data\"\n",
    "EMBED_SIZE = 4096\n",
    "QA_TRAIN_FILE = \"train.tsv\"\n",
    "QA_EMBED_SIZE = 64\n",
    "BATCH_SIZE = 32\n",
    "NBR_EPOCHS = 20\n",
    "vocab_size = 5467"
   ]
  },
  {
   "cell_type": "markdown",
   "metadata": {},
   "source": [
    "#####Pre-processing the data"
   ]
  },
  {
   "cell_type": "code",
   "execution_count": 83,
   "metadata": {},
   "outputs": [
    {
     "data": {
      "text/html": [
       "<div>\n",
       "<style scoped>\n",
       "    .dataframe tbody tr th:only-of-type {\n",
       "        vertical-align: middle;\n",
       "    }\n",
       "\n",
       "    .dataframe tbody tr th {\n",
       "        vertical-align: top;\n",
       "    }\n",
       "\n",
       "    .dataframe thead th {\n",
       "        text-align: right;\n",
       "    }\n",
       "</style>\n",
       "<table border=\"1\" class=\"dataframe\">\n",
       "  <thead>\n",
       "    <tr style=\"text-align: right;\">\n",
       "      <th></th>\n",
       "      <th>ID</th>\n",
       "      <th>Question Stem</th>\n",
       "      <th>Choices</th>\n",
       "      <th>Complete Question</th>\n",
       "      <th>Answer Key</th>\n",
       "    </tr>\n",
       "  </thead>\n",
       "  <tbody>\n",
       "    <tr>\n",
       "      <th>0</th>\n",
       "      <td>7-980</td>\n",
       "      <td>The sun is responsible for</td>\n",
       "      <td>(A) puppies learning new tricks (B) children g...</td>\n",
       "      <td>The sun is responsible for (A) puppies learnin...</td>\n",
       "      <td>D</td>\n",
       "    </tr>\n",
       "    <tr>\n",
       "      <th>1</th>\n",
       "      <td>7-584</td>\n",
       "      <td>When standing miles away from Mount Rushmore</td>\n",
       "      <td>(A) the mountains seem very close (B) the moun...</td>\n",
       "      <td>When standing miles away from Mount Rushmore (...</td>\n",
       "      <td>D</td>\n",
       "    </tr>\n",
       "    <tr>\n",
       "      <th>2</th>\n",
       "      <td>7-870</td>\n",
       "      <td>When food is reduced in the stomach</td>\n",
       "      <td>(A) the mind needs time to digest (B) take a s...</td>\n",
       "      <td>When food is reduced in the stomach (A) the mi...</td>\n",
       "      <td>C</td>\n",
       "    </tr>\n",
       "  </tbody>\n",
       "</table>\n",
       "</div>"
      ],
      "text/plain": [
       "      ID                                 Question Stem  \\\n",
       "0  7-980                    The sun is responsible for   \n",
       "1  7-584  When standing miles away from Mount Rushmore   \n",
       "2  7-870           When food is reduced in the stomach   \n",
       "\n",
       "                                             Choices  \\\n",
       "0  (A) puppies learning new tricks (B) children g...   \n",
       "1  (A) the mountains seem very close (B) the moun...   \n",
       "2  (A) the mind needs time to digest (B) take a s...   \n",
       "\n",
       "                                   Complete Question Answer Key  \n",
       "0  The sun is responsible for (A) puppies learnin...          D  \n",
       "1  When standing miles away from Mount Rushmore (...          D  \n",
       "2  When food is reduced in the stomach (A) the mi...          C  "
      ]
     },
     "execution_count": 83,
     "metadata": {},
     "output_type": "execute_result"
    }
   ],
   "source": [
    "train = pd.read_csv(\"InferSent/encoder/data/train.tsv\",sep='\\t')\n",
    "train.head(3)"
   ]
  },
  {
   "cell_type": "code",
   "execution_count": 84,
   "metadata": {},
   "outputs": [
    {
     "name": "stderr",
     "output_type": "stream",
     "text": [
      "/home/ec2-user/anaconda3/envs/tensorflow_p36/lib/python3.6/site-packages/ipykernel/__main__.py:5: FutureWarning: set_value is deprecated and will be removed in a future release. Please use .at[] or .iat[] accessors instead\n",
      "/home/ec2-user/anaconda3/envs/tensorflow_p36/lib/python3.6/site-packages/ipykernel/__main__.py:6: FutureWarning: set_value is deprecated and will be removed in a future release. Please use .at[] or .iat[] accessors instead\n",
      "/home/ec2-user/anaconda3/envs/tensorflow_p36/lib/python3.6/site-packages/ipykernel/__main__.py:7: FutureWarning: set_value is deprecated and will be removed in a future release. Please use .at[] or .iat[] accessors instead\n",
      "/home/ec2-user/anaconda3/envs/tensorflow_p36/lib/python3.6/site-packages/ipykernel/__main__.py:8: FutureWarning: set_value is deprecated and will be removed in a future release. Please use .at[] or .iat[] accessors instead\n",
      "/home/ec2-user/anaconda3/envs/tensorflow_p36/lib/python3.6/site-packages/ipykernel/__main__.py:21: FutureWarning: set_value is deprecated and will be removed in a future release. Please use .at[] or .iat[] accessors instead\n",
      "/home/ec2-user/anaconda3/envs/tensorflow_p36/lib/python3.6/site-packages/ipykernel/__main__.py:19: FutureWarning: set_value is deprecated and will be removed in a future release. Please use .at[] or .iat[] accessors instead\n",
      "/home/ec2-user/anaconda3/envs/tensorflow_p36/lib/python3.6/site-packages/ipykernel/__main__.py:15: FutureWarning: set_value is deprecated and will be removed in a future release. Please use .at[] or .iat[] accessors instead\n",
      "/home/ec2-user/anaconda3/envs/tensorflow_p36/lib/python3.6/site-packages/ipykernel/__main__.py:17: FutureWarning: set_value is deprecated and will be removed in a future release. Please use .at[] or .iat[] accessors instead\n"
     ]
    }
   ],
   "source": [
    "#Create new features from the answer choices  \n",
    "for index, row in train.iterrows():\n",
    "    ans = re.split(\"(\\([A-Z]\\))\", row['Choices'])\n",
    "    ans.remove('')\n",
    "    train.set_value(index,'OptionA',ans[1])\n",
    "    train.set_value(index,'OptionB',ans[3])\n",
    "    train.set_value(index,'OptionC',ans[5])\n",
    "    train.set_value(index,'OptionD',ans[7])\n",
    "    \n",
    "#Find the answer key and replace it with the value   \n",
    "for index, row in train.iterrows():\n",
    "    ans = re.split(\"(\\([A-Z]\\))\", row['Choices'])\n",
    "    ans.remove('')\n",
    "    if row['Answer Key'] == 'A':\n",
    "        train.set_value(index,'Result',ans[1])\n",
    "    elif row['Answer Key'] == 'B':\n",
    "        train.set_value(index,'Result',ans[3])\n",
    "    elif row['Answer Key'] == 'C':\n",
    "        train.set_value(index,'Result',ans[5])\n",
    "    elif row['Answer Key'] == 'D':\n",
    "        train.set_value(index,'Result',ans[7])     "
   ]
  },
  {
   "cell_type": "code",
   "execution_count": 85,
   "metadata": {},
   "outputs": [],
   "source": [
    "train = train.drop(['ID', 'Choices', 'Complete Question','Answer Key'], axis=1)"
   ]
  },
  {
   "cell_type": "code",
   "execution_count": 86,
   "metadata": {},
   "outputs": [
    {
     "data": {
      "text/html": [
       "<div>\n",
       "<style scoped>\n",
       "    .dataframe tbody tr th:only-of-type {\n",
       "        vertical-align: middle;\n",
       "    }\n",
       "\n",
       "    .dataframe tbody tr th {\n",
       "        vertical-align: top;\n",
       "    }\n",
       "\n",
       "    .dataframe thead th {\n",
       "        text-align: right;\n",
       "    }\n",
       "</style>\n",
       "<table border=\"1\" class=\"dataframe\">\n",
       "  <thead>\n",
       "    <tr style=\"text-align: right;\">\n",
       "      <th></th>\n",
       "      <th>Question Stem</th>\n",
       "      <th>OptionA</th>\n",
       "      <th>OptionB</th>\n",
       "      <th>OptionC</th>\n",
       "      <th>OptionD</th>\n",
       "      <th>Result</th>\n",
       "    </tr>\n",
       "  </thead>\n",
       "  <tbody>\n",
       "    <tr>\n",
       "      <th>0</th>\n",
       "      <td>The sun is responsible for</td>\n",
       "      <td>puppies learning new tricks</td>\n",
       "      <td>children growing up and getting old</td>\n",
       "      <td>flowers wilting in a vase</td>\n",
       "      <td>plants sprouting, blooming and wilting</td>\n",
       "      <td>plants sprouting, blooming and wilting</td>\n",
       "    </tr>\n",
       "    <tr>\n",
       "      <th>1</th>\n",
       "      <td>When standing miles away from Mount Rushmore</td>\n",
       "      <td>the mountains seem very close</td>\n",
       "      <td>the mountains are boring</td>\n",
       "      <td>the mountains look the same as from up close</td>\n",
       "      <td>the mountains seem smaller than in photographs</td>\n",
       "      <td>the mountains seem smaller than in photographs</td>\n",
       "    </tr>\n",
       "    <tr>\n",
       "      <th>2</th>\n",
       "      <td>When food is reduced in the stomach</td>\n",
       "      <td>the mind needs time to digest</td>\n",
       "      <td>take a second to digest what I said</td>\n",
       "      <td>nutrients are being deconstructed</td>\n",
       "      <td>reader's digest is a body of works</td>\n",
       "      <td>nutrients are being deconstructed</td>\n",
       "    </tr>\n",
       "  </tbody>\n",
       "</table>\n",
       "</div>"
      ],
      "text/plain": [
       "                                  Question Stem  \\\n",
       "0                    The sun is responsible for   \n",
       "1  When standing miles away from Mount Rushmore   \n",
       "2           When food is reduced in the stomach   \n",
       "\n",
       "                           OptionA                                OptionB  \\\n",
       "0     puppies learning new tricks    children growing up and getting old    \n",
       "1   the mountains seem very close               the mountains are boring    \n",
       "2   the mind needs time to digest    take a second to digest what I said    \n",
       "\n",
       "                                          OptionC  \\\n",
       "0                      flowers wilting in a vase    \n",
       "1   the mountains look the same as from up close    \n",
       "2              nutrients are being deconstructed    \n",
       "\n",
       "                                           OptionD  \\\n",
       "0           plants sprouting, blooming and wilting   \n",
       "1   the mountains seem smaller than in photographs   \n",
       "2               reader's digest is a body of works   \n",
       "\n",
       "                                            Result  \n",
       "0           plants sprouting, blooming and wilting  \n",
       "1   the mountains seem smaller than in photographs  \n",
       "2               nutrients are being deconstructed   "
      ]
     },
     "execution_count": 86,
     "metadata": {},
     "output_type": "execute_result"
    }
   ],
   "source": [
    "train.head(3)"
   ]
  },
  {
   "cell_type": "code",
   "execution_count": 91,
   "metadata": {},
   "outputs": [
    {
     "name": "stdout",
     "output_type": "stream",
     "text": [
      "(1488, 1) (1488, 1) (3469, 4) (1488, 4) (3469,) (1488,)\n"
     ]
    }
   ],
   "source": [
    "#Split question, candidate answers and right answer to test and train data \n",
    "X_Question = train[train.columns[0:1]]\n",
    "X_Answers = train[train.columns[1:5]]\n",
    "Y = train.iloc[:,-1]\n",
    "X_Question_train, X_Question_train,X_Answers_train,X_Answers_test,Y_train, Y_test = train_test_split(X_Question,X_Answers,Y, test_size=0.30)\n",
    "print(X_Question_train.shape ,X_Question_train.shape, X_Answers_train.shape, X_Answers_test.shape,Y_train.shape,Y_test.shape)"
   ]
  },
  {
   "cell_type": "code",
   "execution_count": 100,
   "metadata": {},
   "outputs": [
    {
     "name": "stdout",
     "output_type": "stream",
     "text": [
      "4957\n"
     ]
    }
   ],
   "source": [
    "question_maxlen = max([len(X_Question) for q in X_Question])\n",
    "answer_maxlen = max([len(X_Answers) for a in X_Answers])\n",
    "seq_maxlen = max([question_maxlen, answer_maxlen])\n",
    "print(seq_maxlen)"
   ]
  },
  {
   "cell_type": "code",
   "execution_count": null,
   "metadata": {},
   "outputs": [],
   "source": [
    "embeddings_index = dict()\n",
    "f = open('InferSent/dataset/GloVe/glove.840B.300d.txt')\n",
    "for line in f:\n",
    "    values = line.split(' ')\n",
    "    word = values[0] ## The first entry is the word\n",
    "    coefs = np.asarray(values[1:], dtype='float32') ## These are the vecotrs representing the embedding for the word\n",
    "    embeddings_index[word] = coefs\n",
    "f.close()\n",
    "\n",
    "print('GloVe data loaded')"
   ]
  },
  {
   "cell_type": "code",
   "execution_count": 128,
   "metadata": {},
   "outputs": [
    {
     "name": "stdout",
     "output_type": "stream",
     "text": [
      "[['sun', 'responsible'], ['standing', 'miles', 'away', 'mount', 'rushmore'], ['food', 'reduced', 'stomach'], ['stars'], ['make', 'telescope']]\n"
     ]
    }
   ],
   "source": [
    "## Iterate over the data to preprocess by removing stopwords\n",
    "lines_without_stopwords=[] \n",
    "for line in train['Question Stem'].values: \n",
    "    line = line.lower()\n",
    "    line_by_words = re.findall(r'(?:\\w+)', line, flags = re.UNICODE) # remove punctuation ans split\n",
    "    new_line=[]\n",
    "    for word in line_by_words:\n",
    "        if word not in stop:\n",
    "            new_line.append(word)\n",
    "    lines_without_stopwords.append(new_line)\n",
    "texts = lines_without_stopwords\n"
   ]
  },
  {
   "cell_type": "code",
   "execution_count": 151,
   "metadata": {},
   "outputs": [],
   "source": [
    "from numpy import array\n",
    "from numpy import asarray\n",
    "from numpy import zeros\n",
    "from keras.preprocessing.text import Tokenizer\n",
    "from keras.preprocessing.sequence import pad_sequences\n",
    "from keras.models import Sequential\n",
    "from keras.layers import Dense\n",
    "from keras.layers import Flatten\n",
    "from keras.layers import Embedding\n",
    "from keras.initializers import Constant"
   ]
  },
  {
   "cell_type": "code",
   "execution_count": 157,
   "metadata": {},
   "outputs": [
    {
     "name": "stdout",
     "output_type": "stream",
     "text": [
      "Found 5466 unique tokens.\n",
      "5466\n"
     ]
    }
   ],
   "source": [
    "train = pd.read_csv(\"InferSent/encoder/data/train.tsv\",sep='\\t')\n",
    "\n",
    "MAX_NUM_WORDS = 10000\n",
    "MAX_SEQUENCE_LENGTH = 15\n",
    "t = Tokenizer(num_words=MAX_NUM_WORDS)\n",
    "t.fit_on_texts(train['Question Stem'])\n",
    "word_index = t.word_index\n",
    "print('Found %s unique tokens.' % len(word_index)) \n",
    "\n",
    "# integer encode the questions\n",
    "encoded_docs = t.texts_to_sequences(train['Question Stem'])\n",
    "# pad documents to a max length of 100 words\n",
    "padded_docs = pad_sequences(encoded_docs, maxlen=MAX_SEQUENCE_LENGTH, padding='post')\n",
    "print(vocab_size)\n",
    "\n",
    "## EMBEDDING_DIM =  ## seems to need to match the embeddings_index dimension\n",
    "EMBEDDING_DIM = embeddings_index.get('a').shape[0]\n",
    "num_words = min(MAX_NUM_WORDS, len(word_index)) + 1\n",
    "embedding_matrix = np.zeros((num_words, EMBEDDING_DIM))\n",
    "\n",
    "\n",
    "for word, i in word_index.items():\n",
    "    if i > MAX_NUM_WORDS:\n",
    "        continue\n",
    "    embedding_vector = embeddings_index.get(word) ## This references the loaded embeddings dictionary\n",
    "    if embedding_vector is not None:\n",
    "        # words not found in embedding index will be all-zeros.\n",
    "        embedding_matrix[i] = embedding_vector\n",
    "    \n"
   ]
  },
  {
   "cell_type": "code",
   "execution_count": 158,
   "metadata": {},
   "outputs": [],
   "source": []
  },
  {
   "cell_type": "code",
   "execution_count": 159,
   "metadata": {},
   "outputs": [],
   "source": [
    "# load pre-trained word embeddings into an Embedding layer\n",
    "# note that we set trainable = False so as to keep the embeddings fixed\n",
    "embedding_layer_questions = Embedding(num_words,\n",
    "                            EMBEDDING_DIM,\n",
    "                            embeddings_initializer=Constant(embedding_matrix),\n",
    "                            input_length=MAX_SEQUENCE_LENGTH,\n",
    "                            trainable=False)"
   ]
  },
  {
   "cell_type": "code",
   "execution_count": 160,
   "metadata": {},
   "outputs": [
    {
     "name": "stdout",
     "output_type": "stream",
     "text": [
      "(5467, 300)\n"
     ]
    },
    {
     "data": {
      "text/plain": [
       "Text(0.5,1,'example vectors')"
      ]
     },
     "execution_count": 160,
     "metadata": {},
     "output_type": "execute_result"
    },
    {
     "data": {
      "image/png": "[encoded data removed]",
      "text/plain": [
       "<Figure size 432x288 with 1 Axes>"
      ]
     },
     "metadata": {},
     "output_type": "display_data"
    }
   ],
   "source": [
    "print(embedding_matrix.shape)\n",
    "plt.plot(embedding_matrix[16])\n",
    "plt.plot(embedding_matrix[37])\n",
    "plt.plot(embedding_matrix[18])\n",
    "plt.title('example vectors')"
   ]
  },
  {
   "cell_type": "code",
   "execution_count": 303,
   "metadata": {},
   "outputs": [],
   "source": [
    "## extract data\n",
    "question_maxlen = max([len(question)])\n",
    "answer_maxlen = max([len(answers)])\n",
    "seq_maxlen = max([question_maxlen, answer_maxlen])\n"
   ]
  },
  {
   "cell_type": "code",
   "execution_count": 304,
   "metadata": {},
   "outputs": [
    {
     "data": {
      "text/plain": [
       "dict"
      ]
     },
     "execution_count": 304,
     "metadata": {},
     "output_type": "execute_result"
    }
   ],
   "source": [
    "with open(\"InferSent/encoder/data/dict_embeddings.pickle\", \"rb\") as f:\n",
    "    d_context_embeddings = pickle.load(f)\n",
    "with open(\"InferSent/encoder/data/dict_embeddings_questions.pickle\", \"rb\") as f:\n",
    "    d_question_embeddings = pickle.load(f)    \n",
    "        \n",
    "dict_context_emb = dict(d_context_embeddings)\n",
    "dict_question_emb = dict(d_question_embeddings)  \n",
    "\n",
    "len(dict_context_emb), len(dict_question_emb)\n",
    "type(d_context_embeddings)"
   ]
  },
  {
   "cell_type": "code",
   "execution_count": 305,
   "metadata": {},
   "outputs": [],
   "source": [
    "del d_context_embeddings, d_question_embeddings"
   ]
  },
  {
   "cell_type": "code",
   "execution_count": 306,
   "metadata": {},
   "outputs": [],
   "source": [
    "file=open('InferSent/encoder/data/openbook.txt')\n",
    "t=file.read()\n",
    "blob = TextBlob(t)\n",
    "context=[]\n",
    "\n",
    "for sentence in blob.sentences:\n",
    "    word = str(sentence)\n",
    "    context.append(word)"
   ]
  },
  {
   "cell_type": "code",
   "execution_count": 307,
   "metadata": {},
   "outputs": [
    {
     "name": "stdout",
     "output_type": "stream",
     "text": [
      "Found 5466 unique tokens.\n",
      "Shape of data tensor: (4957, 32)\n"
     ]
    }
   ],
   "source": [
    "from keras.preprocessing.text import Tokenizer\n",
    "from keras.preprocessing.sequence import pad_sequences\n",
    "\n",
    "tokenizer = Tokenizer(num_words=2000)\n",
    "tokenizer.fit_on_texts(question)\n",
    "sequences = tokenizer.texts_to_sequences(question)\n",
    "\n",
    "word_index = tokenizer.word_index\n",
    "print('Found %s unique tokens.' % len(word_index))\n",
    "\n",
    "data = pad_sequences(sequences, maxlen=32)\n",
    "#labels = to_categorical(np.asarray(labels))\n",
    "print('Shape of data tensor:', data.shape)\n",
    "#print('Shape of label tensor:', labels.shape)\n",
    "\n",
    "\n"
   ]
  },
  {
   "cell_type": "code",
   "execution_count": 340,
   "metadata": {},
   "outputs": [
    {
     "name": "stdout",
     "output_type": "stream",
     "text": [
      "Found 1820 unique tokens.\n",
      "Shape of data tensor: (1, 32)\n"
     ]
    }
   ],
   "source": [
    "sent_tokenizer = Tokenizer(num_words=2000)\n",
    "sent_tokenizer.fit_on_texts(context)\n",
    "sent_sequences = sent_tokenizer.texts_to_sequences(context)\n",
    "context_index = sent_tokenizer.word_index\n",
    "print('Found %s unique tokens.' % len(context_index))\n",
    "\n",
    "data_sent = pad_sequences(sent_sequences, maxlen=32)\n",
    "print('Shape of data tensor:', data_sent.shape)"
   ]
  },
  {
   "cell_type": "code",
   "execution_count": 309,
   "metadata": {},
   "outputs": [
    {
     "name": "stdout",
     "output_type": "stream",
     "text": [
      "1326\n"
     ]
    }
   ],
   "source": [
    "print(len(dict_context_emb))"
   ]
  },
  {
   "cell_type": "code",
   "execution_count": 339,
   "metadata": {},
   "outputs": [
    {
     "name": "stdout",
     "output_type": "stream",
     "text": [
      "(5467, 4096)\n",
      "[[ 0.05154599  0.03336649 -0.00507977 ... -0.03438394 -0.03814263\n",
      "  -0.02892259]\n",
      " [ 0.0456758   0.02630292 -0.03044511 ... -0.01786458 -0.03814263\n",
      "  -0.02892259]\n",
      " [ 0.12085862  0.0785711   0.05753665 ...  0.01377686 -0.03814263\n",
      "  -0.02892259]\n",
      " ...\n",
      " [ 0.          0.          0.         ...  0.          0.\n",
      "   0.        ]\n",
      " [ 0.          0.          0.         ...  0.          0.\n",
      "   0.        ]\n",
      " [ 0.          0.          0.         ...  0.          0.\n",
      "   0.        ]]\n"
     ]
    }
   ],
   "source": [
    "embedding_matrix = np.zeros((len(word_index) + 1, 4096))\n",
    "for index, row in train.iterrows():\n",
    "    word = row[1]\n",
    "    embedding_vector = dict_question_emb.get(word)\n",
    "    if embedding_vector is not None:\n",
    "        # words not found in embedding index will be all-zeros.\n",
    "        embedding_matrix[index] = embedding_vector\n",
    "print(embedding_matrix.shape)\n",
    "print(embedding_matrix)"
   ]
  },
  {
   "cell_type": "code",
   "execution_count": 329,
   "metadata": {},
   "outputs": [
    {
     "data": {
      "text/html": [
       "<div>\n",
       "<style scoped>\n",
       "    .dataframe tbody tr th:only-of-type {\n",
       "        vertical-align: middle;\n",
       "    }\n",
       "\n",
       "    .dataframe tbody tr th {\n",
       "        vertical-align: top;\n",
       "    }\n",
       "\n",
       "    .dataframe thead th {\n",
       "        text-align: right;\n",
       "    }\n",
       "</style>\n",
       "<table border=\"1\" class=\"dataframe\">\n",
       "  <thead>\n",
       "    <tr style=\"text-align: right;\">\n",
       "      <th></th>\n",
       "      <th>ID</th>\n",
       "      <th>Question Stem</th>\n",
       "      <th>Choices</th>\n",
       "      <th>Complete Question</th>\n",
       "      <th>Answer Key</th>\n",
       "      <th>sentences</th>\n",
       "    </tr>\n",
       "  </thead>\n",
       "  <tbody>\n",
       "    <tr>\n",
       "      <th>0</th>\n",
       "      <td>7-980</td>\n",
       "      <td>The sun is responsible for</td>\n",
       "      <td>(A) puppies learning new tricks (B) children g...</td>\n",
       "      <td>The sun is responsible for (A) puppies learnin...</td>\n",
       "      <td>D</td>\n",
       "      <td>\"A bee is a pollinating animal\"\\n\"A bird is a ...</td>\n",
       "    </tr>\n",
       "    <tr>\n",
       "      <th>1</th>\n",
       "      <td>7-584</td>\n",
       "      <td>When standing miles away from Mount Rushmore</td>\n",
       "      <td>(A) the mountains seem very close (B) the moun...</td>\n",
       "      <td>When standing miles away from Mount Rushmore (...</td>\n",
       "      <td>D</td>\n",
       "      <td>\"A bee is a pollinating animal\"\\n\"A bird is a ...</td>\n",
       "    </tr>\n",
       "    <tr>\n",
       "      <th>2</th>\n",
       "      <td>7-870</td>\n",
       "      <td>When food is reduced in the stomach</td>\n",
       "      <td>(A) the mind needs time to digest (B) take a s...</td>\n",
       "      <td>When food is reduced in the stomach (A) the mi...</td>\n",
       "      <td>C</td>\n",
       "      <td>\"A bee is a pollinating animal\"\\n\"A bird is a ...</td>\n",
       "    </tr>\n",
       "  </tbody>\n",
       "</table>\n",
       "</div>"
      ],
      "text/plain": [
       "      ID                                 Question Stem  \\\n",
       "0  7-980                    The sun is responsible for   \n",
       "1  7-584  When standing miles away from Mount Rushmore   \n",
       "2  7-870           When food is reduced in the stomach   \n",
       "\n",
       "                                             Choices  \\\n",
       "0  (A) puppies learning new tricks (B) children g...   \n",
       "1  (A) the mountains seem very close (B) the moun...   \n",
       "2  (A) the mind needs time to digest (B) take a s...   \n",
       "\n",
       "                                   Complete Question Answer Key  \\\n",
       "0  The sun is responsible for (A) puppies learnin...          D   \n",
       "1  When standing miles away from Mount Rushmore (...          D   \n",
       "2  When food is reduced in the stomach (A) the mi...          C   \n",
       "\n",
       "                                           sentences  \n",
       "0  \"A bee is a pollinating animal\"\\n\"A bird is a ...  \n",
       "1  \"A bee is a pollinating animal\"\\n\"A bird is a ...  \n",
       "2  \"A bee is a pollinating animal\"\\n\"A bird is a ...  "
      ]
     },
     "execution_count": 329,
     "metadata": {},
     "output_type": "execute_result"
    }
   ],
   "source": [
    "for i in range(len(context)):\n",
    "    train['sentences'] = context[i]\n",
    "train.head(3)    "
   ]
  },
  {
   "cell_type": "code",
   "execution_count": 341,
   "metadata": {},
   "outputs": [
    {
     "name": "stdout",
     "output_type": "stream",
     "text": [
      "<class 'numpy.ndarray'>\n",
      "(1, 4096)\n"
     ]
    }
   ],
   "source": [
    "embedding_sentence_matrix = np.zeros((len(dict_context_emb) + 1, 1820))\n",
    "for item, value in dict_context_emb.items():\n",
    "    embedding_vector = value\n",
    "    if embedding_vector is not None:\n",
    "        #print keys[values.index(item)]\n",
    "        # words not found in embedding index will be all-zeros.\n",
    "        embedding_sentence_matrix = embedding_vector\n",
    "print(type(embedding_sentence_matrix))\n",
    "print(embedding_sentence_matrix.shape)   "
   ]
  },
  {
   "cell_type": "code",
   "execution_count": 344,
   "metadata": {},
   "outputs": [
    {
     "name": "stdout",
     "output_type": "stream",
     "text": [
      "Building model...\n"
     ]
    }
   ],
   "source": [
    "#Question Encoding Layer\n",
    "print(\"Building model...\")\n",
    "qenc = Sequential()\n",
    "qenc.add(Embedding(output_dim=EMBED_SIZE, input_dim=vocab_size,\n",
    "                   weights=[embedding_matrix], mask_zero=True))\n",
    "# qenc.add(LSTM(EMBED_SIZE,input_shape=seq_maxlen,return_sequences=False))\n",
    "# qenc.add(Dropout(0.3))"
   ]
  },
  {
   "cell_type": "code",
   "execution_count": 347,
   "metadata": {},
   "outputs": [],
   "source": [
    "#Context Encoding Layer\n",
    "cenc = Sequential()\n",
    "cenc.add(Embedding(output_dim=EMBED_SIZE, input_dim=1,\n",
    "                   weights=[embedding_sentence_matrix], mask_zero=True))\n",
    "# cenc.add(LSTM(EMBED_SIZE, input_shape=seq_maxlen, return_sequences=False))\n",
    "# cenc.add(Dropout(0.3))\n",
    "\n"
   ]
  },
  {
   "cell_type": "code",
   "execution_count": 360,
   "metadata": {},
   "outputs": [
    {
     "ename": "NameError",
     "evalue": "name 'Merge' is not defined",
     "output_type": "error",
     "traceback": [
      "\u001b[0;31m---------------------------------------------------------------------------\u001b[0m",
      "\u001b[0;31mNameError\u001b[0m                                 Traceback (most recent call last)",
      "\u001b[0;32m<ipython-input-360-475ece9888f0>\u001b[0m in \u001b[0;36m<module>\u001b[0;34m()\u001b[0m\n\u001b[1;32m      5\u001b[0m \u001b[0;34m\u001b[0m\u001b[0m\n\u001b[1;32m      6\u001b[0m \u001b[0mmodel\u001b[0m \u001b[0;34m=\u001b[0m \u001b[0mSequential\u001b[0m\u001b[0;34m(\u001b[0m\u001b[0;34m)\u001b[0m\u001b[0;34m\u001b[0m\u001b[0m\n\u001b[0;32m----> 7\u001b[0;31m \u001b[0mmodel\u001b[0m\u001b[0;34m.\u001b[0m\u001b[0madd\u001b[0m\u001b[0;34m(\u001b[0m\u001b[0mMerge\u001b[0m\u001b[0;34m(\u001b[0m\u001b[0;34m[\u001b[0m\u001b[0mqenc\u001b[0m\u001b[0;34m,\u001b[0m \u001b[0mcenc\u001b[0m\u001b[0;34m]\u001b[0m\u001b[0;34m,\u001b[0m \u001b[0mmode\u001b[0m\u001b[0;34m=\u001b[0m\u001b[0;34m\"sum\"\u001b[0m\u001b[0;34m)\u001b[0m\u001b[0;34m)\u001b[0m\u001b[0;34m\u001b[0m\u001b[0m\n\u001b[0m\u001b[1;32m      8\u001b[0m \u001b[0;31m# model.add(Dense(2, activation=\"softmax\"))\u001b[0m\u001b[0;34m\u001b[0m\u001b[0;34m\u001b[0m\u001b[0m\n",
      "\u001b[0;31mNameError\u001b[0m: name 'Merge' is not defined"
     ]
    }
   ],
   "source": [
    "#Sum the question and context encoding layer\n",
    "\n",
    "#added = keras.layers.Add()([qenc, cenc])\n",
    "#merged = Merge([qenc, cenc], mode='sum')\n",
    "\n",
    "#model = Sequential()\n",
    "#model.add(Merge([qenc, cenc], mode=\"sum\"))\n",
    "# model.add(Dense(2, activation=\"softmax\"))"
   ]
  },
  {
   "cell_type": "code",
   "execution_count": null,
   "metadata": {},
   "outputs": [],
   "source": [
    "model.compile(optimizer=\"adam\", loss=\"categorical_crossentropy\",\n",
    "              metrics=[\"accuracy\"])\n",
    "\n",
    "print(\"Training...\")\n",
    "checkpoint = ModelCheckpoint(\n",
    "    filepath=os.path.join(MODEL_DIR, \"qa-lstm-best.hdf5\"),\n",
    "    verbose=1, save_best_only=True)\n",
    "model.fit([Xqtrain, Xatrain], Ytrain, batch_size=BATCH_SIZE,\n",
    "          nb_epoch=NBR_EPOCHS, validation_split=0.1,\n",
    "          callbacks=[checkpoint])\n",
    "\n",
    "print(\"Evaluation...\")\n",
    "loss, acc = model.evaluate([Xqtest, Xatest], Ytest, batch_size=BATCH_SIZE)\n",
    "print(\"Test loss/accuracy final model = %.4f, %.4f\" % (loss, acc))\n",
    "\n",
    "model.save_weights(os.path.join(MODEL_DIR, \"qa-lstm-final.hdf5\"))\n",
    "with open(os.path.join(MODEL_DIR, \"qa-lstm.json\"), \"wb\") as fjson:\n",
    "    fjson.write(model.to_json())\n",
    "\n",
    "model.load_weights(filepath=os.path.join(MODEL_DIR, \"qa-lstm-best.hdf5\"))\n",
    "loss, acc = model.evaluate([Xqtest, Xatest], Ytest, batch_size=BATCH_SIZE)\n",
    "print(\"Test loss/accuracy best model = %.4f, %.4f\" % (loss, acc))"
   ]
  },
  {
   "cell_type": "code",
   "execution_count": 6,
   "metadata": {},
   "outputs": [
    {
     "data": {
      "text/html": [
       "<div>\n",
       "<style scoped>\n",
       "    .dataframe tbody tr th:only-of-type {\n",
       "        vertical-align: middle;\n",
       "    }\n",
       "\n",
       "    .dataframe tbody tr th {\n",
       "        vertical-align: top;\n",
       "    }\n",
       "\n",
       "    .dataframe thead th {\n",
       "        text-align: right;\n",
       "    }\n",
       "</style>\n",
       "<table border=\"1\" class=\"dataframe\">\n",
       "  <thead>\n",
       "    <tr style=\"text-align: right;\">\n",
       "      <th></th>\n",
       "      <th>ID</th>\n",
       "      <th>Question Stem</th>\n",
       "      <th>Choices</th>\n",
       "      <th>Complete Question</th>\n",
       "      <th>Answer Key</th>\n",
       "    </tr>\n",
       "  </thead>\n",
       "  <tbody>\n",
       "    <tr>\n",
       "      <th>0</th>\n",
       "      <td>7-980</td>\n",
       "      <td>The sun is responsible for</td>\n",
       "      <td>(A) puppies learning new tricks (B) children g...</td>\n",
       "      <td>The sun is responsible for (A) puppies learnin...</td>\n",
       "      <td>D</td>\n",
       "    </tr>\n",
       "    <tr>\n",
       "      <th>1</th>\n",
       "      <td>7-584</td>\n",
       "      <td>When standing miles away from Mount Rushmore</td>\n",
       "      <td>(A) the mountains seem very close (B) the moun...</td>\n",
       "      <td>When standing miles away from Mount Rushmore (...</td>\n",
       "      <td>D</td>\n",
       "    </tr>\n",
       "    <tr>\n",
       "      <th>2</th>\n",
       "      <td>7-870</td>\n",
       "      <td>When food is reduced in the stomach</td>\n",
       "      <td>(A) the mind needs time to digest (B) take a s...</td>\n",
       "      <td>When food is reduced in the stomach (A) the mi...</td>\n",
       "      <td>C</td>\n",
       "    </tr>\n",
       "    <tr>\n",
       "      <th>3</th>\n",
       "      <td>7-321</td>\n",
       "      <td>Stars are</td>\n",
       "      <td>(A) warm lights that float (B) made out of nit...</td>\n",
       "      <td>Stars are (A) warm lights that float (B) made ...</td>\n",
       "      <td>C</td>\n",
       "    </tr>\n",
       "    <tr>\n",
       "      <th>4</th>\n",
       "      <td>9-732</td>\n",
       "      <td>You can make a telescope with a</td>\n",
       "      <td>(A) straw (B) Glass (C) Candle (D) mailing tube</td>\n",
       "      <td>You can make a telescope with a (A) straw (B) ...</td>\n",
       "      <td>D</td>\n",
       "    </tr>\n",
       "    <tr>\n",
       "      <th>5</th>\n",
       "      <td>9-782</td>\n",
       "      <td>Poison causes harm to which of the following?</td>\n",
       "      <td>(A) a Tree (B) a robot (C) a house (D) a car</td>\n",
       "      <td>Poison causes harm to which of the following? ...</td>\n",
       "      <td>A</td>\n",
       "    </tr>\n",
       "    <tr>\n",
       "      <th>6</th>\n",
       "      <td>9-87</td>\n",
       "      <td>an inherited characteristic found on all mamma...</td>\n",
       "      <td>(A) nails (B) teeth (C) shoes (D) fur</td>\n",
       "      <td>an inherited characteristic found on all mamma...</td>\n",
       "      <td>D</td>\n",
       "    </tr>\n",
       "    <tr>\n",
       "      <th>7</th>\n",
       "      <td>155</td>\n",
       "      <td>What doesn't eliminate waste?</td>\n",
       "      <td>(A) plants (B) mushrooms (C) bacteria (D) robots</td>\n",
       "      <td>What doesn't eliminate waste? (A) plants (B) m...</td>\n",
       "      <td>D</td>\n",
       "    </tr>\n",
       "    <tr>\n",
       "      <th>8</th>\n",
       "      <td>1046</td>\n",
       "      <td>As a car approaches you in the night</td>\n",
       "      <td>(A) the headlights become more intense (B) the...</td>\n",
       "      <td>As a car approaches you in the night (A) the h...</td>\n",
       "      <td>A</td>\n",
       "    </tr>\n",
       "    <tr>\n",
       "      <th>9</th>\n",
       "      <td>7-637</td>\n",
       "      <td>When the weather changes as it does from Chris...</td>\n",
       "      <td>(A) the air may chill (B) the ground may freez...</td>\n",
       "      <td>When the weather changes as it does from Chris...</td>\n",
       "      <td>D</td>\n",
       "    </tr>\n",
       "  </tbody>\n",
       "</table>\n",
       "</div>"
      ],
      "text/plain": [
       "      ID                                      Question Stem  \\\n",
       "0  7-980                         The sun is responsible for   \n",
       "1  7-584       When standing miles away from Mount Rushmore   \n",
       "2  7-870                When food is reduced in the stomach   \n",
       "3  7-321                                          Stars are   \n",
       "4  9-732                    You can make a telescope with a   \n",
       "5  9-782      Poison causes harm to which of the following?   \n",
       "6   9-87  an inherited characteristic found on all mamma...   \n",
       "7    155                      What doesn't eliminate waste?   \n",
       "8   1046               As a car approaches you in the night   \n",
       "9  7-637  When the weather changes as it does from Chris...   \n",
       "\n",
       "                                             Choices  \\\n",
       "0  (A) puppies learning new tricks (B) children g...   \n",
       "1  (A) the mountains seem very close (B) the moun...   \n",
       "2  (A) the mind needs time to digest (B) take a s...   \n",
       "3  (A) warm lights that float (B) made out of nit...   \n",
       "4    (A) straw (B) Glass (C) Candle (D) mailing tube   \n",
       "5       (A) a Tree (B) a robot (C) a house (D) a car   \n",
       "6              (A) nails (B) teeth (C) shoes (D) fur   \n",
       "7   (A) plants (B) mushrooms (C) bacteria (D) robots   \n",
       "8  (A) the headlights become more intense (B) the...   \n",
       "9  (A) the air may chill (B) the ground may freez...   \n",
       "\n",
       "                                   Complete Question Answer Key  \n",
       "0  The sun is responsible for (A) puppies learnin...          D  \n",
       "1  When standing miles away from Mount Rushmore (...          D  \n",
       "2  When food is reduced in the stomach (A) the mi...          C  \n",
       "3  Stars are (A) warm lights that float (B) made ...          C  \n",
       "4  You can make a telescope with a (A) straw (B) ...          D  \n",
       "5  Poison causes harm to which of the following? ...          A  \n",
       "6  an inherited characteristic found on all mamma...          D  \n",
       "7  What doesn't eliminate waste? (A) plants (B) m...          D  \n",
       "8  As a car approaches you in the night (A) the h...          A  \n",
       "9  When the weather changes as it does from Chris...          D  "
      ]
     },
     "execution_count": 6,
     "metadata": {},
     "output_type": "execute_result"
    }
   ],
   "source": []
  },
  {
   "cell_type": "code",
   "execution_count": null,
   "metadata": {},
   "outputs": [],
   "source": []
  }
 ],
 "metadata": {
  "kernelspec": {
   "display_name": "conda_tensorflow_p36",
   "language": "python",
   "name": "conda_tensorflow_p36"
  },
  "language_info": {
   "codemirror_mode": {
    "name": "ipython",
    "version": 3
   },
   "file_extension": ".py",
   "mimetype": "text/x-python",
   "name": "python",
   "nbconvert_exporter": "python",
   "pygments_lexer": "ipython3",
   "version": "3.6.5"
  }
 },
 "nbformat": 4,
 "nbformat_minor": 2
}
