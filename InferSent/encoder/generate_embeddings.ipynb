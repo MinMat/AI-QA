{
 "cells": [
  {
   "cell_type": "code",
   "execution_count": 43,
   "metadata": {
    "collapsed": false
   },
   "outputs": [
    {
     "name": "stdout",
     "output_type": "stream",
     "text": [
      "The autoreload extension is already loaded. To reload it, use:\n",
      "  %reload_ext autoreload\n",
      "[nltk_data] Downloading package punkt to /home/ec2-user/nltk_data...\n",
      "[nltk_data]   Package punkt is already up-to-date!\n"
     ]
    }
   ],
   "source": [
    "# import stuff\n",
    "%load_ext autoreload\n",
    "%autoreload 2\n",
    "%matplotlib inline\n",
    "\n",
    "from random import randint\n",
    "\n",
    "import numpy as np\n",
    "import torch\n",
    "import nltk\n",
    "nltk.download('punkt')\n",
    "\n",
    "import warnings\n",
    "warnings.filterwarnings('ignore')\n",
    "import pickle\n",
    "import numpy as np\n",
    "import pandas as pd\n",
    "import json\n",
    "from textblob import TextBlob\n",
    "import nltk\n",
    "from scipy import spatial\n"
   ]
  },
  {
   "cell_type": "markdown",
   "metadata": {},
   "source": [
    "## Load model"
   ]
  },
  {
   "cell_type": "code",
   "execution_count": 44,
   "metadata": {
    "collapsed": false
   },
   "outputs": [],
   "source": [
    "# Load model\n",
    "from models import InferSent\n",
    "model_version = 1\n",
    "MODEL_PATH = \"../encoder/infersent%s.pkl\" % model_version\n",
    "params_model = {'bsize': 64, 'word_emb_dim': 300, 'enc_lstm_dim': 2048,\n",
    "                'pool_type': 'max', 'dpout_model': 0.0, 'version': model_version}\n",
    "model = InferSent(params_model)\n",
    "model.load_state_dict(torch.load(MODEL_PATH))"
   ]
  },
  {
   "cell_type": "code",
   "execution_count": 45,
   "metadata": {
    "collapsed": true
   },
   "outputs": [],
   "source": [
    "# Keep it on CPU or put it on GPU\n",
    "use_cuda = False\n",
    "model = model.cuda() if use_cuda else model"
   ]
  },
  {
   "cell_type": "code",
   "execution_count": 46,
   "metadata": {
    "collapsed": false
   },
   "outputs": [],
   "source": [
    "# If infersent1 -> use GloVe embeddings. If infersent2 -> use InferSent embeddings.\n",
    "W2V_PATH = '../dataset/GloVe/glove.840B.300d.txt' if model_version == 1 else '../dataset/fastText/crawl-300d-2M.vec'\n",
    "model.set_w2v_path(W2V_PATH)"
   ]
  },
  {
   "cell_type": "code",
   "execution_count": 47,
   "metadata": {
    "collapsed": false
   },
   "outputs": [],
   "source": [
    "# Load embeddings of K most frequent words\n",
    "#model.build_vocab_k_words(K=100000)"
   ]
  },
  {
   "cell_type": "markdown",
   "metadata": {},
   "source": [
    "## Load sentences"
   ]
  },
  {
   "cell_type": "code",
   "execution_count": 48,
   "metadata": {
    "collapsed": false
   },
   "outputs": [
    {
     "name": "stdout",
     "output_type": "stream",
     "text": [
      "1326\n"
     ]
    }
   ],
   "source": [
    "sentences = []\n",
    "with open('data/openbook.txt') as f:\n",
    "    for line in f:\n",
    "        sentences.append(line.strip())\n",
    "print(len(sentences))"
   ]
  },
  {
   "cell_type": "code",
   "execution_count": 49,
   "metadata": {
    "collapsed": false
   },
   "outputs": [
    {
     "data": {
      "text/plain": [
       "['\"A bee is a pollinating animal\"',\n",
       " '\"A bird is a pollinating animal\"',\n",
       " '\"An electrical conductor is a vehicle for the flow of electricity\"',\n",
       " '\"An example of a change in the Earth is an ocean becoming a wooded area\"',\n",
       " '\"An example of a chemical change is acid breaking down substances\"']"
      ]
     },
     "execution_count": 49,
     "metadata": {},
     "output_type": "execute_result"
    }
   ],
   "source": [
    "sentences[:5]"
   ]
  },
  {
   "cell_type": "code",
   "execution_count": 50,
   "metadata": {},
   "outputs": [
    {
     "name": "stdout",
     "output_type": "stream",
     "text": [
      "Found 1842(/1846) words with w2v vectors\n",
      "Vocab size : 1842\n"
     ]
    }
   ],
   "source": [
    "# Build vocabulary of sentences from openbook text\n",
    "model.build_vocab(sentences, tokenize=True)"
   ]
  },
  {
   "cell_type": "markdown",
   "metadata": {},
   "source": [
    "## Encode questions and answers"
   ]
  },
  {
   "cell_type": "code",
   "execution_count": 10,
   "metadata": {
    "collapsed": true
   },
   "outputs": [],
   "source": [
    "# gpu mode : >> 1000 sentences/s\n",
    "# cpu mode : ~100 sentences/s"
   ]
  },
  {
   "cell_type": "code",
   "execution_count": 51,
   "metadata": {},
   "outputs": [],
   "source": [
    "train = pd.read_csv('data/train.tsv', sep='\\t')\n",
    "valid = pd.read_csv('data/test.tsv', sep='\\t')"
   ]
  },
  {
   "cell_type": "code",
   "execution_count": 52,
   "metadata": {},
   "outputs": [
    {
     "data": {
      "text/plain": [
       "((4957, 5), (500, 5))"
      ]
     },
     "execution_count": 52,
     "metadata": {},
     "output_type": "execute_result"
    }
   ],
   "source": [
    "train.shape, valid.shape"
   ]
  },
  {
   "cell_type": "code",
   "execution_count": 53,
   "metadata": {},
   "outputs": [
    {
     "data": {
      "text/html": [
       "<div>\n",
       "<style scoped>\n",
       "    .dataframe tbody tr th:only-of-type {\n",
       "        vertical-align: middle;\n",
       "    }\n",
       "\n",
       "    .dataframe tbody tr th {\n",
       "        vertical-align: top;\n",
       "    }\n",
       "\n",
       "    .dataframe thead th {\n",
       "        text-align: right;\n",
       "    }\n",
       "</style>\n",
       "<table border=\"1\" class=\"dataframe\">\n",
       "  <thead>\n",
       "    <tr style=\"text-align: right;\">\n",
       "      <th></th>\n",
       "      <th>ID</th>\n",
       "      <th>Question Stem</th>\n",
       "      <th>Choices</th>\n",
       "      <th>Complete Question</th>\n",
       "      <th>Answer Key</th>\n",
       "    </tr>\n",
       "  </thead>\n",
       "  <tbody>\n",
       "    <tr>\n",
       "      <th>0</th>\n",
       "      <td>7-980</td>\n",
       "      <td>The sun is responsible for</td>\n",
       "      <td>(A) puppies learning new tricks (B) children g...</td>\n",
       "      <td>The sun is responsible for (A) puppies learnin...</td>\n",
       "      <td>D</td>\n",
       "    </tr>\n",
       "    <tr>\n",
       "      <th>1</th>\n",
       "      <td>7-584</td>\n",
       "      <td>When standing miles away from Mount Rushmore</td>\n",
       "      <td>(A) the mountains seem very close (B) the moun...</td>\n",
       "      <td>When standing miles away from Mount Rushmore (...</td>\n",
       "      <td>D</td>\n",
       "    </tr>\n",
       "    <tr>\n",
       "      <th>2</th>\n",
       "      <td>7-870</td>\n",
       "      <td>When food is reduced in the stomach</td>\n",
       "      <td>(A) the mind needs time to digest (B) take a s...</td>\n",
       "      <td>When food is reduced in the stomach (A) the mi...</td>\n",
       "      <td>C</td>\n",
       "    </tr>\n",
       "  </tbody>\n",
       "</table>\n",
       "</div>"
      ],
      "text/plain": [
       "      ID                                 Question Stem  \\\n",
       "0  7-980                    The sun is responsible for   \n",
       "1  7-584  When standing miles away from Mount Rushmore   \n",
       "2  7-870           When food is reduced in the stomach   \n",
       "\n",
       "                                             Choices  \\\n",
       "0  (A) puppies learning new tricks (B) children g...   \n",
       "1  (A) the mountains seem very close (B) the moun...   \n",
       "2  (A) the mind needs time to digest (B) take a s...   \n",
       "\n",
       "                                   Complete Question Answer Key  \n",
       "0  The sun is responsible for (A) puppies learnin...          D  \n",
       "1  When standing miles away from Mount Rushmore (...          D  \n",
       "2  When food is reduced in the stomach (A) the mi...          C  "
      ]
     },
     "execution_count": 53,
     "metadata": {},
     "output_type": "execute_result"
    }
   ],
   "source": [
    "train.head(3)"
   ]
  },
  {
   "cell_type": "code",
   "execution_count": 54,
   "metadata": {},
   "outputs": [],
   "source": [
    "train['Choices']= train['Choices'].apply(lambda x: x.replace('(' , ',(')).astype('str')\n",
    "question = train['Question Stem']\n",
    "answers = list(train[\"Choices\"])\n",
    "\n",
    "answer_list = [x for xs in answers for x in xs.split(',')]\n",
    "answer_list_clean = ['nan' if x=='' else x for x in answer_list]\n",
    "clean_sentence_w_nan = list(filter(lambda a: a != 'nan', answer_list_clean))\n",
    "\n",
    "cleaned_answer_list_A = []\n",
    "cleaned_answer_list_B = []\n",
    "cleaned_answer_list_C = []\n",
    "cleaned_answer_list_D = []\n",
    "for item in clean_sentence_w_nan:\n",
    "    if item.startswith(\"(A)\"):\n",
    "        cleaned_answer_list_A.append(item)\n",
    "    elif item.startswith(\"(B)\"):\n",
    "         cleaned_answer_list_B.append(item)\n",
    "    elif item.startswith(\"(C)\"):\n",
    "         cleaned_answer_list_C.append(item)        \n",
    "    elif item.startswith(\"(D)\"):\n",
    "         cleaned_answer_list_D.append(item)\n",
    "\n",
    "cleaned_answer_list_D.pop()   \n",
    "#print(len(cleaned_answer_list_B),len(cleaned_answer_list_A),len(cleaned_answer_list_D),len(cleaned_answer_list_C)) \n",
    "\n",
    "dfanswers = pd.DataFrame(\n",
    "    {'questions': question,\n",
    "     'opitonA': cleaned_answer_list_A,\n",
    "     'opitonB': cleaned_answer_list_B,\n",
    "     'opitonC': cleaned_answer_list_C,\n",
    "     'opitonD': cleaned_answer_list_D,\n",
    "    })"
   ]
  },
  {
   "cell_type": "code",
   "execution_count": 58,
   "metadata": {},
   "outputs": [],
   "source": [
    "answers_optionA = list(dfanswers[\"opitonA\"]) \n",
    "answers_optionB = list(dfanswers[\"opitonB\"]) \n",
    "answers_optionC = list(dfanswers[\"opitonC\"]) \n",
    "answers_optionD = list(dfanswers[\"opitonD\"]) \n",
    "\n",
    "\n",
    "dict_embeddings_answers_optionA = {}\n",
    "dict_embeddings_answers_optionB = {}\n",
    "dict_embeddings_answers_optionC = {}\n",
    "dict_embeddings_answers_optionD = {}\n",
    "\n",
    "for i in range(len(answers_optionA)):\n",
    "#     print(answers_optionA[i])\n",
    "    dict_embeddings_answers_optionA[answers_optionA[i]] = model.encode([answers_optionA[i]], tokenize=True)\n",
    "\n",
    "for i in range(len(answers_optionB)):\n",
    "#     print(answers_optionA[i])\n",
    "    dict_embeddings_answers_optionB[answers_optionB[i]] = model.encode([answers_optionB[i]], tokenize=True)\n",
    "    \n",
    "for i in range(len(answers_optionC)):\n",
    "#     print(answers_optionA[i])\n",
    "    dict_embeddings_answers_optionC[answers_optionC[i]] = model.encode([answers_optionC[i]], tokenize=True)\n",
    "\n",
    "for i in range(len(answers_optionD)):\n",
    "#     print(answers_optionA[i])\n",
    "    dict_embeddings_answers_optionD[answers_optionD[i]] = model.encode([answers_optionD[i]], tokenize=True)     "
   ]
  },
  {
   "cell_type": "code",
   "execution_count": 70,
   "metadata": {},
   "outputs": [
    {
     "data": {
      "text/plain": [
       "1326"
      ]
     },
     "execution_count": 70,
     "metadata": {},
     "output_type": "execute_result"
    }
   ],
   "source": [
    "len(question)"
   ]
  },
  {
   "cell_type": "markdown",
   "metadata": {},
   "source": [
    "#Create Embedding for the context"
   ]
  },
  {
   "cell_type": "code",
   "execution_count": 71,
   "metadata": {},
   "outputs": [],
   "source": [
    "dict_embeddings = {}\n",
    "for i in range(len(sentences)):\n",
    "    dict_embeddings[sentences[i]] = model.encode([sentences[i]], tokenize=True)"
   ]
  },
  {
   "cell_type": "markdown",
   "metadata": {},
   "source": [
    "#Create Embeddings for the Question"
   ]
  },
  {
   "cell_type": "code",
   "execution_count": 72,
   "metadata": {},
   "outputs": [],
   "source": [
    "dict_embeddings_questions = {}\n",
    "for i in range(len(question)):\n",
    "    dict_embeddings_questions[question[i]] = model.encode([question[i]], tokenize=True)"
   ]
  },
  {
   "cell_type": "code",
   "execution_count": null,
   "metadata": {},
   "outputs": [],
   "source": []
  },
  {
   "cell_type": "markdown",
   "metadata": {},
   "source": [
    "## Visualization"
   ]
  },
  {
   "cell_type": "code",
   "execution_count": 33,
   "metadata": {
    "collapsed": false
   },
   "outputs": [
    {
     "data": {
      "text/plain": [
       "4.1225514"
      ]
     },
     "execution_count": 33,
     "metadata": {},
     "output_type": "execute_result"
    }
   ],
   "source": [
    "np.linalg.norm(model.encode(['deep sea animals live deep in the ocean']))"
   ]
  },
  {
   "cell_type": "code",
   "execution_count": 34,
   "metadata": {},
   "outputs": [
    {
     "data": {
      "image/png": "[encoded data removed]",
      "text/plain": [
       "<Figure size 432x288 with 1 Axes>"
      ]
     },
     "metadata": {},
     "output_type": "display_data"
    }
   ],
   "source": [
    "context_sent = 'deep sea animals live deep in the ocean'\n",
    "_, _ = model.visualize(context_sent)"
   ]
  },
  {
   "cell_type": "code",
   "execution_count": 35,
   "metadata": {},
   "outputs": [
    {
     "data": {
      "image/png": "[encoded data removed]",
      "text/plain": [
       "<Figure size 432x288 with 1 Axes>"
      ]
     },
     "metadata": {},
     "output_type": "display_data"
    }
   ],
   "source": [
    "my_question = 'Frilled sharks and angler fish live far beneath the surface of the ocean, which is why they are known as.'\n",
    "_, _ = model.visualize(my_question)"
   ]
  },
  {
   "cell_type": "code",
   "execution_count": 31,
   "metadata": {
    "collapsed": true
   },
   "outputs": [],
   "source": [
    "def cosine(u, v):\n",
    "    return np.dot(u, v) / (np.linalg.norm(u) * np.linalg.norm(v))"
   ]
  },
  {
   "cell_type": "code",
   "execution_count": 106,
   "metadata": {
    "collapsed": false
   },
   "outputs": [
    {
     "data": {
      "text/plain": [
       "0.69112474"
      ]
     },
     "execution_count": 106,
     "metadata": {},
     "output_type": "execute_result"
    }
   ],
   "source": [
    "cosine(model.encode(['Frilled sharks and angler fish live far beneath the surface of the ocean, which is why they are known as.'])[0], model.encode(['deep sea animals live deep in the ocean'])[0])"
   ]
  },
  {
   "cell_type": "code",
   "execution_count": 113,
   "metadata": {},
   "outputs": [
    {
     "data": {
      "text/plain": [
       "0.79064053"
      ]
     },
     "execution_count": 113,
     "metadata": {},
     "output_type": "execute_result"
    }
   ],
   "source": [
    "cosine(model.encode(['beneath the surface of the ocean'])[0], model.encode(['deep in the ocean'])[0])"
   ]
  },
  {
   "cell_type": "code",
   "execution_count": 75,
   "metadata": {},
   "outputs": [],
   "source": [
    "with open('data/Embeddings/dict_embeddings.pickle', 'wb') as handle:\n",
    "    pickle.dump(dict_embeddings, handle)\n",
    "\n",
    "with open('data/Embeddings/dict_embeddings_questions.pickle', 'wb') as handle:\n",
    "    pickle.dump(dict_embeddings_questions, handle)\n",
    "\n",
    "with open('data/Embeddings/dict_embeddings_answers_optionA.pickle', 'wb') as handle:\n",
    "    pickle.dump(dict_embeddings_answers_optionA, handle)\n",
    "\n",
    "with open('data/Embeddings/dict_embeddings_answers_optionB.pickle', 'wb') as handle:\n",
    "    pickle.dump(dict_embeddings_answers_optionB, handle)\n",
    "\n",
    "with open('data/Embeddings/dict_embeddings_answers_optionC.pickle', 'wb') as handle:\n",
    "    pickle.dump(dict_embeddings_answers_optionC, handle)   \n",
    "\n",
    "with open('data/Embeddings/dict_embeddings_answers_optionD.pickle', 'wb') as handle:\n",
    "    pickle.dump(dict_embeddings_answers_optionD, handle)       "
   ]
  },
  {
   "cell_type": "code",
   "execution_count": 36,
   "metadata": {},
   "outputs": [],
   "source": []
  },
  {
   "cell_type": "code",
   "execution_count": null,
   "metadata": {},
   "outputs": [],
   "source": []
  }
 ],
 "metadata": {
  "anaconda-cloud": {},
  "kernelspec": {
   "display_name": "conda_pytorch_p36",
   "language": "python",
   "name": "conda_pytorch_p36"
  },
  "language_info": {
   "codemirror_mode": {
    "name": "ipython",
    "version": 3
   },
   "file_extension": ".py",
   "mimetype": "text/x-python",
   "name": "python",
   "nbconvert_exporter": "python",
   "pygments_lexer": "ipython3",
   "version": "3.6.5"
  }
 },
 "nbformat": 4,
 "nbformat_minor": 2
}
