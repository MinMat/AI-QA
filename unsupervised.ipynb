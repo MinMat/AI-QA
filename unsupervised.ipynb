{
 "cells": [
  {
   "cell_type": "code",
   "execution_count": 43,
   "metadata": {},
   "outputs": [
    {
     "name": "stdout",
     "output_type": "stream",
     "text": [
      "[nltk_data] Downloading package brown to /home/ec2-user/nltk_data...\n",
      "[nltk_data]   Package brown is already up-to-date!\n",
      "[nltk_data] Downloading package punkt to /home/ec2-user/nltk_data...\n",
      "[nltk_data]   Unzipping tokenizers/punkt.zip.\n"
     ]
    },
    {
     "data": {
      "text/plain": [
       "True"
      ]
     },
     "execution_count": 43,
     "metadata": {},
     "output_type": "execute_result"
    }
   ],
   "source": [
    "import numpy as np, pandas as pd\n",
    "import json\n",
    "import ast \n",
    "import nltk\n",
    "import torch\n",
    "import pickle\n",
    "from scipy import spatial\n",
    "import warnings\n",
    "warnings.filterwarnings('ignore')\n",
    "from nltk import Tree\n",
    "from nltk.stem.lancaster import LancasterStemmer\n",
    "st = LancasterStemmer()\n",
    "from sklearn.feature_extraction.text import TfidfVectorizer, TfidfTransformer\n",
    "from textblob import TextBlob\n",
    "nltk.download('brown')\n",
    "nltk.download('punkt')"
   ]
  },
  {
   "cell_type": "code",
   "execution_count": 2,
   "metadata": {},
   "outputs": [],
   "source": [
    "train = pd.read_csv(\"InferSent/encoder/data/train.tsv\",sep='\\t')"
   ]
  },
  {
   "cell_type": "code",
   "execution_count": 3,
   "metadata": {},
   "outputs": [
    {
     "data": {
      "text/plain": [
       "(4957, 5)"
      ]
     },
     "execution_count": 3,
     "metadata": {},
     "output_type": "execute_result"
    }
   ],
   "source": [
    "train.shape"
   ]
  },
  {
   "cell_type": "markdown",
   "metadata": {},
   "source": [
    "### Loading Embedding dictionary"
   ]
  },
  {
   "cell_type": "code",
   "execution_count": 12,
   "metadata": {},
   "outputs": [],
   "source": [
    "with open(\"InferSent/encoder/data/dict_embeddings.pickle\", \"rb\") as f:\n",
    "    d_context_embeddings = pickle.load(f)"
   ]
  },
  {
   "cell_type": "code",
   "execution_count": 13,
   "metadata": {},
   "outputs": [],
   "source": [
    "with open(\"InferSent/encoder/data/dict_embeddings_questions.pickle\", \"rb\") as f:\n",
    "    d_question_embeddings = pickle.load(f)"
   ]
  },
  {
   "cell_type": "code",
   "execution_count": 14,
   "metadata": {},
   "outputs": [],
   "source": [
    "dict_context_emb = dict(d_context_embeddings)\n",
    "dict_question_emb = dict(d_question_embeddings)"
   ]
  },
  {
   "cell_type": "code",
   "execution_count": 15,
   "metadata": {},
   "outputs": [
    {
     "data": {
      "text/plain": [
       "(1326, 4835)"
      ]
     },
     "execution_count": 15,
     "metadata": {},
     "output_type": "execute_result"
    }
   ],
   "source": [
    "len(dict_context_emb), len(dict_question_emb)"
   ]
  },
  {
   "cell_type": "code",
   "execution_count": 16,
   "metadata": {},
   "outputs": [],
   "source": [
    "#for key,value in dict_emb.items():\n",
    "#    print(value)"
   ]
  },
  {
   "cell_type": "code",
   "execution_count": 17,
   "metadata": {},
   "outputs": [],
   "source": [
    "del d_context_embeddings, d_question_embeddings"
   ]
  },
  {
   "cell_type": "markdown",
   "metadata": {},
   "source": [
    "## Data Processing"
   ]
  },
  {
   "cell_type": "code",
   "execution_count": 18,
   "metadata": {},
   "outputs": [
    {
     "name": "stdout",
     "output_type": "stream",
     "text": [
      "1326\n"
     ]
    }
   ],
   "source": [
    "sentences = []\n",
    "with open('InferSent/encoder/data/openbook.txt') as f:\n",
    "    for line in f:\n",
    "        sentences.append(line.strip())\n",
    "print(len(sentences))        "
   ]
  },
  {
   "cell_type": "code",
   "execution_count": 49,
   "metadata": {},
   "outputs": [
    {
     "name": "stdout",
     "output_type": "stream",
     "text": [
      "['electrical conductor', 'earth', 'paw print', 'extinct animal', 'reproductive behavior', 'thick fur', 'camel humps', 'bird building', \"kangaroo 's ability\", \"mother 's pouch\", 'drink milk', 'instinctive behavior', 'baby bird', 'changes color', 'fossil fuel', 'alternative fuel', 'turning plant material', 'heat energy', 'open clams', 'water vapor', 'musical instrument', 'musical instrument', 'guitar string', 'new object', 'natural resource', 'new trees', 'seed dispersal', 'seed dispersal', 'animal gathering seeds', 'stormy weather', 'plant root', 'august', 'southern hemisphere', 'dna', 'december', 'southern hemisphere', 'december', 'northern hemisphere', 'earth', 'magnetic patterns', 'earth', \"'s surface\", 'earth', \"'s tilt\", 'earth', 'earth', 'sun', 'earth', 'sun', 'causes seasons', 'galileo galilei', 'celestial bodies', 'cellular respiration process carbon dioxide', 'waste product', 'food chain process', 'green plant', 'food chain process', 'food chain process', 'eats producers', 'food chain process bacteria', 'food chain process fungi', 'food chain process', 'photosynthesis process carbon dioxide', 'raw material', 'photosynthesis process oxygen', 'waste product', 'respiration process carbon dioxide', 'waste product', 'tree reproduction process', 'seed disperser', 'january', 'northern hemisphere', 'june', 'northern hemisphere', 'june', 'southern hemisphere', 'louis pasteur', 'matter', 'gas phase', 'variable shape', 'matter', 'gas phase', 'variable volume', 'matter', 'liquid phase', 'definite volume', 'matter', 'liquid phase', 'variable shape', 'matter', 'solid phase', 'definite shape', 'pluto', 'sun', 'vitamin d', 'heals bones', 'punnett', 'percent chance', 'rotation', 'earth', 'earth', \"'s axis\", 'rotation', 'earth', 'balloon contains gas', 'air pressure', 'bat births', 'battery converts chemical energy', 'electrical energy', 'electrical energy', 'beach ball contains gas', 'berry contains seeds', 'bicycle contains screws', 'bubble contains gas', 'cactus stem', 'cactus stores', 'car engine', 'car engine', 'converts gasoline', 'beverage contains', 'carbon dioxide', 'carbonic acid', 'chipmunk eats acorns', 'chloroplast contains chlorophyll', 'continuous path', \"compass 's needle lines\", 'earth', 'magnetic poles', 'navigate oceans', 'navigate seas', 'complete electrical circuit', 'electrical energy', 'complete revolution', 'earth', 'earth', 'complete revolution', 'earth', 'solar year', 'own food', 'cycle occurs', 'dense forest environment', 'desert environment contains', 'desert environment', 'low rainfall', 'desert environment', 'desert environment', 'desert environment', 'desert environment', 'different moon phase occurs', 'disperser disperses', 'doorbell converts', 'electrical energy', 'female insect lays eggs', 'adult stage', \"insect 's life cycle\", 'flashlight converts chemical energy', 'light energy', 'flashlight emits light', \"flower 's purpose\", 'opposite direction', \"object 's speed\", \"object 's speed\", 'forest environment', 'forest environment', 'frog eats insects', 'glacier causes', 'grassland environment', 'hand dryer', 'hot plate', 'hot substance', 'moves rocks', 'rain storm', 'leaf absorbs sunlight', 'leaf performs photosynthesis', 'heavy objects', 'light bulb converts', 'electrical energy', 'light energy', 'light bulb', 'electrical energy', 'line graph', 'magnet attracts ferromagnetic metals', 'magnet attracts', 'magnetic metals', 'mirror reflects light', 'monkey births', 'moth undergoes metamorphosis', 'mother births', 'new season occurs', 'new season occurs', 'paper clip', 'ferromagnetic metals', 'matter changes', 'plane travels', 'causes cycles', \"plant 's roots\", 'plant absorbs carbon dioxide', 'plant cell contains chloroplasts', 'help plants', 'specific climate', 'plant stem contains', 'plant stem', 'cold environment', 'predator eats', 'prism refracts light', 'own food', 'pumpkin contains seeds', 'transparent crystals', 'different colors', 'renewable resource', 'renewable resource', 'earth', 'rocket engine', 'high speed', 'salamander eats insects', 'satellite orbits', 'sea turtle', 'new plant', 'hot water', 'simple machine', 'mechanical energy', 'single-cell organism', 'single-cell organism', 'skinny beak', 'small spaces', 'bad odor', 'solar eclipse', 'new moon', 'solar panel converts sunlight', 'spider web', 'light energy', 'nuclear reactions', 'nuclear reactions', 'store water', 'stove generates heat', 'electrical circuit', 'tape measure', 'tape measure', 'tectonic plate', 'fault line', 'thermal conductor', 'conduct thermal energy', 'thermal energy conductor transfers heat', 'hotter objects', 'cooler objects', 'thermal insulator slows', 'toaster converts', 'electrical energy', 'heat energy', 'new tree', 'tree-growth ring occurs', 'warm front causes cloudy', 'rainy weather', 'white object reflects', 'visible light', 'windmill converts', 'sunlight causes objects', 'acid rain', 'negative impact', 'water quality', 'causes chemical reactions', 'kills viruses', 'liquid decreases', 'solid decreases', 'adult amphibians', 'life cycle process', 'animals breathe', 'cellular respiration', 'natural geological processes', 'alternative fuel', 'renewable resource', 'nonrenewable resource', 'amphibians hatch', \"animal 's brain\", 'positive impact', \"animal 's health\", 'instinctive behaviors', 'animal needs', 'good health', 'warm body temperature', 'earthquake causes', 'earthquake changes', 'earth', \"'s surface\", 'ecosystem contains', 'large community', 'particular place', 'ecosystem contains', 'large numbers', 'particular place', 'ecosystem contains', 'electric car contains', 'electric motor', 'electric car uses', 'regular car', 'electrical device', 'electrical insulator slows', 'electrical insulator slows', 'electromagnet contains cylindrical ferrous metal', 'electron microscope creates', 'equinox occurs', 'exothermic reaction increases', 'light bulb converts electricity', 'light bulb converts electricity', 'ocean floor', 'ocean floor', \"organism 's environment affects\", \"organism 's\", 'carbon dioxide', 'release energy', 'organic material', 'organic matter', 'animal cells', 'animals adapt', 'animals exhale carbon dioxide', 'animals taste flavors', 'aquatic animals', 'aquatic plants', 'arctic animals', 'arctic environment', 'arteries transport nutrients', 'food increases', 'transport food increases', 'transport food increases', 'available types', 'distant locations', 'air pressure decreases', 'air pressure increases', 'altitude increases', 'air pressure', 'altitude increases', 'object descends', 'kinetic energy', 'available resources increases', 'available water decreases', 'available water', 'environment decreases', 'available food', 'depth increases', 'light increases', 'object decreases', 'object decreases', 'object increases', 'water decreases', 'city decreases', 'light pollution', 'object increases', 'dryness increases', 'available water', 'place decreases', 'activity increases', 'leaf increases', 'object increases', 'moisture increases', 'heat increases', 'flexible container', 'light pollution increases', 'object increases', 'celestial body increases', 'gasoline increases', 'object decreases', 'group increases', 'predators decreases', 'prey decreases', 'surface increases', 'matter changes', 'day increases', 'environment decreases', 'environment increases', 'body temperature', 'temperature increases', 'dissolve solids', 'animal increases', \"animal 's body\", 'available water decreases', 'tree-growth rings', 'daylight increases', 'animal eats decreases', 'animal eats increases', 'flower increases', 'atmoshere increases', 'atmospheric temperature', 'rain increases', 'available sunlight', 'rainfall increases', 'available water', 'water increases', 'water levels', 'plant increases', 'matter vibrates increases', 'available water', 'environment increases', 'pole', 'water rises', 'available land', 'object increases', 'animal increases', 'flower increases', 'food increase', 'plants decreases', 'prey decreases', 'product decreases', 'flower increases', 'leaf increases', 'animal increases', 'environment decreases', 'surface area', 'water increases', 'liquid increases', 'intensive properties', 'object increases', 'object increases', 'tool lasts increases', 'crop increases', 'resource decreases', 'available increases', 'animal decreases', 'shower decreases', 'water increases', 'aquatic animals', 'positive impact', \"prey 's ability\", 'digest food', 'bad weather decreases visibility', 'chemical energy', 'electrical energy', 'water vapor', 'mud changes peat', 'extreme heat', 'long period', 'positive impact', \"thing 's health\", 'positive impact', \"organism 's health\", 'distant objects', 'biofuel releases carbon dioxide', 'lay eggs', 'different shapes', 'different foods', 'blood absorbs oxygen', 'grassy spaces', 'object changes', \"object 's shape\", 'breath contains', 'lung converts', 'electrical insulator', 'causes harm', 'carbon dioxide', 'carbon dioxide concentrations', 'carbon steel', 'carpet absorbs', 'cellular respiration', 'cell converts', 'carbon dioxide', 'cellular respiration', 'chemical reactions', 'chemical reactions', 'different substances', 'chickens cluck', 'light energy', 'catch prey', 'clear weather', 'sunny weather', 'usual kind', 'water vapor', 'nonrenewable resource', 'coal-fire power stations', 'coal mine', 'cold environments', 'cold environments', 'cold temperatures', 'causes chemical reactions', 'circuit causes', 'circuit causes electricity', 'water cycle process', 'positive impact', 'dry environment', 'long periods', 'time causes rocks', 'cooking causes', 'chemical reaction', 'cooking food', 'heat energy', 'cooking food', 'proper temperatures protects', 'cool temperatures', 'negative impact', 'crop rotation', 'positive impact', 'soil quality', 'crop rotation', 'different crops', 'different years', 'crop rotation renews soil', 'physical force', 'negative impact', 'forest causes', 'vitamin d', 'negative impact', 'dead organisms', 'dead organisms decay', 'dead organisms rot', 'decomposition increases amount', 'organic matter', 'decomposition increases', 'dead organisms', 'decomposer recycles nutrients', 'dead organisms', 'dead organisms', 'positive impact', 'deep sea animals', 'denser liquids', 'celestial objects', 'water vapor condenses', 'water vapor cools', 'different organisms reproduce', 'stomach acid', 'water causes', 'thermal energy insulator', 'water causes vibrations', 'available water decreases', 'dry wood', \"moon 's phases\", 'season occurs', 'rock layers', 'contains pesticides', 'negative impact', 'sound reflects', 'animals detect objects', 'ecological succession', 'entire communities', 'electric devices', 'electrical energy', 'electrical conduction', 'metals conduct electricity', 'wire causes', 'electrical devices', 'electrical insulation', 'open circuit', 'electricity causes', 'electrocution causes harm', 'erosion causes', 'erosion causes deposition', 'negative impact', 'evaporation causes amount', 'water cycle process', 'water cycle', 'heat energy', 'positive impact', \"body 's strength\", 'positive impact', \"human 's health\", 'extreme heat', 'compact sediment', 'sedimentary rock', 'extreme heat', 'pressure metamorphose rock', 'metamorphic rock', 'extreme temperatures', \"organism 's energy levels\", 'eye color', 'thing senses', 'female birds', 'ferrous metals', 'fire causes', 'fire causes harm', 'fire destroys plants', 'lay eggs', 'flood plains', 'water vapor', 'object causes', 'negative impact', 'force causes', 'force causes', 'nonrenewable resource', 'dead organisms', 'heat energy', 'friction acts', 'friction causes', 'friction causes', 'friction occurs', \"object 's surfaces\", 'fruit contains seeds', 'aquatic animals', 'negative impact', 'glaicial environment', 'good bacteria', \"human 's skin\", 'good bacteria', 'grass snakes', 'gravitational force causes objects', 'gravity causes orbits', 'gravity causes substances', 'green plants', 'grey clouds', 'grey clouds', 'habitat destruction causes animals', 'animal species', \"animal 's population\", 'negative effect', 'negative impact', 'positive impact', \"organism 's health\", 'natural gas', 'heavy rains', 'high means', 'high temperatures', 'high tide', 'tide cycle process', 'object causes', 'humans building homes', 'ecosystem causes', 'humans building homes', 'environment causes', 'animal habitats', 'causes harm', 'environment causes harm', 'causes native species', 'water vapor', 'means humans', 'hypothesis means', 'scientific guess', 'ice causes rocks', 'body part', 'body part', 'heat energy', 'life functions', 'flexible container', 'support animals', 'hot object', 'cold substance', 'hot substance', 'cold object', 'liquid disappears', 'new predator', 'population decreases', 'substance absorbs solar energy', 'animal eats', 'animal hatches', 'animal relies', 'animal competes', 'object reflects', 'only blue light', 'object reflects', 'certain color', 'object reflects light', 'object reflects', 'object undergoes chemical', 'new chemical properties', \"organism 's prey\", 'heat energy', 'future use', 'water animal', 'species increases', 'electrical conductor contacts', 'electrical conductor', 'food chain', 'large amount', 'magnetic material', 'raw material', 'raw material', 'solar energy', 'available food', 'water decreases', 'atmospheric temperature rises', 'organism increases', 'food source', 'equal forces', 'negative impact', \"organism 's health\", 'incomplete metamorphosis', 'adult stage', 'dna', 'dna', 'negative impact', 'jet streams', 'air masses', 'kilometers km', 'food causes starvation', 'negative impact', 'negative impact', 'large fins', 'large trees block sunlight', 'light enters', 'candle causes', 'forest fire', 'environment causes', 'long ears', 'sun', 'causes harm', 'negative impact', 'magnetic attraction pulls', 'small things', 'small things', 'vehicles emit pollution', 'liquid state drips', 'variable volume', 'shape assumes', 'entire container', 'meadow voles', 'meadow voles', 'mechanical means', 'bad reactions', 'heat energy', 'solid melts', 'solid melts', 'nonrenewable resource', 'thermal conductor', 'electrical energy conductor', 'life cycle process', 'animal changes', 'immature form', 'adult form', 'meters m', 'small things', 'instinctive behavior', 'cooler climate', 'warmer climate', 'different locations', 'annual cycle', 'milliliters ml', 'dangerous animal', 'moist means', 'bad odors', 'long periods', 'kinetic energy', 'plate tectonics', 'cool place', 'warm place causes', \"object 's temperature\", 'changes position', 'muscles pull bones', 'musical instruments', 'national parks limit', 'natural disasters', 'natural events', 'earth', \"'s surface\", 'natural gas', 'nonrenewable resource', 'natural gas', 'natural magnetism', 'natural resources', 'sedimentary rock', 'nerve cells', 'nervous system', 'electric conductor', 'new land', 'light shines', 'opaque object', 'nocturnal predators hunt', 'non-contact forces', 'nuclear reactions', 'oceans contains', \"earth 's\", 'water causes predators', 'offshore oil platforms', 'dna', 'nonrenewable resource', 'sedimentary rock', 'color causes', 'animal hangs', 'hot temperatures', 'pasteurization reduces', 'long period', 'pencil lead contains mineral graphite', 'lab expiriments', 'directions beforehand', 'phase changes', 'phloem transports materials', 'carbon dioxide', 'carbon dioxide', 'photosynthesis means green plants', 'carbon dioxide', 'solar energy', 'photosynthesis means producers', 'carbon dioxide', 'solar energy', 'planets orbit stars', 'plant cells', 'plant reproduction', 'seed dispersal', 'native plants', 'positive impact', 'positive impact', 'plants control', 'nonrenewable resource', 'poison causes harm', 'poisonous darts', 'sea anemones', 'polar bears', 'cold environments', 'humans pollute', 'potential energy changes', 'kinetic energy', 'soil causes', 'hail fall', 'rain fall', 'earth', 'snow fall', 'earth', 'waste products', 'food chain process', 'deep sea animals', 'repair cells', 'human body', 'quartz scratches glass', 'recyclable means', 'positive impact', 'nonrenewable resources', 'positive impact', 'positive impact', 'positive impact', 'food prevents illness', 'sunlight causes light', 'different colors', 'refraction causes', 'light bends', 'remora fish', 'renewable resources', 'life cycle process', 'genetic information', 'reproduction occurs', 'lay eggs', 'positive impact', 'small animals', 'large amounts', 'roots anchor plants', 'thermal insulator', 'runoff contains fertilizer', 'runoff contains pesticides', 'cropland water enters bodies', 'safety goggles', 'sand dunes', 'dead organisms', 'small particles', 'year return', 'seasonal changes', 'sedimentary rocks', 'seed dispersal', 'positive impact', \"plant 's reproduction\", 'seed dispersal', 'positive impact', 'seed dispersal', 'new environment', 'seed dispersal', 'parent plant', 'seed production', 'visual things', 'conductor causes', 'conductor causes electricity', 'sharp beaks', 'shiny things reflect', 'animal creates heat', 'skeletal system', 'causes friction', 'causes speed', 'harmful substances', 'direct damage', 'arctic environment', 'large amount', 'soil contains nutrients', 'soil erosion', 'renewable resource', 'soil loss causes grooves', 'solar energy', 'renewable resource', 'solar energy', 'inexhaustible resource', 'adult animals', 'lay eggs', 'zoo exhibits', 'warm weather', 'deep lakes', 'light bulbs', 'heat energy', 'desert habitats', 'catch prey', 'hollow logs', 'cold place', 'rounds rocks', 'smooths rocks', 'special tissues', 'plants transport minerals', 'edible plants', 'degrees celsius', 'soil sample', 'sugar causes food', 'taste sweet', 'sugar dissolves', 'sunlight contains ultraviolet', 'sweat cools', 'hot temperatures', 'tadpole changes', 'object changes', \"object 's shape\", 'tectonic plates', 'causes earthquakes', 'sound energy', 'electrical energy', 'phase changes', 'heat energy', 'alps', 'appalachians', 'earth', 'earth', 'ones side', 'earth', 'sun', 'earth', 'earth', 'earth', 'earth', 'sun', 'earth', 'sun', 'earth', 'sun causes stars', 'different areas', 'different times', 'earth', 'earth', 'earth', 'canyon', 'colorado', 'long periods', 'lakes', 'himalayas', 'moon', 'lunar cycle', 'north star', 'hemisphere', 'sun', 'earth', 'access resources', 'positive impact', \"organism 's survival\", 'positive impact', \"organism 's survival\", 'positive impact', \"organism 's survival\", 'summer solstice', 'winter solstice', 'arctic environment', 'northern lattitude', 'degrees celsius', 'arctic environment', 'arctic environment', '% nitrogen', 'simple substances occurs', 'digestive system', 'cell membrane', 'multicellular organisms', 'circulatory system', 'circulatory system', 'respiratory systems', 'circulatory system transports blood', 'pupa stage', 'life cycle', 'continental shelf', 'earth', 'negative impact', \"organism 's survival\", 'digestive system', 'digestive system digests food', 'excretory system removes waste', 'quarter phase', 'moon occurs', 'new moon', 'peat occurs', 'gravitational pull', 'moon', 'earth', \"'s oceans\", 'greenhouse effect', 'air heats', \"planet 's atmosphere\", 'positive impact', \"organism 's survival\", 'kidney removes byproducts', 'positive impact', \"plant 's roots\", 'soil increases', 'lunar surface contains', 'earth', 'earth', \"'s crust\", 'planet causes', \"moon 's surface contains flat areas\", \"moon 's surface contains highlands\", \"moon 's surface contains\", 'celestial object', 'earth', 'earth', 'earth', 'moon orbits', 'earth', 'moon reflects sunlight', 'earth', 'nervous system sends observations', 'electrical signals', 'body parts', 'tree trunk', 'ocean contains', 'large amounts', 'salt water', 'moon', 'moon', 'pupa stage', 'metamorphosis process', 'respiratory system', 'respiratory system transfers oxygen', 'circulatory system', 'body parts', 'skeletal system protects', 'internal organs', 'human body', 'land causes', 'particular direction', 'meat attracts', 'solar system contains', 'night sky', 'earth', 'summer solstice', 'june', 'northern hemisphere', 'sun causes', 'earth', 'physical cycles', 'earth', 'solar energy', 'setting causes cycles', 'sun setting occurs', 'sun transfers heat energy', 'sun transfers solar energy', 'earth', 'earth', 'contains mountains', 'moon', 'contains mountains', 'tide cycle', 'top layer', 'soil contains', 'sound passes changes', 'sound travels', 'electric fan causes air', 'winter solstice', 'december', 'northern hemisphere', 'winter solstice', 'june', 'southern hemisphere', 'thermal conduction', 'materials conduct heat', 'thick feathers', 'tidal energy', 'tidal range', 'vertical distance', 'high tide', 'low tide', 'timber companies', 'lenses reflect ultraviolet rays', 'water vapor', 'harmful substances', 'renewable resource', 'soil loosen', 'causes convection', 'earth', \"'s surface\", 'car causes pollution', 'causes money', 'warm water', \"moon 's surface\", 'plants store', 'future use', 'veins transport nutrients', 'warm-weather organisms', 'warm climates', 'water absorbs solar energy', 'water cycle', 'water causes', 'rock erosion', 'renewable resource', 'electrical conductor', 'gas state', 'water vapor', 'solid state', 'water vapor', 'water vapor', 'water vapor', 'water vapor', 'degrees celsius', 'water vapor', 'electrical energy insulator', 'electrical insulator', 'waxy leaves', 'surface materials', 'aquatic animals', 'flood occurs', 'cooler object touches', 'warmer object', 'thermal conduction occurs', 'open container evaporates', 'frog emergest', 'streak plate', 'river floods', 'river deposits sediment', 'flood plains', 'simple series circuit', 'animal eats', 'animal tastes', 'animal sheds', 'electrical circuit', 'electrical current runs', 'electrical conductor', 'available resources', 'recessive gene', 'dominant trait', 'light bulb', 'light bulb', 'light bulb', 'light bulb', 'light enters', 'light hits', 'reflective object', 'light bounces', 'pollen sticks', 'compass lines', 'earth', 'magnetic poles', 'needle points', 'season changes', 'water expands', 'white blood cell destroys pathogens', 'forest catches fire', 'causes erosion', 'renewable resource', 'inexhaustible resource', 'windy means', 'hemisphere occurs', 'pole', 'sun', 'hemisphere', 'hemisphere', 'electrical conductor', 'renewable resource', 'electrical energy insulator', 'thermal energy insulator', 'xylem transports materials', 'young amphibians breathe']\n"
     ]
    }
   ],
   "source": [
    "file=open('InferSent/encoder/data/openbook.txt')\n",
    "t=file.read()\n",
    "blob = TextBlob(t)\n",
    "for sentence in blob.sentences:\n",
    "    print(blob.noun_phrases)"
   ]
  },
  {
   "cell_type": "code",
   "execution_count": 19,
   "metadata": {},
   "outputs": [],
   "source": [
    "train['sentences'] = [sentences for i in train.index]"
   ]
  },
  {
   "cell_type": "code",
   "execution_count": 20,
   "metadata": {},
   "outputs": [],
   "source": [
    "train['quest_emb'] = train['Question Stem'].apply(lambda x: dict_question_emb[x] if x \\\n",
    "                                                  in dict_question_emb else np.zeros(4096))"
   ]
  },
  {
   "cell_type": "code",
   "execution_count": 21,
   "metadata": {},
   "outputs": [],
   "source": [
    "train['sent_emb'] = train['sentences'].apply(lambda x: [dict_context_emb[item][0] if item in\\\n",
    "                                                           dict_context_emb else np.zeros(4096) for item in x])"
   ]
  },
  {
   "cell_type": "code",
   "execution_count": 47,
   "metadata": {},
   "outputs": [
    {
     "data": {
      "text/html": [
       "<div>\n",
       "<style scoped>\n",
       "    .dataframe tbody tr th:only-of-type {\n",
       "        vertical-align: middle;\n",
       "    }\n",
       "\n",
       "    .dataframe tbody tr th {\n",
       "        vertical-align: top;\n",
       "    }\n",
       "\n",
       "    .dataframe thead th {\n",
       "        text-align: right;\n",
       "    }\n",
       "</style>\n",
       "<table border=\"1\" class=\"dataframe\">\n",
       "  <thead>\n",
       "    <tr style=\"text-align: right;\">\n",
       "      <th></th>\n",
       "      <th>ID</th>\n",
       "      <th>Question Stem</th>\n",
       "      <th>Choices</th>\n",
       "      <th>Complete Question</th>\n",
       "      <th>Answer Key</th>\n",
       "      <th>sentences</th>\n",
       "      <th>quest_emb</th>\n",
       "      <th>sent_emb</th>\n",
       "    </tr>\n",
       "  </thead>\n",
       "  <tbody>\n",
       "    <tr>\n",
       "      <th>0</th>\n",
       "      <td>7-980</td>\n",
       "      <td>The sun is responsible for</td>\n",
       "      <td>(A) puppies learning new tricks (B) children g...</td>\n",
       "      <td>The sun is responsible for (A) puppies learnin...</td>\n",
       "      <td>D</td>\n",
       "      <td>[\"A bee is a pollinating animal\", \"A bird is a...</td>\n",
       "      <td>[[0.051545985, 0.03336649, -0.005079767, -0.00...</td>\n",
       "      <td>[[0.051334266, 0.032628123, 0.008248221, 0.062...</td>\n",
       "    </tr>\n",
       "  </tbody>\n",
       "</table>\n",
       "</div>"
      ],
      "text/plain": [
       "      ID               Question Stem  \\\n",
       "0  7-980  The sun is responsible for   \n",
       "\n",
       "                                             Choices  \\\n",
       "0  (A) puppies learning new tricks (B) children g...   \n",
       "\n",
       "                                   Complete Question Answer Key  \\\n",
       "0  The sun is responsible for (A) puppies learnin...          D   \n",
       "\n",
       "                                           sentences  \\\n",
       "0  [\"A bee is a pollinating animal\", \"A bird is a...   \n",
       "\n",
       "                                           quest_emb  \\\n",
       "0  [[0.051545985, 0.03336649, -0.005079767, -0.00...   \n",
       "\n",
       "                                            sent_emb  \n",
       "0  [[0.051334266, 0.032628123, 0.008248221, 0.062...  "
      ]
     },
     "execution_count": 47,
     "metadata": {},
     "output_type": "execute_result"
    }
   ],
   "source": [
    "train.head(1)"
   ]
  },
  {
   "cell_type": "code",
   "execution_count": 23,
   "metadata": {},
   "outputs": [
    {
     "data": {
      "text/plain": [
       "(4957, 8)"
      ]
     },
     "execution_count": 23,
     "metadata": {},
     "output_type": "execute_result"
    }
   ],
   "source": [
    "train.shape"
   ]
  },
  {
   "cell_type": "code",
   "execution_count": 24,
   "metadata": {},
   "outputs": [],
   "source": [
    "train.dropna(inplace=True)"
   ]
  },
  {
   "cell_type": "code",
   "execution_count": 25,
   "metadata": {},
   "outputs": [
    {
     "data": {
      "text/plain": [
       "(4957, 8)"
      ]
     },
     "execution_count": 25,
     "metadata": {},
     "output_type": "execute_result"
    }
   ],
   "source": [
    "train.shape"
   ]
  },
  {
   "cell_type": "markdown",
   "metadata": {},
   "source": [
    "## Predicted Cosine & Euclidean Index"
   ]
  },
  {
   "cell_type": "code",
   "execution_count": 26,
   "metadata": {},
   "outputs": [],
   "source": [
    "def cosine_sim(x):\n",
    "    li = []\n",
    "    for item in x[\"sent_emb\"]:\n",
    "        li.append(spatial.distance.cosine(item,x[\"quest_emb\"][0]))\n",
    "    return li   "
   ]
  },
  {
   "cell_type": "code",
   "execution_count": 27,
   "metadata": {},
   "outputs": [],
   "source": [
    "def pred_idx(distances):\n",
    "    return np.argmin(distances)   "
   ]
  },
  {
   "cell_type": "code",
   "execution_count": 28,
   "metadata": {},
   "outputs": [
    {
     "ename": "KeyboardInterrupt",
     "evalue": "",
     "output_type": "error",
     "traceback": [
      "\u001b[0;31m---------------------------------------------------------------------------\u001b[0m",
      "\u001b[0;31mKeyboardInterrupt\u001b[0m                         Traceback (most recent call last)",
      "\u001b[0;32m<ipython-input-28-28c9044c516b>\u001b[0m in \u001b[0;36m<module>\u001b[0;34m()\u001b[0m\n\u001b[0;32m----> 1\u001b[0;31m \u001b[0mtrain\u001b[0m\u001b[0;34m[\u001b[0m\u001b[0;34m\"cosine_sim\"\u001b[0m\u001b[0;34m]\u001b[0m \u001b[0;34m=\u001b[0m \u001b[0mtrain\u001b[0m\u001b[0;34m.\u001b[0m\u001b[0mapply\u001b[0m\u001b[0;34m(\u001b[0m\u001b[0mcosine_sim\u001b[0m\u001b[0;34m,\u001b[0m \u001b[0maxis\u001b[0m \u001b[0;34m=\u001b[0m \u001b[0;36m1\u001b[0m\u001b[0;34m)\u001b[0m\u001b[0;34m\u001b[0m\u001b[0m\n\u001b[0m",
      "\u001b[0;32m~/anaconda3/envs/pytorch_p36/lib/python3.6/site-packages/pandas/core/frame.py\u001b[0m in \u001b[0;36mapply\u001b[0;34m(self, func, axis, broadcast, raw, reduce, args, **kwds)\u001b[0m\n\u001b[1;32m   4875\u001b[0m                         \u001b[0mf\u001b[0m\u001b[0;34m,\u001b[0m \u001b[0maxis\u001b[0m\u001b[0;34m,\u001b[0m\u001b[0;34m\u001b[0m\u001b[0m\n\u001b[1;32m   4876\u001b[0m                         \u001b[0mreduce\u001b[0m\u001b[0;34m=\u001b[0m\u001b[0mreduce\u001b[0m\u001b[0;34m,\u001b[0m\u001b[0;34m\u001b[0m\u001b[0m\n\u001b[0;32m-> 4877\u001b[0;31m                         ignore_failures=ignore_failures)\n\u001b[0m\u001b[1;32m   4878\u001b[0m             \u001b[0;32melse\u001b[0m\u001b[0;34m:\u001b[0m\u001b[0;34m\u001b[0m\u001b[0m\n\u001b[1;32m   4879\u001b[0m                 \u001b[0;32mreturn\u001b[0m \u001b[0mself\u001b[0m\u001b[0;34m.\u001b[0m\u001b[0m_apply_broadcast\u001b[0m\u001b[0;34m(\u001b[0m\u001b[0mf\u001b[0m\u001b[0;34m,\u001b[0m \u001b[0maxis\u001b[0m\u001b[0;34m)\u001b[0m\u001b[0;34m\u001b[0m\u001b[0m\n",
      "\u001b[0;32m~/anaconda3/envs/pytorch_p36/lib/python3.6/site-packages/pandas/core/frame.py\u001b[0m in \u001b[0;36m_apply_standard\u001b[0;34m(self, func, axis, ignore_failures, reduce)\u001b[0m\n\u001b[1;32m   4931\u001b[0m                     \u001b[0mlabels\u001b[0m \u001b[0;34m=\u001b[0m \u001b[0mself\u001b[0m\u001b[0;34m.\u001b[0m\u001b[0m_get_agg_axis\u001b[0m\u001b[0;34m(\u001b[0m\u001b[0maxis\u001b[0m\u001b[0;34m)\u001b[0m\u001b[0;34m\u001b[0m\u001b[0m\n\u001b[1;32m   4932\u001b[0m                     result = lib.reduce(values, func, axis=axis, dummy=dummy,\n\u001b[0;32m-> 4933\u001b[0;31m                                         labels=labels)\n\u001b[0m\u001b[1;32m   4934\u001b[0m                     \u001b[0;32mreturn\u001b[0m \u001b[0mSeries\u001b[0m\u001b[0;34m(\u001b[0m\u001b[0mresult\u001b[0m\u001b[0;34m,\u001b[0m \u001b[0mindex\u001b[0m\u001b[0;34m=\u001b[0m\u001b[0mlabels\u001b[0m\u001b[0;34m)\u001b[0m\u001b[0;34m\u001b[0m\u001b[0m\n\u001b[1;32m   4935\u001b[0m                 \u001b[0;32mexcept\u001b[0m \u001b[0mException\u001b[0m\u001b[0;34m:\u001b[0m\u001b[0;34m\u001b[0m\u001b[0m\n",
      "\u001b[0;32mpandas/_libs/src/reduce.pyx\u001b[0m in \u001b[0;36mpandas._libs.lib.reduce\u001b[0;34m()\u001b[0m\n",
      "\u001b[0;32mpandas/_libs/src/reduce.pyx\u001b[0m in \u001b[0;36mpandas._libs.lib.Reducer.get_result\u001b[0;34m()\u001b[0m\n",
      "\u001b[0;32m<ipython-input-26-e563864d94fa>\u001b[0m in \u001b[0;36mcosine_sim\u001b[0;34m(x)\u001b[0m\n\u001b[1;32m      2\u001b[0m     \u001b[0mli\u001b[0m \u001b[0;34m=\u001b[0m \u001b[0;34m[\u001b[0m\u001b[0;34m]\u001b[0m\u001b[0;34m\u001b[0m\u001b[0m\n\u001b[1;32m      3\u001b[0m     \u001b[0;32mfor\u001b[0m \u001b[0mitem\u001b[0m \u001b[0;32min\u001b[0m \u001b[0mx\u001b[0m\u001b[0;34m[\u001b[0m\u001b[0;34m\"sent_emb\"\u001b[0m\u001b[0;34m]\u001b[0m\u001b[0;34m:\u001b[0m\u001b[0;34m\u001b[0m\u001b[0m\n\u001b[0;32m----> 4\u001b[0;31m         \u001b[0mli\u001b[0m\u001b[0;34m.\u001b[0m\u001b[0mappend\u001b[0m\u001b[0;34m(\u001b[0m\u001b[0mspatial\u001b[0m\u001b[0;34m.\u001b[0m\u001b[0mdistance\u001b[0m\u001b[0;34m.\u001b[0m\u001b[0mcosine\u001b[0m\u001b[0;34m(\u001b[0m\u001b[0mitem\u001b[0m\u001b[0;34m,\u001b[0m\u001b[0mx\u001b[0m\u001b[0;34m[\u001b[0m\u001b[0;34m\"quest_emb\"\u001b[0m\u001b[0;34m]\u001b[0m\u001b[0;34m[\u001b[0m\u001b[0;36m0\u001b[0m\u001b[0;34m]\u001b[0m\u001b[0;34m)\u001b[0m\u001b[0;34m)\u001b[0m\u001b[0;34m\u001b[0m\u001b[0m\n\u001b[0m\u001b[1;32m      5\u001b[0m     \u001b[0;32mreturn\u001b[0m \u001b[0mli\u001b[0m\u001b[0;34m\u001b[0m\u001b[0m\n",
      "\u001b[0;32m~/anaconda3/envs/pytorch_p36/lib/python3.6/site-packages/scipy/spatial/distance.py\u001b[0m in \u001b[0;36mcosine\u001b[0;34m(u, v, w)\u001b[0m\n\u001b[1;32m    742\u001b[0m     \u001b[0;31m# cosine distance is also referred to as 'uncentered correlation',\u001b[0m\u001b[0;34m\u001b[0m\u001b[0;34m\u001b[0m\u001b[0m\n\u001b[1;32m    743\u001b[0m     \u001b[0;31m#   or 'reflective correlation'\u001b[0m\u001b[0;34m\u001b[0m\u001b[0;34m\u001b[0m\u001b[0m\n\u001b[0;32m--> 744\u001b[0;31m     \u001b[0;32mreturn\u001b[0m \u001b[0mcorrelation\u001b[0m\u001b[0;34m(\u001b[0m\u001b[0mu\u001b[0m\u001b[0;34m,\u001b[0m \u001b[0mv\u001b[0m\u001b[0;34m,\u001b[0m \u001b[0mw\u001b[0m\u001b[0;34m=\u001b[0m\u001b[0mw\u001b[0m\u001b[0;34m,\u001b[0m \u001b[0mcentered\u001b[0m\u001b[0;34m=\u001b[0m\u001b[0;32mFalse\u001b[0m\u001b[0;34m)\u001b[0m\u001b[0;34m\u001b[0m\u001b[0m\n\u001b[0m\u001b[1;32m    745\u001b[0m \u001b[0;34m\u001b[0m\u001b[0m\n\u001b[1;32m    746\u001b[0m \u001b[0;34m\u001b[0m\u001b[0m\n",
      "\u001b[0;32m~/anaconda3/envs/pytorch_p36/lib/python3.6/site-packages/scipy/spatial/distance.py\u001b[0m in \u001b[0;36mcorrelation\u001b[0;34m(u, v, w, centered)\u001b[0m\n\u001b[1;32m    695\u001b[0m     \u001b[0muv\u001b[0m \u001b[0;34m=\u001b[0m \u001b[0mnp\u001b[0m\u001b[0;34m.\u001b[0m\u001b[0maverage\u001b[0m\u001b[0;34m(\u001b[0m\u001b[0mu\u001b[0m \u001b[0;34m*\u001b[0m \u001b[0mv\u001b[0m\u001b[0;34m,\u001b[0m \u001b[0mweights\u001b[0m\u001b[0;34m=\u001b[0m\u001b[0mw\u001b[0m\u001b[0;34m)\u001b[0m\u001b[0;34m\u001b[0m\u001b[0m\n\u001b[1;32m    696\u001b[0m     \u001b[0muu\u001b[0m \u001b[0;34m=\u001b[0m \u001b[0mnp\u001b[0m\u001b[0;34m.\u001b[0m\u001b[0maverage\u001b[0m\u001b[0;34m(\u001b[0m\u001b[0mnp\u001b[0m\u001b[0;34m.\u001b[0m\u001b[0msquare\u001b[0m\u001b[0;34m(\u001b[0m\u001b[0mu\u001b[0m\u001b[0;34m)\u001b[0m\u001b[0;34m,\u001b[0m \u001b[0mweights\u001b[0m\u001b[0;34m=\u001b[0m\u001b[0mw\u001b[0m\u001b[0;34m)\u001b[0m\u001b[0;34m\u001b[0m\u001b[0m\n\u001b[0;32m--> 697\u001b[0;31m     \u001b[0mvv\u001b[0m \u001b[0;34m=\u001b[0m \u001b[0mnp\u001b[0m\u001b[0;34m.\u001b[0m\u001b[0maverage\u001b[0m\u001b[0;34m(\u001b[0m\u001b[0mnp\u001b[0m\u001b[0;34m.\u001b[0m\u001b[0msquare\u001b[0m\u001b[0;34m(\u001b[0m\u001b[0mv\u001b[0m\u001b[0;34m)\u001b[0m\u001b[0;34m,\u001b[0m \u001b[0mweights\u001b[0m\u001b[0;34m=\u001b[0m\u001b[0mw\u001b[0m\u001b[0;34m)\u001b[0m\u001b[0;34m\u001b[0m\u001b[0m\n\u001b[0m\u001b[1;32m    698\u001b[0m     \u001b[0mdist\u001b[0m \u001b[0;34m=\u001b[0m \u001b[0;36m1.0\u001b[0m \u001b[0;34m-\u001b[0m \u001b[0muv\u001b[0m \u001b[0;34m/\u001b[0m \u001b[0mnp\u001b[0m\u001b[0;34m.\u001b[0m\u001b[0msqrt\u001b[0m\u001b[0;34m(\u001b[0m\u001b[0muu\u001b[0m \u001b[0;34m*\u001b[0m \u001b[0mvv\u001b[0m\u001b[0;34m)\u001b[0m\u001b[0;34m\u001b[0m\u001b[0m\n\u001b[1;32m    699\u001b[0m     \u001b[0;32mreturn\u001b[0m \u001b[0mdist\u001b[0m\u001b[0;34m\u001b[0m\u001b[0m\n",
      "\u001b[0;32m~/anaconda3/envs/pytorch_p36/lib/python3.6/site-packages/numpy/lib/function_base.py\u001b[0m in \u001b[0;36maverage\u001b[0;34m(a, axis, weights, returned)\u001b[0m\n\u001b[1;32m   1126\u001b[0m \u001b[0;34m\u001b[0m\u001b[0m\n\u001b[1;32m   1127\u001b[0m     \u001b[0;32mif\u001b[0m \u001b[0mweights\u001b[0m \u001b[0;32mis\u001b[0m \u001b[0;32mNone\u001b[0m\u001b[0;34m:\u001b[0m\u001b[0;34m\u001b[0m\u001b[0m\n\u001b[0;32m-> 1128\u001b[0;31m         \u001b[0mavg\u001b[0m \u001b[0;34m=\u001b[0m \u001b[0ma\u001b[0m\u001b[0;34m.\u001b[0m\u001b[0mmean\u001b[0m\u001b[0;34m(\u001b[0m\u001b[0maxis\u001b[0m\u001b[0;34m)\u001b[0m\u001b[0;34m\u001b[0m\u001b[0m\n\u001b[0m\u001b[1;32m   1129\u001b[0m         \u001b[0mscl\u001b[0m \u001b[0;34m=\u001b[0m \u001b[0mavg\u001b[0m\u001b[0;34m.\u001b[0m\u001b[0mdtype\u001b[0m\u001b[0;34m.\u001b[0m\u001b[0mtype\u001b[0m\u001b[0;34m(\u001b[0m\u001b[0ma\u001b[0m\u001b[0;34m.\u001b[0m\u001b[0msize\u001b[0m\u001b[0;34m/\u001b[0m\u001b[0mavg\u001b[0m\u001b[0;34m.\u001b[0m\u001b[0msize\u001b[0m\u001b[0;34m)\u001b[0m\u001b[0;34m\u001b[0m\u001b[0m\n\u001b[1;32m   1130\u001b[0m     \u001b[0;32melse\u001b[0m\u001b[0;34m:\u001b[0m\u001b[0;34m\u001b[0m\u001b[0m\n",
      "\u001b[0;32m~/anaconda3/envs/pytorch_p36/lib/python3.6/site-packages/numpy/core/_methods.py\u001b[0m in \u001b[0;36m_mean\u001b[0;34m(a, axis, dtype, out, keepdims)\u001b[0m\n\u001b[1;32m     68\u001b[0m             \u001b[0mis_float16_result\u001b[0m \u001b[0;34m=\u001b[0m \u001b[0;32mTrue\u001b[0m\u001b[0;34m\u001b[0m\u001b[0m\n\u001b[1;32m     69\u001b[0m \u001b[0;34m\u001b[0m\u001b[0m\n\u001b[0;32m---> 70\u001b[0;31m     \u001b[0mret\u001b[0m \u001b[0;34m=\u001b[0m \u001b[0mumr_sum\u001b[0m\u001b[0;34m(\u001b[0m\u001b[0marr\u001b[0m\u001b[0;34m,\u001b[0m \u001b[0maxis\u001b[0m\u001b[0;34m,\u001b[0m \u001b[0mdtype\u001b[0m\u001b[0;34m,\u001b[0m \u001b[0mout\u001b[0m\u001b[0;34m,\u001b[0m \u001b[0mkeepdims\u001b[0m\u001b[0;34m)\u001b[0m\u001b[0;34m\u001b[0m\u001b[0m\n\u001b[0m\u001b[1;32m     71\u001b[0m     \u001b[0;32mif\u001b[0m \u001b[0misinstance\u001b[0m\u001b[0;34m(\u001b[0m\u001b[0mret\u001b[0m\u001b[0;34m,\u001b[0m \u001b[0mmu\u001b[0m\u001b[0;34m.\u001b[0m\u001b[0mndarray\u001b[0m\u001b[0;34m)\u001b[0m\u001b[0;34m:\u001b[0m\u001b[0;34m\u001b[0m\u001b[0m\n\u001b[1;32m     72\u001b[0m         ret = um.true_divide(\n",
      "\u001b[0;31mKeyboardInterrupt\u001b[0m: "
     ]
    }
   ],
   "source": [
    "train[\"cosine_sim\"] = train.apply(cosine_sim, axis = 1)"
   ]
  },
  {
   "cell_type": "code",
   "execution_count": 25,
   "metadata": {
    "collapsed": true
   },
   "outputs": [],
   "source": [
    "def predictions(train):\n",
    "    \n",
    "    train[\"cosine_sim\"] = train.apply(cosine_sim, axis = 1)\n",
    "    train[\"diff\"] = (train[\"quest_emb\"] - train[\"sent_emb\"])**2\n",
    "    train[\"euclidean_dis\"] = train[\"diff\"].apply(lambda x: list(np.sum(x, axis = 1)))\n",
    "    del train[\"diff\"]\n",
    "    \n",
    "    print(\"cosine start\")\n",
    "    \n",
    "    train[\"pred_idx_cos\"] = train[\"cosine_sim\"].apply(lambda x: pred_idx(x))\n",
    "    train[\"pred_idx_euc\"] = train[\"euclidean_dis\"].apply(lambda x: pred_idx(x))\n",
    "    \n",
    "    return train\n",
    "    "
   ]
  },
  {
   "cell_type": "code",
   "execution_count": null,
   "metadata": {
    "collapsed": true
   },
   "outputs": [],
   "source": [
    "predicted = predictions(train)"
   ]
  },
  {
   "cell_type": "code",
   "execution_count": 71,
   "metadata": {},
   "outputs": [
    {
     "ename": "NameError",
     "evalue": "name 'predicted' is not defined",
     "output_type": "error",
     "traceback": [
      "\u001b[0;31m---------------------------------------------------------------------------\u001b[0m",
      "\u001b[0;31mNameError\u001b[0m                                 Traceback (most recent call last)",
      "\u001b[0;32m<ipython-input-71-a6cc8fb0b764>\u001b[0m in \u001b[0;36m<module>\u001b[0;34m()\u001b[0m\n\u001b[0;32m----> 1\u001b[0;31m \u001b[0mpredicted\u001b[0m\u001b[0;34m.\u001b[0m\u001b[0mhead\u001b[0m\u001b[0;34m(\u001b[0m\u001b[0;36m3\u001b[0m\u001b[0;34m)\u001b[0m\u001b[0;34m\u001b[0m\u001b[0m\n\u001b[0m",
      "\u001b[0;31mNameError\u001b[0m: name 'predicted' is not defined"
     ]
    }
   ],
   "source": [
    "predicted.head(3)"
   ]
  },
  {
   "cell_type": "code",
   "execution_count": 23,
   "metadata": {},
   "outputs": [
    {
     "data": {
      "text/plain": [
       "[0.424736299052452,\n",
       " 0.36405004106069117,\n",
       " 0.3477550016687636,\n",
       " 0.3942415731988862,\n",
       " 0.37102476524939887,\n",
       " 0.1856902254140269,\n",
       " 0.35192069116776403]"
      ]
     },
     "execution_count": 23,
     "metadata": {},
     "output_type": "execute_result"
    }
   ],
   "source": [
    "predicted[\"cosine_sim\"][0]"
   ]
  },
  {
   "cell_type": "code",
   "execution_count": 24,
   "metadata": {},
   "outputs": [
    {
     "data": {
      "text/plain": [
       "[14.563858, 15.262212, 17.398178, 14.272491, 13.339654, 9.336262, 15.720997]"
      ]
     },
     "execution_count": 24,
     "metadata": {},
     "output_type": "execute_result"
    }
   ],
   "source": [
    "predicted[\"euclidean_dis\"][0]"
   ]
  },
  {
   "cell_type": "markdown",
   "metadata": {},
   "source": [
    "## Accuracy"
   ]
  },
  {
   "cell_type": "code",
   "execution_count": 25,
   "metadata": {
    "collapsed": true
   },
   "outputs": [],
   "source": [
    "def accuracy(target, predicted):\n",
    "    \n",
    "    acc = (target==predicted).sum()/len(target)\n",
    "    \n",
    "    return acc"
   ]
  },
  {
   "cell_type": "markdown",
   "metadata": {},
   "source": [
    "### Accuracy for  euclidean Distance"
   ]
  },
  {
   "cell_type": "code",
   "execution_count": 26,
   "metadata": {},
   "outputs": [
    {
     "name": "stdout",
     "output_type": "stream",
     "text": [
      "0.44856046941711\n"
     ]
    }
   ],
   "source": [
    "print(accuracy(predicted[\"target\"], predicted[\"pred_idx_euc\"]))"
   ]
  },
  {
   "cell_type": "markdown",
   "metadata": {},
   "source": [
    "### Accuracy for Cosine Similarity"
   ]
  },
  {
   "cell_type": "code",
   "execution_count": 27,
   "metadata": {},
   "outputs": [
    {
     "name": "stdout",
     "output_type": "stream",
     "text": [
      "0.6338843352587958\n"
     ]
    }
   ],
   "source": [
    "print(accuracy(predicted[\"target\"], predicted[\"pred_idx_cos\"]))"
   ]
  },
  {
   "cell_type": "code",
   "execution_count": 44,
   "metadata": {
    "collapsed": true
   },
   "outputs": [],
   "source": [
    "predicted.to_csv(\"train_detect_sent.csv\", index=None)"
   ]
  },
  {
   "cell_type": "code",
   "execution_count": 34,
   "metadata": {},
   "outputs": [
    {
     "data": {
      "text/plain": [
       "answer_start                                                    69\n",
       "context          Both the vertical and dipole antennas are simp...\n",
       "question                             Are basic antennas expensive?\n",
       "text                                        relatively inexpensive\n",
       "sentences        [Both the vertical and dipole antennas are sim...\n",
       "target                                                           0\n",
       "sent_emb         [[0.06494937, 0.03690031, 0.12519251, -0.02735...\n",
       "quest_emb        [[0.031715073, 0.07947657, 0.030824697, 0.0126...\n",
       "cosine_sim       [0.359188584685867, 0.4689117244223153, 0.4489...\n",
       "euclidean_dis    [11.512397, 21.817242, 12.696278, 17.895185, 1...\n",
       "pred_idx_cos                                                     0\n",
       "pred_idx_euc                                                     0\n",
       "Name: 75208, dtype: object"
      ]
     },
     "execution_count": 34,
     "metadata": {},
     "output_type": "execute_result"
    }
   ],
   "source": [
    "predicted.iloc[75207,:]"
   ]
  },
  {
   "cell_type": "code",
   "execution_count": 38,
   "metadata": {
    "collapsed": true
   },
   "outputs": [],
   "source": [
    "ct,k = 0,0\n",
    "for i in range(predicted.shape[0]):\n",
    "    if predicted.iloc[i,10] != predicted.iloc[i,5]:\n",
    "        k += 1\n",
    "        if predicted.iloc[i,11] == predicted.iloc[i,5]:\n",
    "            ct += 1"
   ]
  },
  {
   "cell_type": "code",
   "execution_count": 39,
   "metadata": {},
   "outputs": [
    {
     "data": {
      "text/plain": [
       "(5545, 32071)"
      ]
     },
     "execution_count": 39,
     "metadata": {},
     "output_type": "execute_result"
    }
   ],
   "source": [
    "ct, k"
   ]
  },
  {
   "cell_type": "markdown",
   "metadata": {},
   "source": [
    "### Combining Accuracy"
   ]
  },
  {
   "cell_type": "code",
   "execution_count": 47,
   "metadata": {
    "collapsed": true
   },
   "outputs": [],
   "source": [
    "label = []\n",
    "for i in range(predicted.shape[0]):\n",
    "    if predicted.iloc[i,10] == predicted.iloc[i,11]:\n",
    "        label.append(predicted.iloc[i,10])\n",
    "    else:\n",
    "        label.append((predicted.iloc[i,10],predicted.iloc[i,10]))"
   ]
  },
  {
   "cell_type": "code",
   "execution_count": 66,
   "metadata": {
    "collapsed": true
   },
   "outputs": [],
   "source": [
    "ct = 0\n",
    "for i in range(75206):\n",
    "    item = predicted[\"target\"][i]\n",
    "    try:\n",
    "        if label[i] == predicted[\"target\"][i]: ct +=1\n",
    "    except:\n",
    "        if item in label[i]: ct +=1\n",
    "            "
   ]
  },
  {
   "cell_type": "code",
   "execution_count": 68,
   "metadata": {},
   "outputs": [
    {
     "data": {
      "text/plain": [
       "0.6370901257878361"
      ]
     },
     "execution_count": 68,
     "metadata": {},
     "output_type": "execute_result"
    }
   ],
   "source": [
    "ct/75206"
   ]
  },
  {
   "cell_type": "markdown",
   "metadata": {},
   "source": [
    "### Root Match"
   ]
  },
  {
   "cell_type": "code",
   "execution_count": 2,
   "metadata": {
    "collapsed": true
   },
   "outputs": [],
   "source": [
    "predicted = pd.read_csv(\"train_detect_sent.csv\").reset_index(drop=True)"
   ]
  },
  {
   "cell_type": "code",
   "execution_count": 39,
   "metadata": {
    "collapsed": true
   },
   "outputs": [],
   "source": [
    "doc = en_nlp(predicted.iloc[0,1])"
   ]
  },
  {
   "cell_type": "code",
   "execution_count": 40,
   "metadata": {},
   "outputs": [
    {
     "data": {
      "text/plain": [
       "'Architecturally, the school has a Catholic character. Atop the Main Building\\'s gold dome is a golden statue of the Virgin Mary. Immediately in front of the Main Building and facing it, is a copper statue of Christ with arms upraised with the legend \"Venite Ad Me Omnes\". Next to the Main Building is the Basilica of the Sacred Heart. Immediately behind the basilica is the Grotto, a Marian place of prayer and reflection. It is a replica of the grotto at Lourdes, France where the Virgin Mary reputedly appeared to Saint Bernadette Soubirous in 1858. At the end of the main drive (and in a direct line that connects through 3 statues and the Gold Dome), is a simple, modern stone statue of Mary.'"
      ]
     },
     "execution_count": 40,
     "metadata": {},
     "output_type": "execute_result"
    }
   ],
   "source": [
    "predicted.iloc[0,1]"
   ]
  },
  {
   "cell_type": "code",
   "execution_count": 49,
   "metadata": {},
   "outputs": [
    {
     "data": {
      "text/plain": [
       "'To whom did the Virgin Mary allegedly appear in 1858 in Lourdes France?'"
      ]
     },
     "execution_count": 49,
     "metadata": {},
     "output_type": "execute_result"
    }
   ],
   "source": [
    "predicted.iloc[0,2]"
   ]
  },
  {
   "cell_type": "code",
   "execution_count": 41,
   "metadata": {
    "collapsed": true
   },
   "outputs": [],
   "source": [
    "def to_nltk_tree(node):\n",
    "    if node.n_lefts + node.n_rights > 0:\n",
    "        return Tree(node.orth_, [to_nltk_tree(child) for child in node.children])\n",
    "    else:\n",
    "        return node.orth_"
   ]
  },
  {
   "cell_type": "code",
   "execution_count": 42,
   "metadata": {},
   "outputs": [
    {
     "name": "stdout",
     "output_type": "stream",
     "text": [
      "                  appear                             \n",
      "  __________________|____________________________     \n",
      " |      |      |    |         |           |      in  \n",
      " |      |      |    |         |           |      |    \n",
      " |      |      |    To       Mary         in   France\n",
      " |      |      |    |      ___|_____      |      |    \n",
      "did allegedly  ?   whom  the      Virgin 1858 Lourdes\n",
      "\n"
     ]
    },
    {
     "data": {
      "text/plain": [
       "[None]"
      ]
     },
     "execution_count": 42,
     "metadata": {},
     "output_type": "execute_result"
    }
   ],
   "source": [
    "[to_nltk_tree(sent.root).pretty_print()  for sent in en_nlp(predicted.iloc[0,2]).sents]"
   ]
  },
  {
   "cell_type": "code",
   "execution_count": 50,
   "metadata": {},
   "outputs": [
    {
     "name": "stdout",
     "output_type": "stream",
     "text": [
      "                    has                              \n",
      "        _____________|_________________               \n",
      "       |         |   |  school     character         \n",
      "       |         |   |    |      ______|________      \n",
      "Architecturally  ,   .   the    a            Catholic\n",
      "\n",
      "                            is                           \n",
      "  __________________________|________                     \n",
      " |           Atop                  statue                \n",
      " |            |                  ____|_________           \n",
      " |           dome               |    |         of        \n",
      " |    ________|______           |    |         |          \n",
      " |   |            Building      |    |        Mary       \n",
      " |   |     __________|______    |    |      ___|_____     \n",
      " .  gold the        Main    's  a  golden the      Virgin\n",
      "\n",
      "                                                  is                                                   \n",
      "  ________________________________________________|______________________                               \n",
      " |   |                   |                                             statue                          \n",
      " |   |                   |                         ______________________|_______                       \n",
      " |   |                   |                        |    |      |                 with                   \n",
      " |   |                   |                        |    |      |                  |                      \n",
      " |   |                   |                        |    |      |                 arms                   \n",
      " |   |                   |                        |    |      |                  |                      \n",
      " |   |                   in                       |    |      |               upraised                 \n",
      " |   |        ___________|__________________      |    |      |                  |                      \n",
      " |   |       |       |       front          |     |    |      |                 with                   \n",
      " |   |       |       |         |            |     |    |      |                  |                      \n",
      " |   |       |       |         of           |     |    |      |                legend                  \n",
      " |   |       |       |         |            |     |    |      |      ____________|______________        \n",
      " |   |       |       |      Building      facing  |    |      of    |    |       |            Omnes    \n",
      " |   |       |       |    _____|______      |     |    |      |     |    |       |        ______|____   \n",
      " ,   .  Immediately and the          Main   it    a  copper Christ the   \"       \"     Venite   Ad   Me\n",
      "\n",
      "                  is                           \n",
      "  ________________|__________                   \n",
      " |        Next            Basilica             \n",
      " |         |            _____|_______           \n",
      " |         to          |             of        \n",
      " |         |           |             |          \n",
      " |      Building       |           Heart       \n",
      " |    _____|______     |      _______|_____     \n",
      " .  the          Main the   the          Sacred\n",
      "\n",
      "                                     is                                    \n",
      "  ___________________________________|____                                  \n",
      " |                |                     Grotto                             \n",
      " |                |               ________|______                           \n",
      " |                |              |   |         place                       \n",
      " |                |              |   |     ______|__________                \n",
      " |              behind           |   |    |      |          of             \n",
      " |        ________|_______       |   |    |      |          |               \n",
      " |       |             basilica  |   |    |      |        prayer           \n",
      " |       |                |      |   |    |      |      ____|________       \n",
      " .  Immediately          the    the  ,    a    Marian and        reflection\n",
      "\n",
      "     is                                                                          \n",
      "  ___|_________                                                                   \n",
      " |   |      replica                                                              \n",
      " |   |    _____|______                                                            \n",
      " |   |   |            of                                                         \n",
      " |   |   |            |                                                           \n",
      " |   |   |          grotto                                                       \n",
      " |   |   |      ______|_______                                                    \n",
      " |   |   |     |              at                                                 \n",
      " |   |   |     |              |                                                   \n",
      " |   |   |     |           Lourdes                                               \n",
      " |   |   |     |       _______|_________________                                  \n",
      " |   |   |     |      |                       France                             \n",
      " |   |   |     |      |                         |                                 \n",
      " |   |   |     |      |                      appeared                            \n",
      " |   |   |     |      |        _________________|_____________________________    \n",
      " |   |   |     |      |       |        |               |              to      |  \n",
      " |   |   |     |      |       |        |               |              |       |   \n",
      " |   |   |     |      |       |        |               |          Soubirous   |  \n",
      " |   |   |     |      |       |        |               |              |       |   \n",
      " |   |   |     |      |       |        |              Mary        Bernadette  in \n",
      " |   |   |     |      |       |        |         ______|_____         |       |   \n",
      " It  .   a    the     ,     where  reputedly   the         Virgin   Saint    1858\n",
      "\n",
      "                                                   is                                                                    \n",
      "  _________________________________________________|_______________________________________________                       \n",
      " |   |   |   |       |                  in                                                         |                     \n",
      " |   |   |   |       |               ___|____                                                      |                      \n",
      " |   |   |   |       |              |       line                                                   |                     \n",
      " |   |   |   |       |              |    ____|____________                                         |                      \n",
      " |   |   |   |       At             |   |    |         connects                                    |                     \n",
      " |   |   |   |       |              |   |    |      ______|________                                |                      \n",
      " |   |   |   |      end             |   |    |     |            through                            |                     \n",
      " |   |   |   |    ___|____          |   |    |     |               |                               |                      \n",
      " |   |   |   |   |        of        |   |    |     |            statues                          statue                  \n",
      " |   |   |   |   |        |         |   |    |     |       ________|_________           ___________|__________________    \n",
      " |   |   |   |   |      drive       |   |    |     |      |        |        Dome       |    |      |      |      |    of \n",
      " |   |   |   |   |    ____|____     |   |    |     |      |        |      ___|____     |    |      |      |      |    |   \n",
      " (  and  ,   .  the the       main  )   a  direct that    3       and   the      Gold  a  simple   ,    modern stone Mary\n",
      "\n"
     ]
    }
   ],
   "source": [
    "[to_nltk_tree(sent.root) .pretty_print() for sent in doc.sents][5]"
   ]
  },
  {
   "cell_type": "code",
   "execution_count": 44,
   "metadata": {},
   "outputs": [
    {
     "name": "stdout",
     "output_type": "stream",
     "text": [
      "['has', 'has']\n",
      "['atop', 'is', 'of']\n",
      "['in', 'of', 'fac', 'is', 'of', 'with', 'with', 'legend']\n",
      "['to', 'is', 'of']\n",
      "['behind', 'is', 'grotto', 'of', 'pray']\n",
      "['is', 'is', 'of', 'at', 'lourd', 'appear', 'to']\n",
      "['at', 'of', 'in', 'through', 'statu', 'is', 'of']\n"
     ]
    }
   ],
   "source": [
    "for sent in doc.sents:\n",
    "    roots = [st.stem(chunk.root.head.text.lower()) for chunk in sent.noun_chunks]\n",
    "    print(roots)"
   ]
  },
  {
   "cell_type": "code",
   "execution_count": 45,
   "metadata": {
    "collapsed": true
   },
   "outputs": [],
   "source": [
    "def match_roots(x):\n",
    "    question = x[\"question\"].lower()\n",
    "    sentences = en_nlp(x[\"context\"].lower()).sents\n",
    "    \n",
    "    question_root = st.stem(str([sent.root for sent in en_nlp(question).sents][0]))\n",
    "    \n",
    "    li = []\n",
    "    for i,sent in enumerate(sentences):\n",
    "        roots = [st.stem(chunk.root.head.text.lower()) for chunk in sent.noun_chunks]\n",
    "\n",
    "        if question_root in roots: \n",
    "            for k,item in enumerate(ast.literal_eval(x[\"sentences\"])):\n",
    "                if str(sent) in item.lower(): \n",
    "                    li.append(k)\n",
    "    return li"
   ]
  },
  {
   "cell_type": "code",
   "execution_count": 46,
   "metadata": {},
   "outputs": [
    {
     "data": {
      "text/plain": [
       "'The end of what road was once home to Newgate Prison?'"
      ]
     },
     "execution_count": 46,
     "metadata": {},
     "output_type": "execute_result"
    }
   ],
   "source": [
    "predicted[\"question\"][21493]"
   ]
  },
  {
   "cell_type": "code",
   "execution_count": 47,
   "metadata": {},
   "outputs": [
    {
     "data": {
      "text/plain": [
       "\"10th Street (40°44′03″N 74°00′11″W\\ufeff / \\ufeff40.7342580°N 74.0029670°W\\ufeff / 40.7342580; -74.0029670) begins at the FDR Drive and Avenue C. West of Sixth Avenue, it turns southward about 40 degrees to join the Greenwich Village street grid and continue to West Street on the Hudson River. Because West 4th Street turns northward at Sixth Avenue, it intersects 10th, 11th and 12th and 13th Streets in the West Village. The M8 bus operates on 10th Street in both directions between Avenue D and Avenue A, and eastbound between West Street and Sixth Avenue. 10th Street has an eastbound bike lane from West Street to the East River. In 2009, the two-way section of 10th Street between Avenue A and the East River had bicycle markings and sharrows installed, but it still has no dedicated bike lane. West 10th Street was previously named Amos Street for Richard Amos. The end of West 10th Street toward the Hudson River was once the home of Newgate Prison, New York City's first prison and the United States' second.\""
      ]
     },
     "execution_count": 47,
     "metadata": {},
     "output_type": "execute_result"
    }
   ],
   "source": [
    "predicted[\"context\"][21493]"
   ]
  },
  {
   "cell_type": "code",
   "execution_count": 48,
   "metadata": {
    "collapsed": true
   },
   "outputs": [],
   "source": [
    "predicted[\"root_match_idx\"] = predicted.apply(match_roots, axis = 1)"
   ]
  },
  {
   "cell_type": "code",
   "execution_count": null,
   "metadata": {
    "collapsed": true
   },
   "outputs": [],
   "source": []
  },
  {
   "cell_type": "code",
   "execution_count": 51,
   "metadata": {
    "collapsed": true
   },
   "outputs": [],
   "source": [
    "predicted[\"root_match_idx_first\"]= predicted[\"root_match_idx\"].apply(lambda x: x[0] if len(x)>0 else 0)"
   ]
  },
  {
   "cell_type": "code",
   "execution_count": 52,
   "metadata": {},
   "outputs": [
    {
     "data": {
      "text/plain": [
       "0.3977488070503893"
      ]
     },
     "execution_count": 52,
     "metadata": {},
     "output_type": "execute_result"
    }
   ],
   "source": [
    "(predicted[\"root_match_idx_first\"]==predicted[\"target\"]).sum()/predicted.shape[0]"
   ]
  },
  {
   "cell_type": "code",
   "execution_count": 55,
   "metadata": {
    "collapsed": true
   },
   "outputs": [],
   "source": [
    "predicted.to_csv(\"train_detect_sent.csv\", index=None)"
   ]
  },
  {
   "cell_type": "code",
   "execution_count": 53,
   "metadata": {},
   "outputs": [
    {
     "data": {
      "text/html": [
       "<div>\n",
       "<style scoped>\n",
       "    .dataframe tbody tr th:only-of-type {\n",
       "        vertical-align: middle;\n",
       "    }\n",
       "\n",
       "    .dataframe tbody tr th {\n",
       "        vertical-align: top;\n",
       "    }\n",
       "\n",
       "    .dataframe thead th {\n",
       "        text-align: right;\n",
       "    }\n",
       "</style>\n",
       "<table border=\"1\" class=\"dataframe\">\n",
       "  <thead>\n",
       "    <tr style=\"text-align: right;\">\n",
       "      <th></th>\n",
       "      <th>answer_start</th>\n",
       "      <th>context</th>\n",
       "      <th>question</th>\n",
       "      <th>text</th>\n",
       "      <th>sentences</th>\n",
       "      <th>quest_emb</th>\n",
       "      <th>target</th>\n",
       "      <th>sent_emb</th>\n",
       "      <th>cosine_sim</th>\n",
       "      <th>euclidean_dis</th>\n",
       "      <th>pred_idx_cos</th>\n",
       "      <th>pred_idx_euc</th>\n",
       "      <th>root_match_idx</th>\n",
       "      <th>root_match_idx_first</th>\n",
       "    </tr>\n",
       "  </thead>\n",
       "  <tbody>\n",
       "  </tbody>\n",
       "</table>\n",
       "</div>"
      ],
      "text/plain": [
       "Empty DataFrame\n",
       "Columns: [answer_start, context, question, text, sentences, quest_emb, target, sent_emb, cosine_sim, euclidean_dis, pred_idx_cos, pred_idx_euc, root_match_idx, root_match_idx_first]\n",
       "Index: []"
      ]
     },
     "execution_count": 53,
     "metadata": {},
     "output_type": "execute_result"
    }
   ],
   "source": [
    "predicted[(predicted[\"sentences\"].apply(lambda x: len(ast.literal_eval(x)))<11) &  (predicted[\"root_match_idx_first\"]>10)]       \n",
    "\n"
   ]
  },
  {
   "cell_type": "code",
   "execution_count": 23,
   "metadata": {},
   "outputs": [
    {
     "data": {
      "text/plain": [
       "7"
      ]
     },
     "execution_count": 23,
     "metadata": {},
     "output_type": "execute_result"
    }
   ],
   "source": [
    "len(ast.literal_eval(predicted.iloc[21493,4]))"
   ]
  },
  {
   "cell_type": "code",
   "execution_count": 59,
   "metadata": {},
   "outputs": [
    {
     "name": "stdout",
     "output_type": "stream",
     "text": [
      "['street']\n",
      "['°']\n",
      "[]\n",
      "['°']\n",
      "['°', '°']\n",
      "[]\n",
      "['at', 'driv', 'of', 'turn', 'turn', 'join', 'west', 'on']\n",
      "['turn', 'at', 'intersect', 'intersect', 'in']\n",
      "['op', 'on', 'in', 'between', 'street']\n",
      "['has', 'has', 'from', 'to']\n",
      "['had', 'of', 'a', 'had', 'had', 'has', 'has']\n",
      "['nam']\n",
      "['was', 'of', 'toward', 'was', 'of', 'hom']\n"
     ]
    }
   ],
   "source": [
    "question = predicted[\"question\"][21493].lower()\n",
    "sentences = en_nlp(predicted[\"context\"][21493].lower()).sents\n",
    "    \n",
    "question_root = st.stem(str([sent.root for sent in en_nlp(question).sents][0]))\n",
    "    \n",
    "li = []\n",
    "for i,sent in enumerate(sentences):\n",
    "    roots = [st.stem(chunk.root.head.text.lower()) for chunk in sent.noun_chunks]\n",
    "    print(roots)\n",
    "\n",
    "    if question_root in roots: li.append(i)"
   ]
  },
  {
   "cell_type": "code",
   "execution_count": 4,
   "metadata": {},
   "outputs": [
    {
     "data": {
      "text/plain": [
       "['10th Street (40°44′03″N 74°00′11″W\\ufeff / \\ufeff40.7342580°N 74.0029670°W\\ufeff / 40.7342580; -74.0029670) begins at the FDR Drive and Avenue C. West of Sixth Avenue, it turns southward about 40 degrees to join the Greenwich Village street grid and continue to West Street on the Hudson River.',\n",
       " 'Because West 4th Street turns northward at Sixth Avenue, it intersects 10th, 11th and 12th and 13th Streets in the West Village.',\n",
       " 'The M8 bus operates on 10th Street in both directions between Avenue D and Avenue A, and eastbound between West Street and Sixth Avenue.',\n",
       " '10th Street has an eastbound bike lane from West Street to the East River.',\n",
       " 'In 2009, the two-way section of 10th Street between Avenue A and the East River had bicycle markings and sharrows installed, but it still has no dedicated bike lane.',\n",
       " 'West 10th Street was previously named Amos Street for Richard Amos.',\n",
       " \"The end of West 10th Street toward the Hudson River was once the home of Newgate Prison, New York City's first prison and the United States' second.\"]"
      ]
     },
     "execution_count": 4,
     "metadata": {},
     "output_type": "execute_result"
    }
   ],
   "source": [
    "ast.literal_eval(predicted[\"sentences\"][21493])"
   ]
  },
  {
   "cell_type": "code",
   "execution_count": 5,
   "metadata": {},
   "outputs": [
    {
     "data": {
      "text/plain": [
       "\"10th Street (40°44′03″N 74°00′11″W\\ufeff / \\ufeff40.7342580°N 74.0029670°W\\ufeff / 40.7342580; -74.0029670) begins at the FDR Drive and Avenue C. West of Sixth Avenue, it turns southward about 40 degrees to join the Greenwich Village street grid and continue to West Street on the Hudson River. Because West 4th Street turns northward at Sixth Avenue, it intersects 10th, 11th and 12th and 13th Streets in the West Village. The M8 bus operates on 10th Street in both directions between Avenue D and Avenue A, and eastbound between West Street and Sixth Avenue. 10th Street has an eastbound bike lane from West Street to the East River. In 2009, the two-way section of 10th Street between Avenue A and the East River had bicycle markings and sharrows installed, but it still has no dedicated bike lane. West 10th Street was previously named Amos Street for Richard Amos. The end of West 10th Street toward the Hudson River was once the home of Newgate Prison, New York City's first prison and the United States' second.\""
      ]
     },
     "execution_count": 5,
     "metadata": {},
     "output_type": "execute_result"
    }
   ],
   "source": [
    "predicted[\"context\"][21493]"
   ]
  },
  {
   "cell_type": "code",
   "execution_count": 14,
   "metadata": {
    "collapsed": true
   },
   "outputs": [],
   "source": [
    "en_nlp = spacy.load('en')\n",
    "sentences = en_nlp(predicted[\"context\"][21493].lower()).sents"
   ]
  },
  {
   "cell_type": "code",
   "execution_count": 15,
   "metadata": {},
   "outputs": [
    {
     "name": "stdout",
     "output_type": "stream",
     "text": [
      "10th street\n",
      "(40°44′03″n 74°00′11″w﻿\n",
      "/\n",
      "﻿40.7342580°n\n",
      "74.0029670°w﻿\n",
      "/ 40.7342580;\n",
      "-74.0029670) begins at the fdr drive and avenue c. west of sixth avenue, it turns southward about 40 degrees to join the greenwich village street grid and continue to west street on the hudson river.\n",
      "because west 4th street turns northward at sixth avenue, it intersects 10th, 11th and 12th and 13th streets in the west village.\n",
      "the m8 bus operates on 10th street in both directions between avenue d and avenue a, and eastbound between west street and sixth avenue.\n",
      "10th street has an eastbound bike lane from west street to the east river.\n",
      "in 2009, the two-way section of 10th street between avenue a and the east river had bicycle markings and sharrows installed, but it still has no dedicated bike lane.\n",
      "west 10th street was previously named amos street for richard amos.\n",
      "the end of west 10th street toward the hudson river was once the home of newgate prison, new york city's first prison and the united states' second.\n"
     ]
    }
   ],
   "source": [
    "for item in sentences:\n",
    "    print(item)"
   ]
  },
  {
   "cell_type": "code",
   "execution_count": null,
   "metadata": {
    "collapsed": true
   },
   "outputs": [],
   "source": []
  },
  {
   "cell_type": "code",
   "execution_count": 6,
   "metadata": {},
   "outputs": [
    {
     "data": {
      "text/plain": [
       "TfidfVectorizer(analyzer='word', binary=False, decode_error='strict',\n",
       "        dtype=<class 'numpy.int64'>, encoding='utf-8',\n",
       "        input='[\\'Architecturally, the school has a Catholic character.\\', \"Atop the Main Building\\'s gold dome is a golden statue of the Virgin Mary.\", \\'Immediately in front of the Main Building and facing it, is a copper statue of Christ with arms upraised with the legend \"Venite Ad Me Omnes\".\\', \\'Next ...ne that connects through 3 statues and the Gold Dome), is a simple, modern stone statue of Mary.\\']',\n",
       "        lowercase=True, max_df=1.0, max_features=None, min_df=1,\n",
       "        ngram_range=(1, 2), norm='l2', preprocessor=None, smooth_idf=True,\n",
       "        stop_words=None, strip_accents=None, sublinear_tf=False,\n",
       "        token_pattern='(?u)\\\\b\\\\w\\\\w+\\\\b', tokenizer=None, use_idf=True,\n",
       "        vocabulary=None)"
      ]
     },
     "execution_count": 6,
     "metadata": {},
     "output_type": "execute_result"
    }
   ],
   "source": [
    "TfidfVectorizer(predicted[\"sentences\"][0], ngram_range=(1,2))"
   ]
  },
  {
   "cell_type": "code",
   "execution_count": null,
   "metadata": {
    "collapsed": true
   },
   "outputs": [],
   "source": []
  },
  {
   "cell_type": "code",
   "execution_count": null,
   "metadata": {
    "collapsed": true
   },
   "outputs": [],
   "source": []
  },
  {
   "cell_type": "code",
   "execution_count": null,
   "metadata": {
    "collapsed": true
   },
   "outputs": [],
   "source": []
  },
  {
   "cell_type": "code",
   "execution_count": null,
   "metadata": {
    "collapsed": true
   },
   "outputs": [],
   "source": []
  },
  {
   "cell_type": "code",
   "execution_count": null,
   "metadata": {
    "collapsed": true
   },
   "outputs": [],
   "source": []
  },
  {
   "cell_type": "code",
   "execution_count": null,
   "metadata": {
    "collapsed": true
   },
   "outputs": [],
   "source": []
  },
  {
   "cell_type": "code",
   "execution_count": null,
   "metadata": {
    "collapsed": true
   },
   "outputs": [],
   "source": []
  },
  {
   "cell_type": "code",
   "execution_count": null,
   "metadata": {
    "collapsed": true
   },
   "outputs": [],
   "source": []
  },
  {
   "cell_type": "code",
   "execution_count": null,
   "metadata": {
    "collapsed": true
   },
   "outputs": [],
   "source": []
  },
  {
   "cell_type": "code",
   "execution_count": null,
   "metadata": {
    "collapsed": true
   },
   "outputs": [],
   "source": []
  },
  {
   "cell_type": "code",
   "execution_count": null,
   "metadata": {
    "collapsed": true
   },
   "outputs": [],
   "source": []
  },
  {
   "cell_type": "code",
   "execution_count": null,
   "metadata": {
    "collapsed": true
   },
   "outputs": [],
   "source": []
  },
  {
   "cell_type": "code",
   "execution_count": null,
   "metadata": {
    "collapsed": true
   },
   "outputs": [],
   "source": []
  },
  {
   "cell_type": "code",
   "execution_count": null,
   "metadata": {
    "collapsed": true
   },
   "outputs": [],
   "source": []
  },
  {
   "cell_type": "code",
   "execution_count": null,
   "metadata": {
    "collapsed": true
   },
   "outputs": [],
   "source": []
  }
 ],
 "metadata": {
  "hide_input": false,
  "kernelspec": {
   "display_name": "conda_pytorch_p36",
   "language": "python",
   "name": "conda_pytorch_p36"
  },
  "language_info": {
   "codemirror_mode": {
    "name": "ipython",
    "version": 3
   },
   "file_extension": ".py",
   "mimetype": "text/x-python",
   "name": "python",
   "nbconvert_exporter": "python",
   "pygments_lexer": "ipython3",
   "version": "3.6.5"
  }
 },
 "nbformat": 4,
 "nbformat_minor": 2
}
