{
 "cells": [
  {
   "cell_type": "code",
   "execution_count": 5,
   "metadata": {
    "collapsed": true
   },
   "outputs": [],
   "source": [
    "import numpy as np, pandas as pd\n",
    "import json\n",
    "import ast \n",
    "import nltk\n",
    "import torch\n",
    "import pickle\n",
    "from scipy import spatial\n",
    "import warnings\n",
    "warnings.filterwarnings('ignore')\n",
    "from nltk import Tree\n",
    "from nltk.stem.lancaster import LancasterStemmer\n",
    "st = LancasterStemmer()\n",
    "from sklearn.feature_extraction.text import TfidfVectorizer, TfidfTransformer"
   ]
  },
  {
   "cell_type": "code",
   "execution_count": 6,
   "metadata": {
    "collapsed": true
   },
   "outputs": [],
   "source": [
    "train = pd.read_csv(\"InferSent/encoder/data/train.tsv\",sep='\\t')"
   ]
  },
  {
   "cell_type": "code",
   "execution_count": 7,
   "metadata": {},
   "outputs": [
    {
     "name": "stdout",
     "output_type": "stream",
     "text": [
      "\n",
      "Usage:   \n",
      "  pip <command> [options]\n",
      "\n",
      "Commands:\n",
      "  install                     Install packages.\n",
      "  download                    Download packages.\n",
      "  uninstall                   Uninstall packages.\n",
      "  freeze                      Output installed packages in requirements format.\n",
      "  list                        List installed packages.\n",
      "  show                        Show information about installed packages.\n",
      "  check                       Verify installed packages have compatible dependencies.\n",
      "  config                      Manage local and global configuration.\n",
      "  search                      Search PyPI for packages.\n",
      "  wheel                       Build wheels from your requirements.\n",
      "  hash                        Compute hashes of package archives.\n",
      "  completion                  A helper command used for command completion.\n",
      "  help                        Show help for commands.\n",
      "\n",
      "General Options:\n",
      "  -h, --help                  Show help.\n",
      "  --isolated                  Run pip in an isolated mode, ignoring\n",
      "                              environment variables and user configuration.\n",
      "  -v, --verbose               Give more output. Option is additive, and can be\n",
      "                              used up to 3 times.\n",
      "  -V, --version               Show version and exit.\n",
      "  -q, --quiet                 Give less output. Option is additive, and can be\n",
      "                              used up to 3 times (corresponding to WARNING,\n",
      "                              ERROR, and CRITICAL logging levels).\n",
      "  --log <path>                Path to a verbose appending log.\n",
      "  --proxy <proxy>             Specify a proxy in the form\n",
      "                              [user:passwd@]proxy.server:port.\n",
      "  --retries <retries>         Maximum number of retries each connection should\n",
      "                              attempt (default 5 times).\n",
      "  --timeout <sec>             Set the socket timeout (default 15 seconds).\n",
      "  --exists-action <action>    Default action when a path already exists:\n",
      "                              (s)witch, (i)gnore, (w)ipe, (b)ackup, (a)bort).\n",
      "  --trusted-host <hostname>   Mark this host as trusted, even though it does\n",
      "                              not have valid or any HTTPS.\n",
      "  --cert <path>               Path to alternate CA bundle.\n",
      "  --client-cert <path>        Path to SSL client certificate, a single file\n",
      "                              containing the private key and the certificate\n",
      "                              in PEM format.\n",
      "  --cache-dir <dir>           Store the cache data in <dir>.\n",
      "  --no-cache-dir              Disable the cache.\n",
      "  --disable-pip-version-check\n",
      "                              Don't periodically check PyPI to determine\n",
      "                              whether a new version of pip is available for\n",
      "                              download. Implied with --no-index.\n",
      "  --no-color                  Suppress colored output\n"
     ]
    }
   ],
   "source": [
    "!pip "
   ]
  },
  {
   "cell_type": "code",
   "execution_count": 8,
   "metadata": {},
   "outputs": [
    {
     "data": {
      "text/plain": [
       "(4957, 5)"
      ]
     },
     "execution_count": 8,
     "metadata": {},
     "output_type": "execute_result"
    }
   ],
   "source": [
    "train.shape"
   ]
  },
  {
   "cell_type": "markdown",
   "metadata": {},
   "source": [
    "### Loading Embedding dictionary"
   ]
  },
  {
   "cell_type": "code",
   "execution_count": 9,
   "metadata": {
    "collapsed": true
   },
   "outputs": [],
   "source": [
    "with open(\"InferSent/encoder/data/dict_embeddings.pickle\", \"rb\") as f:\n",
    "    d_context_embeddings = pickle.load(f)"
   ]
  },
  {
   "cell_type": "code",
   "execution_count": 10,
   "metadata": {
    "collapsed": true
   },
   "outputs": [],
   "source": [
    "with open(\"InferSent/encoder/data/dict_embeddings_questions.pickle\", \"rb\") as f:\n",
    "    d_question_embeddings = pickle.load(f)"
   ]
  },
  {
   "cell_type": "code",
   "execution_count": 11,
   "metadata": {
    "collapsed": true
   },
   "outputs": [],
   "source": [
    "dict_context_emb = dict(d_context_embeddings)\n",
    "dict_question_emb = dict(d_question_embeddings)"
   ]
  },
  {
   "cell_type": "code",
   "execution_count": 12,
   "metadata": {},
   "outputs": [
    {
     "data": {
      "text/plain": [
       "(1326, 4835)"
      ]
     },
     "execution_count": 12,
     "metadata": {},
     "output_type": "execute_result"
    }
   ],
   "source": [
    "len(dict_context_emb), len(dict_question_emb)"
   ]
  },
  {
   "cell_type": "code",
   "execution_count": 13,
   "metadata": {},
   "outputs": [],
   "source": [
    "#for key,value in dict_emb.items():\n",
    "#    print(value)"
   ]
  },
  {
   "cell_type": "code",
   "execution_count": 14,
   "metadata": {
    "collapsed": true
   },
   "outputs": [],
   "source": [
    "del d_context_embeddings, d_question_embeddings"
   ]
  },
  {
   "cell_type": "markdown",
   "metadata": {},
   "source": [
    "## Data Processing"
   ]
  },
  {
   "cell_type": "code",
   "execution_count": 15,
   "metadata": {},
   "outputs": [
    {
     "name": "stdout",
     "output_type": "stream",
     "text": [
      "1326\n"
     ]
    }
   ],
   "source": [
    "sentences = []\n",
    "with open('InferSent/encoder/data/openbook.txt') as f:\n",
    "    for line in f:\n",
    "        sentences.append(line.strip())\n",
    "print(len(sentences))        "
   ]
  },
  {
   "cell_type": "code",
   "execution_count": 16,
   "metadata": {},
   "outputs": [],
   "source": [
    "train['sentences'] = [sentences for i in train.index]"
   ]
  },
  {
   "cell_type": "code",
   "execution_count": 17,
   "metadata": {},
   "outputs": [],
   "source": [
    "train['quest_emb'] = train['Question Stem'].apply(lambda x: dict_question_emb[x] if x \\\n",
    "                                                  in dict_question_emb else np.zeros(4096))"
   ]
  },
  {
   "cell_type": "code",
   "execution_count": 18,
   "metadata": {},
   "outputs": [],
   "source": [
    "train['sent_emb'] = train['sentences'].apply(lambda x: [dict_context_emb[item][0] if item in\\\n",
    "                                                           dict_context_emb else np.zeros(4096) for item in x])"
   ]
  },
  {
   "cell_type": "code",
   "execution_count": 19,
   "metadata": {},
   "outputs": [
    {
     "data": {
      "text/html": [
       "<div>\n",
       "<style scoped>\n",
       "    .dataframe tbody tr th:only-of-type {\n",
       "        vertical-align: middle;\n",
       "    }\n",
       "\n",
       "    .dataframe tbody tr th {\n",
       "        vertical-align: top;\n",
       "    }\n",
       "\n",
       "    .dataframe thead th {\n",
       "        text-align: right;\n",
       "    }\n",
       "</style>\n",
       "<table border=\"1\" class=\"dataframe\">\n",
       "  <thead>\n",
       "    <tr style=\"text-align: right;\">\n",
       "      <th></th>\n",
       "      <th>ID</th>\n",
       "      <th>Question Stem</th>\n",
       "      <th>Choices</th>\n",
       "      <th>Complete Question</th>\n",
       "      <th>Answer Key</th>\n",
       "      <th>sentences</th>\n",
       "      <th>quest_emb</th>\n",
       "      <th>sent_emb</th>\n",
       "    </tr>\n",
       "  </thead>\n",
       "  <tbody>\n",
       "    <tr>\n",
       "      <th>0</th>\n",
       "      <td>7-980</td>\n",
       "      <td>The sun is responsible for</td>\n",
       "      <td>(A) puppies learning new tricks (B) children g...</td>\n",
       "      <td>The sun is responsible for (A) puppies learnin...</td>\n",
       "      <td>D</td>\n",
       "      <td>[\"A bee is a pollinating animal\", \"A bird is a...</td>\n",
       "      <td>[[0.051545985, 0.03336649, -0.005079767, -0.00...</td>\n",
       "      <td>[[0.051334266, 0.032628123, 0.008248221, 0.062...</td>\n",
       "    </tr>\n",
       "    <tr>\n",
       "      <th>1</th>\n",
       "      <td>7-584</td>\n",
       "      <td>When standing miles away from Mount Rushmore</td>\n",
       "      <td>(A) the mountains seem very close (B) the moun...</td>\n",
       "      <td>When standing miles away from Mount Rushmore (...</td>\n",
       "      <td>D</td>\n",
       "      <td>[\"A bee is a pollinating animal\", \"A bird is a...</td>\n",
       "      <td>[[0.045675803, 0.026302924, -0.030445106, -0.0...</td>\n",
       "      <td>[[0.051334266, 0.032628123, 0.008248221, 0.062...</td>\n",
       "    </tr>\n",
       "    <tr>\n",
       "      <th>2</th>\n",
       "      <td>7-870</td>\n",
       "      <td>When food is reduced in the stomach</td>\n",
       "      <td>(A) the mind needs time to digest (B) take a s...</td>\n",
       "      <td>When food is reduced in the stomach (A) the mi...</td>\n",
       "      <td>C</td>\n",
       "      <td>[\"A bee is a pollinating animal\", \"A bird is a...</td>\n",
       "      <td>[[0.12085862, 0.0785711, 0.05753665, -0.025412...</td>\n",
       "      <td>[[0.051334266, 0.032628123, 0.008248221, 0.062...</td>\n",
       "    </tr>\n",
       "  </tbody>\n",
       "</table>\n",
       "</div>"
      ],
      "text/plain": [
       "      ID                                 Question Stem  \\\n",
       "0  7-980                    The sun is responsible for   \n",
       "1  7-584  When standing miles away from Mount Rushmore   \n",
       "2  7-870           When food is reduced in the stomach   \n",
       "\n",
       "                                             Choices  \\\n",
       "0  (A) puppies learning new tricks (B) children g...   \n",
       "1  (A) the mountains seem very close (B) the moun...   \n",
       "2  (A) the mind needs time to digest (B) take a s...   \n",
       "\n",
       "                                   Complete Question Answer Key  \\\n",
       "0  The sun is responsible for (A) puppies learnin...          D   \n",
       "1  When standing miles away from Mount Rushmore (...          D   \n",
       "2  When food is reduced in the stomach (A) the mi...          C   \n",
       "\n",
       "                                           sentences  \\\n",
       "0  [\"A bee is a pollinating animal\", \"A bird is a...   \n",
       "1  [\"A bee is a pollinating animal\", \"A bird is a...   \n",
       "2  [\"A bee is a pollinating animal\", \"A bird is a...   \n",
       "\n",
       "                                           quest_emb  \\\n",
       "0  [[0.051545985, 0.03336649, -0.005079767, -0.00...   \n",
       "1  [[0.045675803, 0.026302924, -0.030445106, -0.0...   \n",
       "2  [[0.12085862, 0.0785711, 0.05753665, -0.025412...   \n",
       "\n",
       "                                            sent_emb  \n",
       "0  [[0.051334266, 0.032628123, 0.008248221, 0.062...  \n",
       "1  [[0.051334266, 0.032628123, 0.008248221, 0.062...  \n",
       "2  [[0.051334266, 0.032628123, 0.008248221, 0.062...  "
      ]
     },
     "execution_count": 19,
     "metadata": {},
     "output_type": "execute_result"
    }
   ],
   "source": [
    "train.head(3)"
   ]
  },
  {
   "cell_type": "code",
   "execution_count": 20,
   "metadata": {},
   "outputs": [
    {
     "data": {
      "text/plain": [
       "(4957, 8)"
      ]
     },
     "execution_count": 20,
     "metadata": {},
     "output_type": "execute_result"
    }
   ],
   "source": [
    "train.shape"
   ]
  },
  {
   "cell_type": "code",
   "execution_count": 21,
   "metadata": {
    "collapsed": true
   },
   "outputs": [],
   "source": [
    "train.dropna(inplace=True)"
   ]
  },
  {
   "cell_type": "code",
   "execution_count": 22,
   "metadata": {},
   "outputs": [
    {
     "data": {
      "text/html": [
       "<div>\n",
       "<style scoped>\n",
       "    .dataframe tbody tr th:only-of-type {\n",
       "        vertical-align: middle;\n",
       "    }\n",
       "\n",
       "    .dataframe tbody tr th {\n",
       "        vertical-align: top;\n",
       "    }\n",
       "\n",
       "    .dataframe thead th {\n",
       "        text-align: right;\n",
       "    }\n",
       "</style>\n",
       "<table border=\"1\" class=\"dataframe\">\n",
       "  <thead>\n",
       "    <tr style=\"text-align: right;\">\n",
       "      <th></th>\n",
       "      <th>ID</th>\n",
       "      <th>Question Stem</th>\n",
       "      <th>Choices</th>\n",
       "      <th>Complete Question</th>\n",
       "      <th>Answer Key</th>\n",
       "      <th>sentences</th>\n",
       "      <th>quest_emb</th>\n",
       "      <th>sent_emb</th>\n",
       "    </tr>\n",
       "  </thead>\n",
       "  <tbody>\n",
       "    <tr>\n",
       "      <th>0</th>\n",
       "      <td>7-980</td>\n",
       "      <td>The sun is responsible for</td>\n",
       "      <td>(A) puppies learning new tricks (B) children g...</td>\n",
       "      <td>The sun is responsible for (A) puppies learnin...</td>\n",
       "      <td>D</td>\n",
       "      <td>[\"A bee is a pollinating animal\", \"A bird is a...</td>\n",
       "      <td>[[0.051545985, 0.03336649, -0.005079767, -0.00...</td>\n",
       "      <td>[[0.051334266, 0.032628123, 0.008248221, 0.062...</td>\n",
       "    </tr>\n",
       "    <tr>\n",
       "      <th>1</th>\n",
       "      <td>7-584</td>\n",
       "      <td>When standing miles away from Mount Rushmore</td>\n",
       "      <td>(A) the mountains seem very close (B) the moun...</td>\n",
       "      <td>When standing miles away from Mount Rushmore (...</td>\n",
       "      <td>D</td>\n",
       "      <td>[\"A bee is a pollinating animal\", \"A bird is a...</td>\n",
       "      <td>[[0.045675803, 0.026302924, -0.030445106, -0.0...</td>\n",
       "      <td>[[0.051334266, 0.032628123, 0.008248221, 0.062...</td>\n",
       "    </tr>\n",
       "    <tr>\n",
       "      <th>2</th>\n",
       "      <td>7-870</td>\n",
       "      <td>When food is reduced in the stomach</td>\n",
       "      <td>(A) the mind needs time to digest (B) take a s...</td>\n",
       "      <td>When food is reduced in the stomach (A) the mi...</td>\n",
       "      <td>C</td>\n",
       "      <td>[\"A bee is a pollinating animal\", \"A bird is a...</td>\n",
       "      <td>[[0.12085862, 0.0785711, 0.05753665, -0.025412...</td>\n",
       "      <td>[[0.051334266, 0.032628123, 0.008248221, 0.062...</td>\n",
       "    </tr>\n",
       "    <tr>\n",
       "      <th>3</th>\n",
       "      <td>7-321</td>\n",
       "      <td>Stars are</td>\n",
       "      <td>(A) warm lights that float (B) made out of nit...</td>\n",
       "      <td>Stars are (A) warm lights that float (B) made ...</td>\n",
       "      <td>C</td>\n",
       "      <td>[\"A bee is a pollinating animal\", \"A bird is a...</td>\n",
       "      <td>[[0.05572503, -0.056643672, -0.020228773, -0.0...</td>\n",
       "      <td>[[0.051334266, 0.032628123, 0.008248221, 0.062...</td>\n",
       "    </tr>\n",
       "    <tr>\n",
       "      <th>4</th>\n",
       "      <td>9-732</td>\n",
       "      <td>You can make a telescope with a</td>\n",
       "      <td>(A) straw (B) Glass (C) Candle (D) mailing tube</td>\n",
       "      <td>You can make a telescope with a (A) straw (B) ...</td>\n",
       "      <td>D</td>\n",
       "      <td>[\"A bee is a pollinating animal\", \"A bird is a...</td>\n",
       "      <td>[[0.08625981, 0.028972307, 0.061029114, -0.020...</td>\n",
       "      <td>[[0.051334266, 0.032628123, 0.008248221, 0.062...</td>\n",
       "    </tr>\n",
       "    <tr>\n",
       "      <th>5</th>\n",
       "      <td>9-782</td>\n",
       "      <td>Poison causes harm to which of the following?</td>\n",
       "      <td>(A) a Tree (B) a robot (C) a house (D) a car</td>\n",
       "      <td>Poison causes harm to which of the following? ...</td>\n",
       "      <td>A</td>\n",
       "      <td>[\"A bee is a pollinating animal\", \"A bird is a...</td>\n",
       "      <td>[[0.06612222, 0.12482706, 0.1083512, -0.042983...</td>\n",
       "      <td>[[0.051334266, 0.032628123, 0.008248221, 0.062...</td>\n",
       "    </tr>\n",
       "    <tr>\n",
       "      <th>6</th>\n",
       "      <td>9-87</td>\n",
       "      <td>an inherited characteristic found on all mamma...</td>\n",
       "      <td>(A) nails (B) teeth (C) shoes (D) fur</td>\n",
       "      <td>an inherited characteristic found on all mamma...</td>\n",
       "      <td>D</td>\n",
       "      <td>[\"A bee is a pollinating animal\", \"A bird is a...</td>\n",
       "      <td>[[0.10247472, 0.11741416, 0.12547502, -0.03464...</td>\n",
       "      <td>[[0.051334266, 0.032628123, 0.008248221, 0.062...</td>\n",
       "    </tr>\n",
       "    <tr>\n",
       "      <th>7</th>\n",
       "      <td>155</td>\n",
       "      <td>What doesn't eliminate waste?</td>\n",
       "      <td>(A) plants (B) mushrooms (C) bacteria (D) robots</td>\n",
       "      <td>What doesn't eliminate waste? (A) plants (B) m...</td>\n",
       "      <td>D</td>\n",
       "      <td>[\"A bee is a pollinating animal\", \"A bird is a...</td>\n",
       "      <td>[[0.027517647, -0.0104107335, -0.010333556, -0...</td>\n",
       "      <td>[[0.051334266, 0.032628123, 0.008248221, 0.062...</td>\n",
       "    </tr>\n",
       "    <tr>\n",
       "      <th>8</th>\n",
       "      <td>1046</td>\n",
       "      <td>As a car approaches you in the night</td>\n",
       "      <td>(A) the headlights become more intense (B) the...</td>\n",
       "      <td>As a car approaches you in the night (A) the h...</td>\n",
       "      <td>A</td>\n",
       "      <td>[\"A bee is a pollinating animal\", \"A bird is a...</td>\n",
       "      <td>[[0.07863207, 0.09673026, 0.018998649, 0.06247...</td>\n",
       "      <td>[[0.051334266, 0.032628123, 0.008248221, 0.062...</td>\n",
       "    </tr>\n",
       "    <tr>\n",
       "      <th>9</th>\n",
       "      <td>7-637</td>\n",
       "      <td>When the weather changes as it does from Chris...</td>\n",
       "      <td>(A) the air may chill (B) the ground may freez...</td>\n",
       "      <td>When the weather changes as it does from Chris...</td>\n",
       "      <td>D</td>\n",
       "      <td>[\"A bee is a pollinating animal\", \"A bird is a...</td>\n",
       "      <td>[[0.06392588, 0.019071648, 0.13140805, 0.07327...</td>\n",
       "      <td>[[0.051334266, 0.032628123, 0.008248221, 0.062...</td>\n",
       "    </tr>\n",
       "  </tbody>\n",
       "</table>\n",
       "</div>"
      ],
      "text/plain": [
       "      ID                                      Question Stem  \\\n",
       "0  7-980                         The sun is responsible for   \n",
       "1  7-584       When standing miles away from Mount Rushmore   \n",
       "2  7-870                When food is reduced in the stomach   \n",
       "3  7-321                                          Stars are   \n",
       "4  9-732                    You can make a telescope with a   \n",
       "5  9-782      Poison causes harm to which of the following?   \n",
       "6   9-87  an inherited characteristic found on all mamma...   \n",
       "7    155                      What doesn't eliminate waste?   \n",
       "8   1046               As a car approaches you in the night   \n",
       "9  7-637  When the weather changes as it does from Chris...   \n",
       "\n",
       "                                             Choices  \\\n",
       "0  (A) puppies learning new tricks (B) children g...   \n",
       "1  (A) the mountains seem very close (B) the moun...   \n",
       "2  (A) the mind needs time to digest (B) take a s...   \n",
       "3  (A) warm lights that float (B) made out of nit...   \n",
       "4    (A) straw (B) Glass (C) Candle (D) mailing tube   \n",
       "5       (A) a Tree (B) a robot (C) a house (D) a car   \n",
       "6              (A) nails (B) teeth (C) shoes (D) fur   \n",
       "7   (A) plants (B) mushrooms (C) bacteria (D) robots   \n",
       "8  (A) the headlights become more intense (B) the...   \n",
       "9  (A) the air may chill (B) the ground may freez...   \n",
       "\n",
       "                                   Complete Question Answer Key  \\\n",
       "0  The sun is responsible for (A) puppies learnin...          D   \n",
       "1  When standing miles away from Mount Rushmore (...          D   \n",
       "2  When food is reduced in the stomach (A) the mi...          C   \n",
       "3  Stars are (A) warm lights that float (B) made ...          C   \n",
       "4  You can make a telescope with a (A) straw (B) ...          D   \n",
       "5  Poison causes harm to which of the following? ...          A   \n",
       "6  an inherited characteristic found on all mamma...          D   \n",
       "7  What doesn't eliminate waste? (A) plants (B) m...          D   \n",
       "8  As a car approaches you in the night (A) the h...          A   \n",
       "9  When the weather changes as it does from Chris...          D   \n",
       "\n",
       "                                           sentences  \\\n",
       "0  [\"A bee is a pollinating animal\", \"A bird is a...   \n",
       "1  [\"A bee is a pollinating animal\", \"A bird is a...   \n",
       "2  [\"A bee is a pollinating animal\", \"A bird is a...   \n",
       "3  [\"A bee is a pollinating animal\", \"A bird is a...   \n",
       "4  [\"A bee is a pollinating animal\", \"A bird is a...   \n",
       "5  [\"A bee is a pollinating animal\", \"A bird is a...   \n",
       "6  [\"A bee is a pollinating animal\", \"A bird is a...   \n",
       "7  [\"A bee is a pollinating animal\", \"A bird is a...   \n",
       "8  [\"A bee is a pollinating animal\", \"A bird is a...   \n",
       "9  [\"A bee is a pollinating animal\", \"A bird is a...   \n",
       "\n",
       "                                           quest_emb  \\\n",
       "0  [[0.051545985, 0.03336649, -0.005079767, -0.00...   \n",
       "1  [[0.045675803, 0.026302924, -0.030445106, -0.0...   \n",
       "2  [[0.12085862, 0.0785711, 0.05753665, -0.025412...   \n",
       "3  [[0.05572503, -0.056643672, -0.020228773, -0.0...   \n",
       "4  [[0.08625981, 0.028972307, 0.061029114, -0.020...   \n",
       "5  [[0.06612222, 0.12482706, 0.1083512, -0.042983...   \n",
       "6  [[0.10247472, 0.11741416, 0.12547502, -0.03464...   \n",
       "7  [[0.027517647, -0.0104107335, -0.010333556, -0...   \n",
       "8  [[0.07863207, 0.09673026, 0.018998649, 0.06247...   \n",
       "9  [[0.06392588, 0.019071648, 0.13140805, 0.07327...   \n",
       "\n",
       "                                            sent_emb  \n",
       "0  [[0.051334266, 0.032628123, 0.008248221, 0.062...  \n",
       "1  [[0.051334266, 0.032628123, 0.008248221, 0.062...  \n",
       "2  [[0.051334266, 0.032628123, 0.008248221, 0.062...  \n",
       "3  [[0.051334266, 0.032628123, 0.008248221, 0.062...  \n",
       "4  [[0.051334266, 0.032628123, 0.008248221, 0.062...  \n",
       "5  [[0.051334266, 0.032628123, 0.008248221, 0.062...  \n",
       "6  [[0.051334266, 0.032628123, 0.008248221, 0.062...  \n",
       "7  [[0.051334266, 0.032628123, 0.008248221, 0.062...  \n",
       "8  [[0.051334266, 0.032628123, 0.008248221, 0.062...  \n",
       "9  [[0.051334266, 0.032628123, 0.008248221, 0.062...  "
      ]
     },
     "execution_count": 22,
     "metadata": {},
     "output_type": "execute_result"
    }
   ],
   "source": [
    "train.head(10)"
   ]
  },
  {
   "cell_type": "markdown",
   "metadata": {},
   "source": [
    "## Predicted Cosine & Euclidean Index"
   ]
  },
  {
   "cell_type": "code",
   "execution_count": 23,
   "metadata": {
    "collapsed": true
   },
   "outputs": [],
   "source": [
    "def cosine_sim(x):\n",
    "    li = []\n",
    "    for item in x[\"sent_emb\"]:\n",
    "        li.append(spatial.distance.cosine(item,x[\"quest_emb\"][0]))\n",
    "    return li   "
   ]
  },
  {
   "cell_type": "code",
   "execution_count": 24,
   "metadata": {
    "collapsed": true
   },
   "outputs": [],
   "source": [
    "def pred_idx(distances):\n",
    "    return np.argmin(distances)   "
   ]
  },
  {
   "cell_type": "code",
   "execution_count": 25,
   "metadata": {
    "collapsed": true
   },
   "outputs": [],
   "source": [
    "def predictions(train):\n",
    "    \n",
    "    train[\"cosine_sim\"] = train.apply(cosine_sim, axis = 1)\n",
    "    train[\"diff\"] = (train[\"quest_emb\"] - train[\"sent_emb\"])**2\n",
    "    train[\"euclidean_dis\"] = train[\"diff\"].apply(lambda x: list(np.sum(x, axis = 1)))\n",
    "    del train[\"diff\"]\n",
    "    \n",
    "    print(\"cosine start\")\n",
    "    \n",
    "    train[\"pred_idx_cos\"] = train[\"cosine_sim\"].apply(lambda x: pred_idx(x))\n",
    "    train[\"pred_idx_euc\"] = train[\"euclidean_dis\"].apply(lambda x: pred_idx(x))\n",
    "    \n",
    "    return train\n",
    "    "
   ]
  },
  {
   "cell_type": "code",
   "execution_count": null,
   "metadata": {
    "collapsed": true
   },
   "outputs": [],
   "source": [
    "predicted = predictions(train)"
   ]
  },
  {
   "cell_type": "code",
   "execution_count": 71,
   "metadata": {},
   "outputs": [
    {
     "ename": "NameError",
     "evalue": "name 'predicted' is not defined",
     "output_type": "error",
     "traceback": [
      "\u001b[0;31m---------------------------------------------------------------------------\u001b[0m",
      "\u001b[0;31mNameError\u001b[0m                                 Traceback (most recent call last)",
      "\u001b[0;32m<ipython-input-71-a6cc8fb0b764>\u001b[0m in \u001b[0;36m<module>\u001b[0;34m()\u001b[0m\n\u001b[0;32m----> 1\u001b[0;31m \u001b[0mpredicted\u001b[0m\u001b[0;34m.\u001b[0m\u001b[0mhead\u001b[0m\u001b[0;34m(\u001b[0m\u001b[0;36m3\u001b[0m\u001b[0;34m)\u001b[0m\u001b[0;34m\u001b[0m\u001b[0m\n\u001b[0m",
      "\u001b[0;31mNameError\u001b[0m: name 'predicted' is not defined"
     ]
    }
   ],
   "source": [
    "predicted.head(3)"
   ]
  },
  {
   "cell_type": "code",
   "execution_count": 23,
   "metadata": {},
   "outputs": [
    {
     "data": {
      "text/plain": [
       "[0.424736299052452,\n",
       " 0.36405004106069117,\n",
       " 0.3477550016687636,\n",
       " 0.3942415731988862,\n",
       " 0.37102476524939887,\n",
       " 0.1856902254140269,\n",
       " 0.35192069116776403]"
      ]
     },
     "execution_count": 23,
     "metadata": {},
     "output_type": "execute_result"
    }
   ],
   "source": [
    "predicted[\"cosine_sim\"][0]"
   ]
  },
  {
   "cell_type": "code",
   "execution_count": 24,
   "metadata": {},
   "outputs": [
    {
     "data": {
      "text/plain": [
       "[14.563858, 15.262212, 17.398178, 14.272491, 13.339654, 9.336262, 15.720997]"
      ]
     },
     "execution_count": 24,
     "metadata": {},
     "output_type": "execute_result"
    }
   ],
   "source": [
    "predicted[\"euclidean_dis\"][0]"
   ]
  },
  {
   "cell_type": "markdown",
   "metadata": {},
   "source": [
    "## Accuracy"
   ]
  },
  {
   "cell_type": "code",
   "execution_count": 25,
   "metadata": {
    "collapsed": true
   },
   "outputs": [],
   "source": [
    "def accuracy(target, predicted):\n",
    "    \n",
    "    acc = (target==predicted).sum()/len(target)\n",
    "    \n",
    "    return acc"
   ]
  },
  {
   "cell_type": "markdown",
   "metadata": {},
   "source": [
    "### Accuracy for  euclidean Distance"
   ]
  },
  {
   "cell_type": "code",
   "execution_count": 26,
   "metadata": {},
   "outputs": [
    {
     "name": "stdout",
     "output_type": "stream",
     "text": [
      "0.44856046941711\n"
     ]
    }
   ],
   "source": [
    "print(accuracy(predicted[\"target\"], predicted[\"pred_idx_euc\"]))"
   ]
  },
  {
   "cell_type": "markdown",
   "metadata": {},
   "source": [
    "### Accuracy for Cosine Similarity"
   ]
  },
  {
   "cell_type": "code",
   "execution_count": 27,
   "metadata": {},
   "outputs": [
    {
     "name": "stdout",
     "output_type": "stream",
     "text": [
      "0.6338843352587958\n"
     ]
    }
   ],
   "source": [
    "print(accuracy(predicted[\"target\"], predicted[\"pred_idx_cos\"]))"
   ]
  },
  {
   "cell_type": "code",
   "execution_count": 44,
   "metadata": {
    "collapsed": true
   },
   "outputs": [],
   "source": [
    "predicted.to_csv(\"train_detect_sent.csv\", index=None)"
   ]
  },
  {
   "cell_type": "code",
   "execution_count": 34,
   "metadata": {},
   "outputs": [
    {
     "data": {
      "text/plain": [
       "answer_start                                                    69\n",
       "context          Both the vertical and dipole antennas are simp...\n",
       "question                             Are basic antennas expensive?\n",
       "text                                        relatively inexpensive\n",
       "sentences        [Both the vertical and dipole antennas are sim...\n",
       "target                                                           0\n",
       "sent_emb         [[0.06494937, 0.03690031, 0.12519251, -0.02735...\n",
       "quest_emb        [[0.031715073, 0.07947657, 0.030824697, 0.0126...\n",
       "cosine_sim       [0.359188584685867, 0.4689117244223153, 0.4489...\n",
       "euclidean_dis    [11.512397, 21.817242, 12.696278, 17.895185, 1...\n",
       "pred_idx_cos                                                     0\n",
       "pred_idx_euc                                                     0\n",
       "Name: 75208, dtype: object"
      ]
     },
     "execution_count": 34,
     "metadata": {},
     "output_type": "execute_result"
    }
   ],
   "source": [
    "predicted.iloc[75207,:]"
   ]
  },
  {
   "cell_type": "code",
   "execution_count": 38,
   "metadata": {
    "collapsed": true
   },
   "outputs": [],
   "source": [
    "ct,k = 0,0\n",
    "for i in range(predicted.shape[0]):\n",
    "    if predicted.iloc[i,10] != predicted.iloc[i,5]:\n",
    "        k += 1\n",
    "        if predicted.iloc[i,11] == predicted.iloc[i,5]:\n",
    "            ct += 1"
   ]
  },
  {
   "cell_type": "code",
   "execution_count": 39,
   "metadata": {},
   "outputs": [
    {
     "data": {
      "text/plain": [
       "(5545, 32071)"
      ]
     },
     "execution_count": 39,
     "metadata": {},
     "output_type": "execute_result"
    }
   ],
   "source": [
    "ct, k"
   ]
  },
  {
   "cell_type": "markdown",
   "metadata": {},
   "source": [
    "### Combining Accuracy"
   ]
  },
  {
   "cell_type": "code",
   "execution_count": 47,
   "metadata": {
    "collapsed": true
   },
   "outputs": [],
   "source": [
    "label = []\n",
    "for i in range(predicted.shape[0]):\n",
    "    if predicted.iloc[i,10] == predicted.iloc[i,11]:\n",
    "        label.append(predicted.iloc[i,10])\n",
    "    else:\n",
    "        label.append((predicted.iloc[i,10],predicted.iloc[i,10]))"
   ]
  },
  {
   "cell_type": "code",
   "execution_count": 66,
   "metadata": {
    "collapsed": true
   },
   "outputs": [],
   "source": [
    "ct = 0\n",
    "for i in range(75206):\n",
    "    item = predicted[\"target\"][i]\n",
    "    try:\n",
    "        if label[i] == predicted[\"target\"][i]: ct +=1\n",
    "    except:\n",
    "        if item in label[i]: ct +=1\n",
    "            "
   ]
  },
  {
   "cell_type": "code",
   "execution_count": 68,
   "metadata": {},
   "outputs": [
    {
     "data": {
      "text/plain": [
       "0.6370901257878361"
      ]
     },
     "execution_count": 68,
     "metadata": {},
     "output_type": "execute_result"
    }
   ],
   "source": [
    "ct/75206"
   ]
  },
  {
   "cell_type": "markdown",
   "metadata": {},
   "source": [
    "### Root Match"
   ]
  },
  {
   "cell_type": "code",
   "execution_count": 2,
   "metadata": {
    "collapsed": true
   },
   "outputs": [],
   "source": [
    "predicted = pd.read_csv(\"train_detect_sent.csv\").reset_index(drop=True)"
   ]
  },
  {
   "cell_type": "code",
   "execution_count": 39,
   "metadata": {
    "collapsed": true
   },
   "outputs": [],
   "source": [
    "doc = en_nlp(predicted.iloc[0,1])"
   ]
  },
  {
   "cell_type": "code",
   "execution_count": 40,
   "metadata": {},
   "outputs": [
    {
     "data": {
      "text/plain": [
       "'Architecturally, the school has a Catholic character. Atop the Main Building\\'s gold dome is a golden statue of the Virgin Mary. Immediately in front of the Main Building and facing it, is a copper statue of Christ with arms upraised with the legend \"Venite Ad Me Omnes\". Next to the Main Building is the Basilica of the Sacred Heart. Immediately behind the basilica is the Grotto, a Marian place of prayer and reflection. It is a replica of the grotto at Lourdes, France where the Virgin Mary reputedly appeared to Saint Bernadette Soubirous in 1858. At the end of the main drive (and in a direct line that connects through 3 statues and the Gold Dome), is a simple, modern stone statue of Mary.'"
      ]
     },
     "execution_count": 40,
     "metadata": {},
     "output_type": "execute_result"
    }
   ],
   "source": [
    "predicted.iloc[0,1]"
   ]
  },
  {
   "cell_type": "code",
   "execution_count": 49,
   "metadata": {},
   "outputs": [
    {
     "data": {
      "text/plain": [
       "'To whom did the Virgin Mary allegedly appear in 1858 in Lourdes France?'"
      ]
     },
     "execution_count": 49,
     "metadata": {},
     "output_type": "execute_result"
    }
   ],
   "source": [
    "predicted.iloc[0,2]"
   ]
  },
  {
   "cell_type": "code",
   "execution_count": 41,
   "metadata": {
    "collapsed": true
   },
   "outputs": [],
   "source": [
    "def to_nltk_tree(node):\n",
    "    if node.n_lefts + node.n_rights > 0:\n",
    "        return Tree(node.orth_, [to_nltk_tree(child) for child in node.children])\n",
    "    else:\n",
    "        return node.orth_"
   ]
  },
  {
   "cell_type": "code",
   "execution_count": 42,
   "metadata": {},
   "outputs": [
    {
     "name": "stdout",
     "output_type": "stream",
     "text": [
      "                  appear                             \n",
      "  __________________|____________________________     \n",
      " |      |      |    |         |           |      in  \n",
      " |      |      |    |         |           |      |    \n",
      " |      |      |    To       Mary         in   France\n",
      " |      |      |    |      ___|_____      |      |    \n",
      "did allegedly  ?   whom  the      Virgin 1858 Lourdes\n",
      "\n"
     ]
    },
    {
     "data": {
      "text/plain": [
       "[None]"
      ]
     },
     "execution_count": 42,
     "metadata": {},
     "output_type": "execute_result"
    }
   ],
   "source": [
    "[to_nltk_tree(sent.root).pretty_print()  for sent in en_nlp(predicted.iloc[0,2]).sents]"
   ]
  },
  {
   "cell_type": "code",
   "execution_count": 50,
   "metadata": {},
   "outputs": [
    {
     "name": "stdout",
     "output_type": "stream",
     "text": [
      "                    has                              \n",
      "        _____________|_________________               \n",
      "       |         |   |  school     character         \n",
      "       |         |   |    |      ______|________      \n",
      "Architecturally  ,   .   the    a            Catholic\n",
      "\n",
      "                            is                           \n",
      "  __________________________|________                     \n",
      " |           Atop                  statue                \n",
      " |            |                  ____|_________           \n",
      " |           dome               |    |         of        \n",
      " |    ________|______           |    |         |          \n",
      " |   |            Building      |    |        Mary       \n",
      " |   |     __________|______    |    |      ___|_____     \n",
      " .  gold the        Main    's  a  golden the      Virgin\n",
      "\n",
      "                                                  is                                                   \n",
      "  ________________________________________________|______________________                               \n",
      " |   |                   |                                             statue                          \n",
      " |   |                   |                         ______________________|_______                       \n",
      " |   |                   |                        |    |      |                 with                   \n",
      " |   |                   |                        |    |      |                  |                      \n",
      " |   |                   |                        |    |      |                 arms                   \n",
      " |   |                   |                        |    |      |                  |                      \n",
      " |   |                   in                       |    |      |               upraised                 \n",
      " |   |        ___________|__________________      |    |      |                  |                      \n",
      " |   |       |       |       front          |     |    |      |                 with                   \n",
      " |   |       |       |         |            |     |    |      |                  |                      \n",
      " |   |       |       |         of           |     |    |      |                legend                  \n",
      " |   |       |       |         |            |     |    |      |      ____________|______________        \n",
      " |   |       |       |      Building      facing  |    |      of    |    |       |            Omnes    \n",
      " |   |       |       |    _____|______      |     |    |      |     |    |       |        ______|____   \n",
      " ,   .  Immediately and the          Main   it    a  copper Christ the   \"       \"     Venite   Ad   Me\n",
      "\n",
      "                  is                           \n",
      "  ________________|__________                   \n",
      " |        Next            Basilica             \n",
      " |         |            _____|_______           \n",
      " |         to          |             of        \n",
      " |         |           |             |          \n",
      " |      Building       |           Heart       \n",
      " |    _____|______     |      _______|_____     \n",
      " .  the          Main the   the          Sacred\n",
      "\n",
      "                                     is                                    \n",
      "  ___________________________________|____                                  \n",
      " |                |                     Grotto                             \n",
      " |                |               ________|______                           \n",
      " |                |              |   |         place                       \n",
      " |                |              |   |     ______|__________                \n",
      " |              behind           |   |    |      |          of             \n",
      " |        ________|_______       |   |    |      |          |               \n",
      " |       |             basilica  |   |    |      |        prayer           \n",
      " |       |                |      |   |    |      |      ____|________       \n",
      " .  Immediately          the    the  ,    a    Marian and        reflection\n",
      "\n",
      "     is                                                                          \n",
      "  ___|_________                                                                   \n",
      " |   |      replica                                                              \n",
      " |   |    _____|______                                                            \n",
      " |   |   |            of                                                         \n",
      " |   |   |            |                                                           \n",
      " |   |   |          grotto                                                       \n",
      " |   |   |      ______|_______                                                    \n",
      " |   |   |     |              at                                                 \n",
      " |   |   |     |              |                                                   \n",
      " |   |   |     |           Lourdes                                               \n",
      " |   |   |     |       _______|_________________                                  \n",
      " |   |   |     |      |                       France                             \n",
      " |   |   |     |      |                         |                                 \n",
      " |   |   |     |      |                      appeared                            \n",
      " |   |   |     |      |        _________________|_____________________________    \n",
      " |   |   |     |      |       |        |               |              to      |  \n",
      " |   |   |     |      |       |        |               |              |       |   \n",
      " |   |   |     |      |       |        |               |          Soubirous   |  \n",
      " |   |   |     |      |       |        |               |              |       |   \n",
      " |   |   |     |      |       |        |              Mary        Bernadette  in \n",
      " |   |   |     |      |       |        |         ______|_____         |       |   \n",
      " It  .   a    the     ,     where  reputedly   the         Virgin   Saint    1858\n",
      "\n",
      "                                                   is                                                                    \n",
      "  _________________________________________________|_______________________________________________                       \n",
      " |   |   |   |       |                  in                                                         |                     \n",
      " |   |   |   |       |               ___|____                                                      |                      \n",
      " |   |   |   |       |              |       line                                                   |                     \n",
      " |   |   |   |       |              |    ____|____________                                         |                      \n",
      " |   |   |   |       At             |   |    |         connects                                    |                     \n",
      " |   |   |   |       |              |   |    |      ______|________                                |                      \n",
      " |   |   |   |      end             |   |    |     |            through                            |                     \n",
      " |   |   |   |    ___|____          |   |    |     |               |                               |                      \n",
      " |   |   |   |   |        of        |   |    |     |            statues                          statue                  \n",
      " |   |   |   |   |        |         |   |    |     |       ________|_________           ___________|__________________    \n",
      " |   |   |   |   |      drive       |   |    |     |      |        |        Dome       |    |      |      |      |    of \n",
      " |   |   |   |   |    ____|____     |   |    |     |      |        |      ___|____     |    |      |      |      |    |   \n",
      " (  and  ,   .  the the       main  )   a  direct that    3       and   the      Gold  a  simple   ,    modern stone Mary\n",
      "\n"
     ]
    }
   ],
   "source": [
    "[to_nltk_tree(sent.root) .pretty_print() for sent in doc.sents][5]"
   ]
  },
  {
   "cell_type": "code",
   "execution_count": 44,
   "metadata": {},
   "outputs": [
    {
     "name": "stdout",
     "output_type": "stream",
     "text": [
      "['has', 'has']\n",
      "['atop', 'is', 'of']\n",
      "['in', 'of', 'fac', 'is', 'of', 'with', 'with', 'legend']\n",
      "['to', 'is', 'of']\n",
      "['behind', 'is', 'grotto', 'of', 'pray']\n",
      "['is', 'is', 'of', 'at', 'lourd', 'appear', 'to']\n",
      "['at', 'of', 'in', 'through', 'statu', 'is', 'of']\n"
     ]
    }
   ],
   "source": [
    "for sent in doc.sents:\n",
    "    roots = [st.stem(chunk.root.head.text.lower()) for chunk in sent.noun_chunks]\n",
    "    print(roots)"
   ]
  },
  {
   "cell_type": "code",
   "execution_count": 45,
   "metadata": {
    "collapsed": true
   },
   "outputs": [],
   "source": [
    "def match_roots(x):\n",
    "    question = x[\"question\"].lower()\n",
    "    sentences = en_nlp(x[\"context\"].lower()).sents\n",
    "    \n",
    "    question_root = st.stem(str([sent.root for sent in en_nlp(question).sents][0]))\n",
    "    \n",
    "    li = []\n",
    "    for i,sent in enumerate(sentences):\n",
    "        roots = [st.stem(chunk.root.head.text.lower()) for chunk in sent.noun_chunks]\n",
    "\n",
    "        if question_root in roots: \n",
    "            for k,item in enumerate(ast.literal_eval(x[\"sentences\"])):\n",
    "                if str(sent) in item.lower(): \n",
    "                    li.append(k)\n",
    "    return li"
   ]
  },
  {
   "cell_type": "code",
   "execution_count": 46,
   "metadata": {},
   "outputs": [
    {
     "data": {
      "text/plain": [
       "'The end of what road was once home to Newgate Prison?'"
      ]
     },
     "execution_count": 46,
     "metadata": {},
     "output_type": "execute_result"
    }
   ],
   "source": [
    "predicted[\"question\"][21493]"
   ]
  },
  {
   "cell_type": "code",
   "execution_count": 47,
   "metadata": {},
   "outputs": [
    {
     "data": {
      "text/plain": [
       "\"10th Street (40°44′03″N 74°00′11″W\\ufeff / \\ufeff40.7342580°N 74.0029670°W\\ufeff / 40.7342580; -74.0029670) begins at the FDR Drive and Avenue C. West of Sixth Avenue, it turns southward about 40 degrees to join the Greenwich Village street grid and continue to West Street on the Hudson River. Because West 4th Street turns northward at Sixth Avenue, it intersects 10th, 11th and 12th and 13th Streets in the West Village. The M8 bus operates on 10th Street in both directions between Avenue D and Avenue A, and eastbound between West Street and Sixth Avenue. 10th Street has an eastbound bike lane from West Street to the East River. In 2009, the two-way section of 10th Street between Avenue A and the East River had bicycle markings and sharrows installed, but it still has no dedicated bike lane. West 10th Street was previously named Amos Street for Richard Amos. The end of West 10th Street toward the Hudson River was once the home of Newgate Prison, New York City's first prison and the United States' second.\""
      ]
     },
     "execution_count": 47,
     "metadata": {},
     "output_type": "execute_result"
    }
   ],
   "source": [
    "predicted[\"context\"][21493]"
   ]
  },
  {
   "cell_type": "code",
   "execution_count": 48,
   "metadata": {
    "collapsed": true
   },
   "outputs": [],
   "source": [
    "predicted[\"root_match_idx\"] = predicted.apply(match_roots, axis = 1)"
   ]
  },
  {
   "cell_type": "code",
   "execution_count": null,
   "metadata": {
    "collapsed": true
   },
   "outputs": [],
   "source": []
  },
  {
   "cell_type": "code",
   "execution_count": 51,
   "metadata": {
    "collapsed": true
   },
   "outputs": [],
   "source": [
    "predicted[\"root_match_idx_first\"]= predicted[\"root_match_idx\"].apply(lambda x: x[0] if len(x)>0 else 0)"
   ]
  },
  {
   "cell_type": "code",
   "execution_count": 52,
   "metadata": {},
   "outputs": [
    {
     "data": {
      "text/plain": [
       "0.3977488070503893"
      ]
     },
     "execution_count": 52,
     "metadata": {},
     "output_type": "execute_result"
    }
   ],
   "source": [
    "(predicted[\"root_match_idx_first\"]==predicted[\"target\"]).sum()/predicted.shape[0]"
   ]
  },
  {
   "cell_type": "code",
   "execution_count": 55,
   "metadata": {
    "collapsed": true
   },
   "outputs": [],
   "source": [
    "predicted.to_csv(\"train_detect_sent.csv\", index=None)"
   ]
  },
  {
   "cell_type": "code",
   "execution_count": 53,
   "metadata": {},
   "outputs": [
    {
     "data": {
      "text/html": [
       "<div>\n",
       "<style scoped>\n",
       "    .dataframe tbody tr th:only-of-type {\n",
       "        vertical-align: middle;\n",
       "    }\n",
       "\n",
       "    .dataframe tbody tr th {\n",
       "        vertical-align: top;\n",
       "    }\n",
       "\n",
       "    .dataframe thead th {\n",
       "        text-align: right;\n",
       "    }\n",
       "</style>\n",
       "<table border=\"1\" class=\"dataframe\">\n",
       "  <thead>\n",
       "    <tr style=\"text-align: right;\">\n",
       "      <th></th>\n",
       "      <th>answer_start</th>\n",
       "      <th>context</th>\n",
       "      <th>question</th>\n",
       "      <th>text</th>\n",
       "      <th>sentences</th>\n",
       "      <th>quest_emb</th>\n",
       "      <th>target</th>\n",
       "      <th>sent_emb</th>\n",
       "      <th>cosine_sim</th>\n",
       "      <th>euclidean_dis</th>\n",
       "      <th>pred_idx_cos</th>\n",
       "      <th>pred_idx_euc</th>\n",
       "      <th>root_match_idx</th>\n",
       "      <th>root_match_idx_first</th>\n",
       "    </tr>\n",
       "  </thead>\n",
       "  <tbody>\n",
       "  </tbody>\n",
       "</table>\n",
       "</div>"
      ],
      "text/plain": [
       "Empty DataFrame\n",
       "Columns: [answer_start, context, question, text, sentences, quest_emb, target, sent_emb, cosine_sim, euclidean_dis, pred_idx_cos, pred_idx_euc, root_match_idx, root_match_idx_first]\n",
       "Index: []"
      ]
     },
     "execution_count": 53,
     "metadata": {},
     "output_type": "execute_result"
    }
   ],
   "source": [
    "predicted[(predicted[\"sentences\"].apply(lambda x: len(ast.literal_eval(x)))<11) &  (predicted[\"root_match_idx_first\"]>10)]       \n",
    "\n"
   ]
  },
  {
   "cell_type": "code",
   "execution_count": 23,
   "metadata": {},
   "outputs": [
    {
     "data": {
      "text/plain": [
       "7"
      ]
     },
     "execution_count": 23,
     "metadata": {},
     "output_type": "execute_result"
    }
   ],
   "source": [
    "len(ast.literal_eval(predicted.iloc[21493,4]))"
   ]
  },
  {
   "cell_type": "code",
   "execution_count": 59,
   "metadata": {},
   "outputs": [
    {
     "name": "stdout",
     "output_type": "stream",
     "text": [
      "['street']\n",
      "['°']\n",
      "[]\n",
      "['°']\n",
      "['°', '°']\n",
      "[]\n",
      "['at', 'driv', 'of', 'turn', 'turn', 'join', 'west', 'on']\n",
      "['turn', 'at', 'intersect', 'intersect', 'in']\n",
      "['op', 'on', 'in', 'between', 'street']\n",
      "['has', 'has', 'from', 'to']\n",
      "['had', 'of', 'a', 'had', 'had', 'has', 'has']\n",
      "['nam']\n",
      "['was', 'of', 'toward', 'was', 'of', 'hom']\n"
     ]
    }
   ],
   "source": [
    "question = predicted[\"question\"][21493].lower()\n",
    "sentences = en_nlp(predicted[\"context\"][21493].lower()).sents\n",
    "    \n",
    "question_root = st.stem(str([sent.root for sent in en_nlp(question).sents][0]))\n",
    "    \n",
    "li = []\n",
    "for i,sent in enumerate(sentences):\n",
    "    roots = [st.stem(chunk.root.head.text.lower()) for chunk in sent.noun_chunks]\n",
    "    print(roots)\n",
    "\n",
    "    if question_root in roots: li.append(i)"
   ]
  },
  {
   "cell_type": "code",
   "execution_count": 4,
   "metadata": {},
   "outputs": [
    {
     "data": {
      "text/plain": [
       "['10th Street (40°44′03″N 74°00′11″W\\ufeff / \\ufeff40.7342580°N 74.0029670°W\\ufeff / 40.7342580; -74.0029670) begins at the FDR Drive and Avenue C. West of Sixth Avenue, it turns southward about 40 degrees to join the Greenwich Village street grid and continue to West Street on the Hudson River.',\n",
       " 'Because West 4th Street turns northward at Sixth Avenue, it intersects 10th, 11th and 12th and 13th Streets in the West Village.',\n",
       " 'The M8 bus operates on 10th Street in both directions between Avenue D and Avenue A, and eastbound between West Street and Sixth Avenue.',\n",
       " '10th Street has an eastbound bike lane from West Street to the East River.',\n",
       " 'In 2009, the two-way section of 10th Street between Avenue A and the East River had bicycle markings and sharrows installed, but it still has no dedicated bike lane.',\n",
       " 'West 10th Street was previously named Amos Street for Richard Amos.',\n",
       " \"The end of West 10th Street toward the Hudson River was once the home of Newgate Prison, New York City's first prison and the United States' second.\"]"
      ]
     },
     "execution_count": 4,
     "metadata": {},
     "output_type": "execute_result"
    }
   ],
   "source": [
    "ast.literal_eval(predicted[\"sentences\"][21493])"
   ]
  },
  {
   "cell_type": "code",
   "execution_count": 5,
   "metadata": {},
   "outputs": [
    {
     "data": {
      "text/plain": [
       "\"10th Street (40°44′03″N 74°00′11″W\\ufeff / \\ufeff40.7342580°N 74.0029670°W\\ufeff / 40.7342580; -74.0029670) begins at the FDR Drive and Avenue C. West of Sixth Avenue, it turns southward about 40 degrees to join the Greenwich Village street grid and continue to West Street on the Hudson River. Because West 4th Street turns northward at Sixth Avenue, it intersects 10th, 11th and 12th and 13th Streets in the West Village. The M8 bus operates on 10th Street in both directions between Avenue D and Avenue A, and eastbound between West Street and Sixth Avenue. 10th Street has an eastbound bike lane from West Street to the East River. In 2009, the two-way section of 10th Street between Avenue A and the East River had bicycle markings and sharrows installed, but it still has no dedicated bike lane. West 10th Street was previously named Amos Street for Richard Amos. The end of West 10th Street toward the Hudson River was once the home of Newgate Prison, New York City's first prison and the United States' second.\""
      ]
     },
     "execution_count": 5,
     "metadata": {},
     "output_type": "execute_result"
    }
   ],
   "source": [
    "predicted[\"context\"][21493]"
   ]
  },
  {
   "cell_type": "code",
   "execution_count": 14,
   "metadata": {
    "collapsed": true
   },
   "outputs": [],
   "source": [
    "en_nlp = spacy.load('en')\n",
    "sentences = en_nlp(predicted[\"context\"][21493].lower()).sents"
   ]
  },
  {
   "cell_type": "code",
   "execution_count": 15,
   "metadata": {},
   "outputs": [
    {
     "name": "stdout",
     "output_type": "stream",
     "text": [
      "10th street\n",
      "(40°44′03″n 74°00′11″w﻿\n",
      "/\n",
      "﻿40.7342580°n\n",
      "74.0029670°w﻿\n",
      "/ 40.7342580;\n",
      "-74.0029670) begins at the fdr drive and avenue c. west of sixth avenue, it turns southward about 40 degrees to join the greenwich village street grid and continue to west street on the hudson river.\n",
      "because west 4th street turns northward at sixth avenue, it intersects 10th, 11th and 12th and 13th streets in the west village.\n",
      "the m8 bus operates on 10th street in both directions between avenue d and avenue a, and eastbound between west street and sixth avenue.\n",
      "10th street has an eastbound bike lane from west street to the east river.\n",
      "in 2009, the two-way section of 10th street between avenue a and the east river had bicycle markings and sharrows installed, but it still has no dedicated bike lane.\n",
      "west 10th street was previously named amos street for richard amos.\n",
      "the end of west 10th street toward the hudson river was once the home of newgate prison, new york city's first prison and the united states' second.\n"
     ]
    }
   ],
   "source": [
    "for item in sentences:\n",
    "    print(item)"
   ]
  },
  {
   "cell_type": "code",
   "execution_count": null,
   "metadata": {
    "collapsed": true
   },
   "outputs": [],
   "source": []
  },
  {
   "cell_type": "code",
   "execution_count": 6,
   "metadata": {},
   "outputs": [
    {
     "data": {
      "text/plain": [
       "TfidfVectorizer(analyzer='word', binary=False, decode_error='strict',\n",
       "        dtype=<class 'numpy.int64'>, encoding='utf-8',\n",
       "        input='[\\'Architecturally, the school has a Catholic character.\\', \"Atop the Main Building\\'s gold dome is a golden statue of the Virgin Mary.\", \\'Immediately in front of the Main Building and facing it, is a copper statue of Christ with arms upraised with the legend \"Venite Ad Me Omnes\".\\', \\'Next ...ne that connects through 3 statues and the Gold Dome), is a simple, modern stone statue of Mary.\\']',\n",
       "        lowercase=True, max_df=1.0, max_features=None, min_df=1,\n",
       "        ngram_range=(1, 2), norm='l2', preprocessor=None, smooth_idf=True,\n",
       "        stop_words=None, strip_accents=None, sublinear_tf=False,\n",
       "        token_pattern='(?u)\\\\b\\\\w\\\\w+\\\\b', tokenizer=None, use_idf=True,\n",
       "        vocabulary=None)"
      ]
     },
     "execution_count": 6,
     "metadata": {},
     "output_type": "execute_result"
    }
   ],
   "source": [
    "TfidfVectorizer(predicted[\"sentences\"][0], ngram_range=(1,2))"
   ]
  },
  {
   "cell_type": "code",
   "execution_count": null,
   "metadata": {
    "collapsed": true
   },
   "outputs": [],
   "source": []
  },
  {
   "cell_type": "code",
   "execution_count": null,
   "metadata": {
    "collapsed": true
   },
   "outputs": [],
   "source": []
  },
  {
   "cell_type": "code",
   "execution_count": null,
   "metadata": {
    "collapsed": true
   },
   "outputs": [],
   "source": []
  },
  {
   "cell_type": "code",
   "execution_count": null,
   "metadata": {
    "collapsed": true
   },
   "outputs": [],
   "source": []
  },
  {
   "cell_type": "code",
   "execution_count": null,
   "metadata": {
    "collapsed": true
   },
   "outputs": [],
   "source": []
  },
  {
   "cell_type": "code",
   "execution_count": null,
   "metadata": {
    "collapsed": true
   },
   "outputs": [],
   "source": []
  },
  {
   "cell_type": "code",
   "execution_count": null,
   "metadata": {
    "collapsed": true
   },
   "outputs": [],
   "source": []
  },
  {
   "cell_type": "code",
   "execution_count": null,
   "metadata": {
    "collapsed": true
   },
   "outputs": [],
   "source": []
  },
  {
   "cell_type": "code",
   "execution_count": null,
   "metadata": {
    "collapsed": true
   },
   "outputs": [],
   "source": []
  },
  {
   "cell_type": "code",
   "execution_count": null,
   "metadata": {
    "collapsed": true
   },
   "outputs": [],
   "source": []
  },
  {
   "cell_type": "code",
   "execution_count": null,
   "metadata": {
    "collapsed": true
   },
   "outputs": [],
   "source": []
  },
  {
   "cell_type": "code",
   "execution_count": null,
   "metadata": {
    "collapsed": true
   },
   "outputs": [],
   "source": []
  },
  {
   "cell_type": "code",
   "execution_count": null,
   "metadata": {
    "collapsed": true
   },
   "outputs": [],
   "source": []
  },
  {
   "cell_type": "code",
   "execution_count": null,
   "metadata": {
    "collapsed": true
   },
   "outputs": [],
   "source": []
  },
  {
   "cell_type": "code",
   "execution_count": null,
   "metadata": {
    "collapsed": true
   },
   "outputs": [],
   "source": []
  }
 ],
 "metadata": {
  "hide_input": false,
  "kernelspec": {
   "display_name": "conda_pytorch_p36",
   "language": "python",
   "name": "conda_pytorch_p36"
  },
  "language_info": {
   "codemirror_mode": {
    "name": "ipython",
    "version": 3
   },
   "file_extension": ".py",
   "mimetype": "text/x-python",
   "name": "python",
   "nbconvert_exporter": "python",
   "pygments_lexer": "ipython3",
   "version": "3.6.5"
  }
 },
 "nbformat": 4,
 "nbformat_minor": 2
}
